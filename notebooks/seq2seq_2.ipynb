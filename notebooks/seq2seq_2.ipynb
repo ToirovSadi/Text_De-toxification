{
 "cells": [
  {
   "cell_type": "code",
   "execution_count": 1,
   "id": "3f55b4fd-f102-4240-909e-930bac4c4683",
   "metadata": {},
   "outputs": [],
   "source": [
    "LOAD_MODEL = 'models/seq2seq_2.01.pt'\n",
    "MODEL_CHECKPOINT = 'models/seq2seq_2.01.pt'\n",
    "DATASET_PATH = 'data/interim/preprocessed_paranmt.tsv'"
   ]
  },
  {
   "cell_type": "code",
   "execution_count": 2,
   "id": "40068414-5b9f-4586-bcdb-470c3efb7c20",
   "metadata": {},
   "outputs": [],
   "source": [
    "import torch\n",
    "import numpy as np\n",
    "from torch.utils.data import DataLoader\n",
    "\n",
    "import os\n",
    "os.chdir(\"..\") # go to the root dir"
   ]
  },
  {
   "cell_type": "markdown",
   "id": "cf16aec9-3a08-4294-a90e-0fba120ccfde",
   "metadata": {},
   "source": [
    "# Get the Dataset"
   ]
  },
  {
   "cell_type": "code",
   "execution_count": 3,
   "id": "e44e86ca-4ca7-4594-9ce7-3dc4c457cf1c",
   "metadata": {},
   "outputs": [],
   "source": [
    "MAX_SENT_SIZE = 10\n",
    "MAX_TOKENS = 8_000"
   ]
  },
  {
   "cell_type": "code",
   "execution_count": 4,
   "id": "7abeadd3-8c26-4b70-987b-be5e16ebdf6d",
   "metadata": {},
   "outputs": [],
   "source": [
    "from src.data.make_dataset import ParanmtDataset\n",
    "\n",
    "train_dataset = ParanmtDataset(\n",
    "    path=DATASET_PATH,\n",
    "    max_sent_size=MAX_SENT_SIZE,\n",
    "    train=True,\n",
    "    seed=42,\n",
    ")"
   ]
  },
  {
   "cell_type": "code",
   "execution_count": 5,
   "id": "e9ae95c9-af8b-4d30-a1e6-633cf41d5641",
   "metadata": {},
   "outputs": [],
   "source": [
    "train_dataset.build_vocab(\n",
    "    min_freq=2,\n",
    "    specials=['<unk>', '<pad>', '<sos>', '<eos>'],\n",
    "    max_tokens=MAX_TOKENS,\n",
    ")"
   ]
  },
  {
   "cell_type": "code",
   "execution_count": 6,
   "id": "4f9475a6-7517-48ac-a33d-b3db03c0dafb",
   "metadata": {},
   "outputs": [
    {
     "name": "stdout",
     "output_type": "stream",
     "text": [
      "size of encoder vocab: 8000\n",
      "size of decoder vocab: 8000\n"
     ]
    }
   ],
   "source": [
    "enc_vocab = train_dataset.toxic_vocab\n",
    "dec_vocab = train_dataset.neutral_vocab\n",
    "\n",
    "print(\"size of encoder vocab:\", len(enc_vocab))\n",
    "print(\"size of decoder vocab:\", len(dec_vocab))"
   ]
  },
  {
   "cell_type": "code",
   "execution_count": 7,
   "id": "1c1b8e3e-a586-4ed7-96c9-b9b98e983a1a",
   "metadata": {},
   "outputs": [],
   "source": [
    "val_dataset = ParanmtDataset(\n",
    "    path=DATASET_PATH,\n",
    "    max_sent_size=MAX_SENT_SIZE,\n",
    "    vocabs=(enc_vocab, dec_vocab), # avoid data leakage\n",
    "    train=False,\n",
    "    seed=42,\n",
    "    take_first=10_000,\n",
    ")"
   ]
  },
  {
   "cell_type": "code",
   "execution_count": 8,
   "id": "88e98520-9f4a-439e-ab9d-6db44cfe64bd",
   "metadata": {},
   "outputs": [
    {
     "data": {
      "text/html": [
       "<div>\n",
       "<style scoped>\n",
       "    .dataframe tbody tr th:only-of-type {\n",
       "        vertical-align: middle;\n",
       "    }\n",
       "\n",
       "    .dataframe tbody tr th {\n",
       "        vertical-align: top;\n",
       "    }\n",
       "\n",
       "    .dataframe thead th {\n",
       "        text-align: right;\n",
       "    }\n",
       "</style>\n",
       "<table border=\"1\" class=\"dataframe\">\n",
       "  <thead>\n",
       "    <tr style=\"text-align: right;\">\n",
       "      <th></th>\n",
       "      <th>similarity</th>\n",
       "      <th>lenght_diff</th>\n",
       "      <th>toxic_sent</th>\n",
       "      <th>neutral_sent</th>\n",
       "      <th>toxic_val</th>\n",
       "      <th>neutral_val</th>\n",
       "    </tr>\n",
       "  </thead>\n",
       "  <tbody>\n",
       "    <tr>\n",
       "      <th>0</th>\n",
       "      <td>0.708038</td>\n",
       "      <td>0.171429</td>\n",
       "      <td>[what, the, hell, i, danger, looking, at, ?]</td>\n",
       "      <td>[what, the, hell, is, safe, watch, ?]</td>\n",
       "      <td>0.888703</td>\n",
       "      <td>0.130954</td>\n",
       "    </tr>\n",
       "    <tr>\n",
       "      <th>1</th>\n",
       "      <td>0.606822</td>\n",
       "      <td>0.238095</td>\n",
       "      <td>[lisa, ,, hit, him, again, .]</td>\n",
       "      <td>[lisa, ,, one, more, .]</td>\n",
       "      <td>0.957538</td>\n",
       "      <td>0.000053</td>\n",
       "    </tr>\n",
       "    <tr>\n",
       "      <th>2</th>\n",
       "      <td>0.719271</td>\n",
       "      <td>0.051282</td>\n",
       "      <td>[what, are, you, doing, with, that, hooker, ?]</td>\n",
       "      <td>[what, are, you, doing, with, that, outsider, ?]</td>\n",
       "      <td>0.998877</td>\n",
       "      <td>0.000056</td>\n",
       "    </tr>\n",
       "    <tr>\n",
       "      <th>3</th>\n",
       "      <td>0.821008</td>\n",
       "      <td>0.047619</td>\n",
       "      <td>[we, are, going, to, hit, him, !]</td>\n",
       "      <td>[it, is, going, to, hit, !]</td>\n",
       "      <td>0.997299</td>\n",
       "      <td>0.014387</td>\n",
       "    </tr>\n",
       "    <tr>\n",
       "      <th>4</th>\n",
       "      <td>0.725030</td>\n",
       "      <td>0.096774</td>\n",
       "      <td>[i, do, not, fucking, believe, it, !]</td>\n",
       "      <td>[i, do, not, freaking, believe, it]</td>\n",
       "      <td>0.957814</td>\n",
       "      <td>0.056393</td>\n",
       "    </tr>\n",
       "    <tr>\n",
       "      <th>...</th>\n",
       "      <td>...</td>\n",
       "      <td>...</td>\n",
       "      <td>...</td>\n",
       "      <td>...</td>\n",
       "      <td>...</td>\n",
       "      <td>...</td>\n",
       "    </tr>\n",
       "    <tr>\n",
       "      <th>157735</th>\n",
       "      <td>0.827812</td>\n",
       "      <td>0.200000</td>\n",
       "      <td>[I, will, make, you, fall, !]</td>\n",
       "      <td>[I, am, going, to, fall, !]</td>\n",
       "      <td>0.590488</td>\n",
       "      <td>0.006672</td>\n",
       "    </tr>\n",
       "    <tr>\n",
       "      <th>157736</th>\n",
       "      <td>0.625040</td>\n",
       "      <td>0.333333</td>\n",
       "      <td>[i, fucking, my, girlfriend, .]</td>\n",
       "      <td>[satisfying, my, girl, behind, my, back, .]</td>\n",
       "      <td>0.999578</td>\n",
       "      <td>0.029578</td>\n",
       "    </tr>\n",
       "    <tr>\n",
       "      <th>157737</th>\n",
       "      <td>0.815115</td>\n",
       "      <td>0.041667</td>\n",
       "      <td>[he, is, going, to, shoot, again, .]</td>\n",
       "      <td>[he, is, going, to, fire, again, .]</td>\n",
       "      <td>0.989201</td>\n",
       "      <td>0.008294</td>\n",
       "    </tr>\n",
       "    <tr>\n",
       "      <th>157738</th>\n",
       "      <td>0.866068</td>\n",
       "      <td>0.037037</td>\n",
       "      <td>[oh, ,, mars, solid, ,, you, stink, .]</td>\n",
       "      <td>[oh, ,, mars, solid, ,, you, smell, .]</td>\n",
       "      <td>0.999077</td>\n",
       "      <td>0.072257</td>\n",
       "    </tr>\n",
       "    <tr>\n",
       "      <th>157739</th>\n",
       "      <td>0.870897</td>\n",
       "      <td>0.137931</td>\n",
       "      <td>[you, going, to, beat, up, everybody, ?]</td>\n",
       "      <td>[you, going, to, beat, them, all, ?]</td>\n",
       "      <td>0.978554</td>\n",
       "      <td>0.018835</td>\n",
       "    </tr>\n",
       "  </tbody>\n",
       "</table>\n",
       "<p>157740 rows × 6 columns</p>\n",
       "</div>"
      ],
      "text/plain": [
       "        similarity  lenght_diff  \\\n",
       "0         0.708038     0.171429   \n",
       "1         0.606822     0.238095   \n",
       "2         0.719271     0.051282   \n",
       "3         0.821008     0.047619   \n",
       "4         0.725030     0.096774   \n",
       "...            ...          ...   \n",
       "157735    0.827812     0.200000   \n",
       "157736    0.625040     0.333333   \n",
       "157737    0.815115     0.041667   \n",
       "157738    0.866068     0.037037   \n",
       "157739    0.870897     0.137931   \n",
       "\n",
       "                                            toxic_sent  \\\n",
       "0         [what, the, hell, i, danger, looking, at, ?]   \n",
       "1                        [lisa, ,, hit, him, again, .]   \n",
       "2       [what, are, you, doing, with, that, hooker, ?]   \n",
       "3                    [we, are, going, to, hit, him, !]   \n",
       "4                [i, do, not, fucking, believe, it, !]   \n",
       "...                                                ...   \n",
       "157735                   [I, will, make, you, fall, !]   \n",
       "157736                 [i, fucking, my, girlfriend, .]   \n",
       "157737            [he, is, going, to, shoot, again, .]   \n",
       "157738          [oh, ,, mars, solid, ,, you, stink, .]   \n",
       "157739        [you, going, to, beat, up, everybody, ?]   \n",
       "\n",
       "                                            neutral_sent  toxic_val  \\\n",
       "0                  [what, the, hell, is, safe, watch, ?]   0.888703   \n",
       "1                                [lisa, ,, one, more, .]   0.957538   \n",
       "2       [what, are, you, doing, with, that, outsider, ?]   0.998877   \n",
       "3                            [it, is, going, to, hit, !]   0.997299   \n",
       "4                    [i, do, not, freaking, believe, it]   0.957814   \n",
       "...                                                  ...        ...   \n",
       "157735                       [I, am, going, to, fall, !]   0.590488   \n",
       "157736       [satisfying, my, girl, behind, my, back, .]   0.999578   \n",
       "157737               [he, is, going, to, fire, again, .]   0.989201   \n",
       "157738            [oh, ,, mars, solid, ,, you, smell, .]   0.999077   \n",
       "157739              [you, going, to, beat, them, all, ?]   0.978554   \n",
       "\n",
       "        neutral_val  \n",
       "0          0.130954  \n",
       "1          0.000053  \n",
       "2          0.000056  \n",
       "3          0.014387  \n",
       "4          0.056393  \n",
       "...             ...  \n",
       "157735     0.006672  \n",
       "157736     0.029578  \n",
       "157737     0.008294  \n",
       "157738     0.072257  \n",
       "157739     0.018835  \n",
       "\n",
       "[157740 rows x 6 columns]"
      ]
     },
     "execution_count": 8,
     "metadata": {},
     "output_type": "execute_result"
    }
   ],
   "source": [
    "train_dataset.df"
   ]
  },
  {
   "cell_type": "code",
   "execution_count": 9,
   "id": "b6952c83-54f7-40e6-a037-271dff3c5f43",
   "metadata": {},
   "outputs": [
    {
     "data": {
      "text/plain": [
       "(157740, 10000)"
      ]
     },
     "execution_count": 9,
     "metadata": {},
     "output_type": "execute_result"
    }
   ],
   "source": [
    "len(train_dataset), len(val_dataset)"
   ]
  },
  {
   "cell_type": "markdown",
   "id": "1dd8b060-2108-4d18-865c-f9de2ae7969c",
   "metadata": {},
   "source": [
    "## Build the Dataloaders"
   ]
  },
  {
   "cell_type": "code",
   "execution_count": 10,
   "id": "7f82c34f-8f03-45ae-8eae-02dd2759bf24",
   "metadata": {},
   "outputs": [],
   "source": [
    "batch_size = 128"
   ]
  },
  {
   "cell_type": "code",
   "execution_count": 11,
   "id": "cad94d9c-7a1f-4ddb-b4a9-1647ab9951bb",
   "metadata": {},
   "outputs": [],
   "source": [
    "train_dataloader = DataLoader(\n",
    "    train_dataset,\n",
    "    batch_size=batch_size,\n",
    "    shuffle=True,\n",
    "    num_workers=4,\n",
    ")\n",
    "\n",
    "val_dataloader = DataLoader(\n",
    "    val_dataset,\n",
    "    batch_size=batch_size,\n",
    "    shuffle=False,\n",
    "    num_workers=4,\n",
    ")"
   ]
  },
  {
   "cell_type": "code",
   "execution_count": 12,
   "id": "7953a61f-64c0-49a3-9fda-f64e80861fa0",
   "metadata": {},
   "outputs": [
    {
     "name": "stdout",
     "output_type": "stream",
     "text": [
      "toxic_sent.shape: torch.Size([128, 10])\n",
      "neutral_sent.shape: torch.Size([128, 10])\n"
     ]
    }
   ],
   "source": [
    "# let's check if shape and everything is ok\n",
    "for batch in train_dataloader:\n",
    "    toxic_sent, neutral_sent = batch\n",
    "    print(\"toxic_sent.shape:\", toxic_sent.shape)\n",
    "    print(\"neutral_sent.shape:\", neutral_sent.shape)\n",
    "    break"
   ]
  },
  {
   "cell_type": "code",
   "execution_count": 13,
   "id": "dca808e2-529f-4c8e-b035-3b03ec7d053d",
   "metadata": {},
   "outputs": [
    {
     "data": {
      "text/plain": [
       "device(type='cuda')"
      ]
     },
     "execution_count": 13,
     "metadata": {},
     "output_type": "execute_result"
    }
   ],
   "source": [
    "device = torch.device('cuda' if torch.cuda.is_available() else 'cpu')\n",
    "device"
   ]
  },
  {
   "cell_type": "markdown",
   "id": "fc46dfbe-d834-48e7-ad09-c49c2a676386",
   "metadata": {},
   "source": [
    "# Load the Model\n",
    "\n",
    "- Simple EncoderDecoder (Seq2Seq) architerture\n",
    "- a little trick was used (every time the decoder carries with it context vector from the encoder)"
   ]
  },
  {
   "cell_type": "code",
   "execution_count": 14,
   "id": "08d88aaa-7e97-411f-9164-4bdbfae09a6a",
   "metadata": {},
   "outputs": [],
   "source": [
    "from src.models.seq2seq.encoder import Encoder\n",
    "from src.models.seq2seq.decoder2 import Decoder2 # NOTE: using different Decoder than first notebook\n",
    "from src.models.seq2seq import Seq2Seq"
   ]
  },
  {
   "cell_type": "code",
   "execution_count": 15,
   "id": "451a159a-dae5-487c-be50-c87b7407add1",
   "metadata": {},
   "outputs": [],
   "source": [
    "INPUT_DIM = len(enc_vocab)\n",
    "OUTPUT_DIM = len(dec_vocab)\n",
    "EMBED_DIM = 256\n",
    "NUM_HIDDEN = 512\n",
    "N_LAYERS = 1\n",
    "DROPOUT = 0.5\n",
    "ENC_PADDING_IDX = enc_vocab['<pad>']\n",
    "DEC_PADDING_IDX = dec_vocab['<pad>']"
   ]
  },
  {
   "cell_type": "code",
   "execution_count": 16,
   "id": "5b48dfdf-ba48-477c-ac62-2c512a69d86f",
   "metadata": {},
   "outputs": [],
   "source": [
    "# load the encoder and decoder for our model\n",
    "encoder = Encoder(\n",
    "    input_dim=INPUT_DIM,\n",
    "    embed_dim=EMBED_DIM,\n",
    "    hidden_dim=NUM_HIDDEN,\n",
    "    num_layers=N_LAYERS,\n",
    "    dropout=DROPOUT,\n",
    "    vocab=enc_vocab,\n",
    "    padding_idx=ENC_PADDING_IDX\n",
    ").to(device)\n",
    "\n",
    "decoder = Decoder2(\n",
    "    output_dim=OUTPUT_DIM,\n",
    "    embed_dim=EMBED_DIM,\n",
    "    hidden_dim=NUM_HIDDEN,\n",
    "    num_layers=N_LAYERS,\n",
    "    dropout=DROPOUT,\n",
    "    vocab=dec_vocab,\n",
    "    padding_idx=DEC_PADDING_IDX\n",
    ").to(device)"
   ]
  },
  {
   "cell_type": "code",
   "execution_count": 17,
   "id": "fb68fa7c-f8ee-4667-9b20-a638de4fe311",
   "metadata": {},
   "outputs": [],
   "source": [
    "best_loss = float('inf')\n",
    "\n",
    "model = Seq2Seq(\n",
    "    encoder=encoder,\n",
    "    decoder=decoder,\n",
    "    device=device,\n",
    "    max_sent_size=MAX_SENT_SIZE,\n",
    ").to(device)"
   ]
  },
  {
   "cell_type": "code",
   "execution_count": 18,
   "id": "edbb2267-04cd-4690-97ad-072c94b2bd3b",
   "metadata": {},
   "outputs": [
    {
     "name": "stdout",
     "output_type": "stream",
     "text": [
      "number of parameters in model: 18.0M\n"
     ]
    }
   ],
   "source": [
    "from src.models.utils import count_parameters\n",
    "\n",
    "print(f\"number of parameters in model: {count_parameters(model)//1e6}M\")"
   ]
  },
  {
   "cell_type": "code",
   "execution_count": 19,
   "id": "088f446e-d95e-4812-949d-a3a5eb20ab6c",
   "metadata": {},
   "outputs": [],
   "source": [
    "optimizer = torch.optim.AdamW(model.parameters(), lr=1e-3)\n",
    "criterion = torch.nn.CrossEntropyLoss(ignore_index=dec_vocab['<pad>'])"
   ]
  },
  {
   "cell_type": "code",
   "execution_count": 20,
   "id": "ae355174-b99f-403c-b926-def9bd694c4b",
   "metadata": {},
   "outputs": [
    {
     "name": "stderr",
     "output_type": "stream",
     "text": [
      "Training 1: 100%|██████████| 1233/1233 [00:37<00:00, 33.05it/s, loss=3.26]\n",
      "Evaluating 1: 100%|██████████| 79/79 [00:00<00:00, 87.10it/s, loss=3.55] \n",
      "Training 2: 100%|██████████| 1233/1233 [00:37<00:00, 33.24it/s, loss=2.42]\n",
      "Evaluating 2: 100%|██████████| 79/79 [00:00<00:00, 85.75it/s, loss=3.33] \n",
      "Training 3: 100%|██████████| 1233/1233 [00:37<00:00, 33.24it/s, loss=2.11]\n",
      "Evaluating 3: 100%|██████████| 79/79 [00:00<00:00, 90.26it/s, loss=3.32] \n",
      "Training 4: 100%|██████████| 1233/1233 [00:37<00:00, 33.11it/s, loss=1.9]\n",
      "Evaluating 4: 100%|██████████| 79/79 [00:00<00:00, 86.37it/s, loss=3.28] \n",
      "Training 5: 100%|██████████| 1233/1233 [00:37<00:00, 33.05it/s, loss=1.75]\n",
      "Evaluating 5: 100%|██████████| 79/79 [00:00<00:00, 85.26it/s, loss=3.27] \n",
      "Training 6: 100%|██████████| 1233/1233 [00:37<00:00, 33.01it/s, loss=1.66]\n",
      "Evaluating 6: 100%|██████████| 79/79 [00:00<00:00, 89.68it/s, loss=3.33] \n",
      "Training 7: 100%|██████████| 1233/1233 [00:37<00:00, 33.18it/s, loss=1.58]\n",
      "Evaluating 7: 100%|██████████| 79/79 [00:00<00:00, 87.00it/s, loss=3.31] \n",
      "Training 8: 100%|██████████| 1233/1233 [00:37<00:00, 33.05it/s, loss=1.51]\n",
      "Evaluating 8: 100%|██████████| 79/79 [00:00<00:00, 88.51it/s, loss=3.3]  \n",
      "Training 9: 100%|██████████| 1233/1233 [00:37<00:00, 32.85it/s, loss=1.44]\n",
      "Evaluating 9: 100%|██████████| 79/79 [00:00<00:00, 87.27it/s, loss=3.35] \n",
      "Training 10: 100%|██████████| 1233/1233 [00:37<00:00, 32.99it/s, loss=1.39]\n",
      "Evaluating 10: 100%|██████████| 79/79 [00:00<00:00, 87.60it/s, loss=3.42] \n",
      "Training 11: 100%|██████████| 1233/1233 [00:37<00:00, 33.25it/s, loss=1.35]\n",
      "Evaluating 11: 100%|██████████| 79/79 [00:00<00:00, 89.89it/s, loss=3.39] \n",
      "Training 12: 100%|██████████| 1233/1233 [00:37<00:00, 33.02it/s, loss=1.31]\n",
      "Evaluating 12: 100%|██████████| 79/79 [00:00<00:00, 88.36it/s, loss=3.4]  \n",
      "Training 13: 100%|██████████| 1233/1233 [00:37<00:00, 32.86it/s, loss=1.28]\n",
      "Evaluating 13: 100%|██████████| 79/79 [00:00<00:00, 88.78it/s, loss=3.43] \n",
      "Training 14: 100%|██████████| 1233/1233 [00:37<00:00, 33.21it/s, loss=1.24]\n",
      "Evaluating 14: 100%|██████████| 79/79 [00:00<00:00, 86.92it/s, loss=3.45] \n",
      "Training 15: 100%|██████████| 1233/1233 [00:37<00:00, 33.15it/s, loss=1.21]\n",
      "Evaluating 15: 100%|██████████| 79/79 [00:00<00:00, 86.89it/s, loss=3.49] \n",
      "Training 16: 100%|██████████| 1233/1233 [00:37<00:00, 33.06it/s, loss=1.18]\n",
      "Evaluating 16: 100%|██████████| 79/79 [00:00<00:00, 85.99it/s, loss=3.52] \n",
      "Training 17: 100%|██████████| 1233/1233 [00:37<00:00, 33.09it/s, loss=1.16]\n",
      "Evaluating 17: 100%|██████████| 79/79 [00:00<00:00, 86.31it/s, loss=3.5]  \n",
      "Training 18: 100%|██████████| 1233/1233 [00:37<00:00, 33.08it/s, loss=1.13]\n",
      "Evaluating 18: 100%|██████████| 79/79 [00:00<00:00, 88.26it/s, loss=3.54] \n",
      "Training 19: 100%|██████████| 1233/1233 [00:37<00:00, 33.16it/s, loss=1.09]\n",
      "Evaluating 19: 100%|██████████| 79/79 [00:00<00:00, 87.72it/s, loss=3.57] \n",
      "Training 20: 100%|██████████| 1233/1233 [00:37<00:00, 33.13it/s, loss=1.07]\n",
      "Evaluating 20: 100%|██████████| 79/79 [00:00<00:00, 88.54it/s, loss=3.6]  \n"
     ]
    }
   ],
   "source": [
    "from src.models.train_model import train\n",
    "\n",
    "best_loss = train(\n",
    "    model=model,\n",
    "    loaders=(train_dataloader, val_dataloader),\n",
    "    optimizer=optimizer,\n",
    "    criterion=criterion,\n",
    "    epochs=20,\n",
    "    device=device,\n",
    "    best_loss=best_loss,\n",
    "    ckpt_path=MODEL_CHECKPOINT,\n",
    "    clip_grad=1,\n",
    "    teacher_force={\n",
    "        'value': 0.8,\n",
    "        'gamma': 1.0,\n",
    "        'update_every_n_epoch': 50,\n",
    "    } # first 5 epoch teacher force 1, after it will be turned off\n",
    ")"
   ]
  },
  {
   "cell_type": "code",
   "execution_count": 21,
   "id": "7dc1b6ad-901d-4582-84c8-79ba34fdcebc",
   "metadata": {},
   "outputs": [
    {
     "data": {
      "text/plain": [
       "Seq2Seq(\n",
       "  (encoder): Encoder(\n",
       "    (vocab): Vocab()\n",
       "    (embedding): Embedding(8000, 256, padding_idx=1)\n",
       "    (rnn): LSTM(256, 512, batch_first=True)\n",
       "    (dropout): Dropout(p=0.5, inplace=False)\n",
       "  )\n",
       "  (decoder): Decoder2(\n",
       "    (embedding): Embedding(8000, 256, padding_idx=1)\n",
       "    (rnn): LSTM(768, 512, batch_first=True)\n",
       "    (fc_out): Linear(in_features=1280, out_features=8000, bias=True)\n",
       "    (dropout): Dropout(p=0.5, inplace=False)\n",
       "    (vocab): Vocab()\n",
       "  )\n",
       ")"
      ]
     },
     "execution_count": 21,
     "metadata": {},
     "output_type": "execute_result"
    }
   ],
   "source": [
    "# let's load the model and predict\n",
    "model = torch.load(MODEL_CHECKPOINT)\n",
    "model.to(device)\n",
    "model.eval()"
   ]
  },
  {
   "cell_type": "code",
   "execution_count": 22,
   "id": "e3f96417-66e1-4061-ba49-55207e953142",
   "metadata": {},
   "outputs": [
    {
     "name": "stdout",
     "output_type": "stream",
     "text": [
      "toxic_sent: you heard from that nigga, keith?\n",
      "neutral_sent: did you hear from keith?\n",
      "predictions:\n",
      "\t1) ['did', 'you', 'hear', 'that', 'keith', 'keith', 'keith', '?', '<eos>']\n",
      "\t2) ['did', 'you', 'hear', 'that', 'keith', 'keith', '?', '<eos>']\n",
      "\t3) ['did', 'you', 'hear', 'that', 'keith', ',', 'keith', '?', '<eos>']\n",
      "\n",
      "\n",
      "toxic_sent: do you understand this fucker?\n",
      "neutral_sent: do you maggots understand?\n",
      "predictions:\n",
      "\t1) ['do', 'you', 'maggots', 'understand', '?', '<eos>']\n",
      "\t2) ['do', 'you', 'understand', 'this', '?', '<eos>']\n",
      "\t3) ['do', 'you', 'understand', 'that', '?', '<eos>']\n",
      "\n",
      "\n",
      "toxic_sent: are you crazy?\n",
      "neutral_sent: dinner! are you mad?\n",
      "predictions:\n",
      "\t1) ['are', 'you', 'mad', '?', '<eos>']\n",
      "\t2) ['have', 'you', 'lost', 'your', 'mind', '?', '<eos>']\n",
      "\t3) ['have', 'you', 'gone', 'mad', '?', '<eos>']\n",
      "\n",
      "\n",
      "toxic_sent: ellen will destroy you.\n",
      "neutral_sent: ellen, you will be crushed.\n",
      "predictions:\n",
      "\t1) ['ellen', 'will', 'destroy', 'you', '.', '<eos>']\n",
      "\t2) ['ellen', 'ellen', 'will', 'destroy', 'you', '.', '<eos>']\n",
      "\t3) ['ellen', 'will', 'destroy', 'you', 'up', '.', '<eos>']\n",
      "\n",
      "\n",
      "toxic_sent: good night, losers.\n",
      "neutral_sent: good night, hoppers.\n",
      "predictions:\n",
      "\t1) ['good', 'night', ',', '<unk>', '.', '<eos>']\n",
      "\t2) ['good', 'night', ',', 'good', 'night', '.', '<eos>']\n",
      "\t3) ['good', 'night', ',', 'dodger', '.', '<eos>']\n",
      "\n",
      "\n",
      "toxic_sent: what the hell you lookin' at?\n",
      "neutral_sent: what are you looking at?\n",
      "predictions:\n",
      "\t1) ['what', 'are', 'you', 'looking', 'at', '?', '<eos>']\n",
      "\t2) ['what', 'are', 'you', 'staring', 'at', '?', '<eos>']\n",
      "\t3) ['what', 'on', 'earth', 'are', 'you', 'looking', 'at', '?', '<eos>']\n",
      "\n",
      "\n",
      "toxic_sent: shit, i love you.\n",
      "neutral_sent: i love you.\n",
      "predictions:\n",
      "\t1) ['i', 'love', 'you', '.', '<eos>']\n",
      "\t2) ['hell', ',', 'i', 'love', 'you', '.', '<eos>']\n",
      "\t3) ['i', 'fucking', 'love', 'you', '.', '<eos>']\n",
      "\n",
      "\n",
      "toxic_sent: shoot.\n",
      "neutral_sent: shot.\n",
      "predictions:\n",
      "\t1) ['fire', '!', '<eos>']\n",
      "\t2) ['fire', '.', '<eos>']\n",
      "\t3) ['fire', 'away', '.', '<eos>']\n",
      "\n",
      "\n",
      "toxic_sent: but mostly dishonest and pathetic.\n",
      "neutral_sent: but mostly dishonest and weak.\n",
      "predictions:\n",
      "\t1) ['mostly', 'dishonest', 'mostly', 'dishonest', 'and', 'mostly', '.', '<eos>']\n",
      "\t2) ['but', 'mostly', 'dishonest', 'mostly', 'dishonest', 'and', 'mostly', '.', '<eos>']\n",
      "\t3) ['mostly', 'dishonest', 'and', 'mostly', 'dishonest', 'mostly', '.', '<eos>']\n",
      "\n",
      "\n",
      "toxic_sent: put him in chains.\n",
      "neutral_sent: give him the chains.\n",
      "predictions:\n",
      "\t1) ['put', 'him', 'in', 'chains', '.', '<eos>']\n",
      "\t2) ['put', 'it', 'in', 'chains', '.', '<eos>']\n",
      "\t3) ['put', 'him', 'chains', 'in', 'chains', '.', '<eos>']\n",
      "\n",
      "\n"
     ]
    }
   ],
   "source": [
    "from nltk.tokenize.treebank import TreebankWordDetokenizer\n",
    "detokenizer = TreebankWordDetokenizer()\n",
    "\n",
    "# let's see how our model works\n",
    "num_examples = 10\n",
    "num_sentence = 3\n",
    "dataset = train_dataset\n",
    "for _ in range(num_examples):\n",
    "    idx = np.random.randint(0, len(dataset))\n",
    "    toxic_sent = detokenizer.detokenize(dataset.df.loc[idx, 'toxic_sent'])\n",
    "    neutral_sent = detokenizer.detokenize(dataset.df.loc[idx, 'neutral_sent'])\n",
    "    \n",
    "    print('toxic_sent:', toxic_sent)\n",
    "    print('neutral_sent:', neutral_sent)\n",
    "    # let's use beam search\n",
    "    preds = model.predict(\n",
    "        toxic_sent,\n",
    "        beam=True,\n",
    "        beam_search_num_candidates=num_sentence,\n",
    "        post_process_text=False,\n",
    "    )\n",
    "    print(\"predictions:\")\n",
    "    for i in range(num_sentence):\n",
    "        print(f\"\\t{i+1})\", preds[i])\n",
    "    print(\"\\n\")"
   ]
  }
 ],
 "metadata": {
  "kernelspec": {
   "display_name": "Python 3 (ipykernel)",
   "language": "python",
   "name": "python3"
  },
  "language_info": {
   "codemirror_mode": {
    "name": "ipython",
    "version": 3
   },
   "file_extension": ".py",
   "mimetype": "text/x-python",
   "name": "python",
   "nbconvert_exporter": "python",
   "pygments_lexer": "ipython3",
   "version": "3.9.16"
  }
 },
 "nbformat": 4,
 "nbformat_minor": 5
}
