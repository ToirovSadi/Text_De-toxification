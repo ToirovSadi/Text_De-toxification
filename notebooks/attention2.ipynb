{
 "cells": [
  {
   "cell_type": "code",
   "execution_count": 1,
   "id": "9a6f672e-f6b7-4e94-96a3-e71fc3acb2ae",
   "metadata": {},
   "outputs": [],
   "source": [
    "LOAD_MODEL = 'models/attention2.01.pt'\n",
    "MODEL_CHECKPOINT = 'models/attention2.01.pt'\n",
    "DATASET_PATH = 'data/interim/preprocessed_paranmt3.tsv'"
   ]
  },
  {
   "cell_type": "code",
   "execution_count": 2,
   "id": "40068414-5b9f-4586-bcdb-470c3efb7c20",
   "metadata": {},
   "outputs": [],
   "source": [
    "import torch\n",
    "import numpy as np\n",
    "from torch.utils.data import DataLoader\n",
    "\n",
    "import os\n",
    "os.chdir(\"..\") # go to the root dir"
   ]
  },
  {
   "cell_type": "markdown",
   "id": "6eb45299-8b78-4ae2-90be-f962ed587c5c",
   "metadata": {},
   "source": [
    "# Get the Dataset"
   ]
  },
  {
   "cell_type": "code",
   "execution_count": 3,
   "id": "e92fffa6-8fc3-46a0-8d87-587f81e95ad5",
   "metadata": {},
   "outputs": [],
   "source": [
    "MAX_SENT_SIZE = 32\n",
    "MAX_TOKENS = 30_000"
   ]
  },
  {
   "cell_type": "code",
   "execution_count": 4,
   "id": "81094a8f-0cb9-436c-9892-d3b28b070dcf",
   "metadata": {},
   "outputs": [],
   "source": [
    "from src.data.make_dataset import ParanmtDataset\n",
    "\n",
    "train_dataset = ParanmtDataset(\n",
    "    path=DATASET_PATH,\n",
    "    max_sent_size=MAX_SENT_SIZE,\n",
    "    train=True,\n",
    "    seed=42,\n",
    "    take_first=400_000,\n",
    ")"
   ]
  },
  {
   "cell_type": "code",
   "execution_count": 5,
   "id": "f324e5bd-eb23-48aa-adc4-075b17a62ae6",
   "metadata": {},
   "outputs": [],
   "source": [
    "train_dataset.build_vocab(\n",
    "    min_freq=2,\n",
    "    specials=['<unk>', '<pad>', '<sos>', '<eos>'],\n",
    "    max_tokens=MAX_TOKENS,\n",
    ")"
   ]
  },
  {
   "cell_type": "code",
   "execution_count": 6,
   "id": "aecda01b-5e50-41ff-afcf-7b2a6d8d1080",
   "metadata": {},
   "outputs": [
    {
     "name": "stdout",
     "output_type": "stream",
     "text": [
      "size of encoder vocab: 30000\n",
      "size of decoder vocab: 30000\n"
     ]
    }
   ],
   "source": [
    "enc_vocab = train_dataset.toxic_vocab\n",
    "dec_vocab = train_dataset.neutral_vocab\n",
    "\n",
    "print(\"size of encoder vocab:\", len(enc_vocab))\n",
    "print(\"size of decoder vocab:\", len(dec_vocab))"
   ]
  },
  {
   "cell_type": "code",
   "execution_count": 7,
   "id": "d2de9532-e02a-405d-ab46-c0ff7f2049aa",
   "metadata": {},
   "outputs": [],
   "source": [
    "val_dataset = ParanmtDataset(\n",
    "    path=DATASET_PATH,\n",
    "    max_sent_size=MAX_SENT_SIZE,\n",
    "    vocabs=(enc_vocab, dec_vocab), # avoid data leakage\n",
    "    train=False,\n",
    "    seed=42,\n",
    "    take_first=10_000,\n",
    ")"
   ]
  },
  {
   "cell_type": "code",
   "execution_count": 8,
   "id": "fd018d4e-9907-4e9c-a197-18290ea7cb98",
   "metadata": {},
   "outputs": [
    {
     "data": {
      "text/html": [
       "<div>\n",
       "<style scoped>\n",
       "    .dataframe tbody tr th:only-of-type {\n",
       "        vertical-align: middle;\n",
       "    }\n",
       "\n",
       "    .dataframe tbody tr th {\n",
       "        vertical-align: top;\n",
       "    }\n",
       "\n",
       "    .dataframe thead th {\n",
       "        text-align: right;\n",
       "    }\n",
       "</style>\n",
       "<table border=\"1\" class=\"dataframe\">\n",
       "  <thead>\n",
       "    <tr style=\"text-align: right;\">\n",
       "      <th></th>\n",
       "      <th>similarity</th>\n",
       "      <th>lenght_diff</th>\n",
       "      <th>toxic_sent</th>\n",
       "      <th>neutral_sent</th>\n",
       "      <th>toxic_val</th>\n",
       "      <th>neutral_val</th>\n",
       "    </tr>\n",
       "  </thead>\n",
       "  <tbody>\n",
       "    <tr>\n",
       "      <th>0</th>\n",
       "      <td>0.834750</td>\n",
       "      <td>0.390805</td>\n",
       "      <td>[do, you, know, that, you, flirt, with, every,...</td>\n",
       "      <td>[you, flirt, with, every, woman, you, come, in...</td>\n",
       "      <td>0.998895</td>\n",
       "      <td>0.000226</td>\n",
       "    </tr>\n",
       "    <tr>\n",
       "      <th>1</th>\n",
       "      <td>0.769013</td>\n",
       "      <td>0.102041</td>\n",
       "      <td>[yes, ,, but, she, thinks, you, are, a, raving...</td>\n",
       "      <td>[yes, ,, but, she, thought, you, were, a, stre...</td>\n",
       "      <td>0.957565</td>\n",
       "      <td>0.046821</td>\n",
       "    </tr>\n",
       "    <tr>\n",
       "      <th>2</th>\n",
       "      <td>0.879764</td>\n",
       "      <td>0.064516</td>\n",
       "      <td>[but, they, will, not, do, shit, about, them, ...</td>\n",
       "      <td>[but, they, do, not, do, anything, about, it, ...</td>\n",
       "      <td>0.998256</td>\n",
       "      <td>0.018739</td>\n",
       "    </tr>\n",
       "    <tr>\n",
       "      <th>3</th>\n",
       "      <td>0.689452</td>\n",
       "      <td>0.153846</td>\n",
       "      <td>[you, would, die, .]</td>\n",
       "      <td>[and, you, die, ?]</td>\n",
       "      <td>0.995866</td>\n",
       "      <td>0.070247</td>\n",
       "    </tr>\n",
       "    <tr>\n",
       "      <th>4</th>\n",
       "      <td>0.765473</td>\n",
       "      <td>0.206897</td>\n",
       "      <td>[same, as, piss, or, eating, you, are, like, a...</td>\n",
       "      <td>[it, is, like, peeing, ,, eating, you, are, ac...</td>\n",
       "      <td>0.991141</td>\n",
       "      <td>0.078439</td>\n",
       "    </tr>\n",
       "    <tr>\n",
       "      <th>...</th>\n",
       "      <td>...</td>\n",
       "      <td>...</td>\n",
       "      <td>...</td>\n",
       "      <td>...</td>\n",
       "      <td>...</td>\n",
       "      <td>...</td>\n",
       "    </tr>\n",
       "    <tr>\n",
       "      <th>399995</th>\n",
       "      <td>0.726744</td>\n",
       "      <td>0.211538</td>\n",
       "      <td>[and, i, suggest, you, take, your, 4, thousand...</td>\n",
       "      <td>[and, i, suggest, you, take, your, $, 4, 000, ...</td>\n",
       "      <td>0.996931</td>\n",
       "      <td>0.001203</td>\n",
       "    </tr>\n",
       "    <tr>\n",
       "      <th>399996</th>\n",
       "      <td>0.760384</td>\n",
       "      <td>0.173913</td>\n",
       "      <td>[a, mass, death, sentence, for, krakovich, ,, ...</td>\n",
       "      <td>[that, was, the, joint, death, certificate, of...</td>\n",
       "      <td>0.941657</td>\n",
       "      <td>0.000042</td>\n",
       "    </tr>\n",
       "    <tr>\n",
       "      <th>399997</th>\n",
       "      <td>0.779441</td>\n",
       "      <td>0.085366</td>\n",
       "      <td>[someone, is, trying, to, kill, me, ,, sending...</td>\n",
       "      <td>[someone, is, trying, to, kill, me, and, he, i...</td>\n",
       "      <td>0.836793</td>\n",
       "      <td>0.024553</td>\n",
       "    </tr>\n",
       "    <tr>\n",
       "      <th>399998</th>\n",
       "      <td>0.800366</td>\n",
       "      <td>0.213115</td>\n",
       "      <td>[if, you, are, here, for, soup, ,, i, will, br...</td>\n",
       "      <td>[if, you, are, here, for, the, gumbo, ,, i, am...</td>\n",
       "      <td>0.645919</td>\n",
       "      <td>0.061810</td>\n",
       "    </tr>\n",
       "    <tr>\n",
       "      <th>399999</th>\n",
       "      <td>0.630393</td>\n",
       "      <td>0.363636</td>\n",
       "      <td>[put, me, down, !, goddamn, !]</td>\n",
       "      <td>[let, go, of, me, !]</td>\n",
       "      <td>0.995347</td>\n",
       "      <td>0.000267</td>\n",
       "    </tr>\n",
       "  </tbody>\n",
       "</table>\n",
       "<p>400000 rows × 6 columns</p>\n",
       "</div>"
      ],
      "text/plain": [
       "        similarity  lenght_diff  \\\n",
       "0         0.834750     0.390805   \n",
       "1         0.769013     0.102041   \n",
       "2         0.879764     0.064516   \n",
       "3         0.689452     0.153846   \n",
       "4         0.765473     0.206897   \n",
       "...            ...          ...   \n",
       "399995    0.726744     0.211538   \n",
       "399996    0.760384     0.173913   \n",
       "399997    0.779441     0.085366   \n",
       "399998    0.800366     0.213115   \n",
       "399999    0.630393     0.363636   \n",
       "\n",
       "                                               toxic_sent  \\\n",
       "0       [do, you, know, that, you, flirt, with, every,...   \n",
       "1       [yes, ,, but, she, thinks, you, are, a, raving...   \n",
       "2       [but, they, will, not, do, shit, about, them, ...   \n",
       "3                                    [you, would, die, .]   \n",
       "4       [same, as, piss, or, eating, you, are, like, a...   \n",
       "...                                                   ...   \n",
       "399995  [and, i, suggest, you, take, your, 4, thousand...   \n",
       "399996  [a, mass, death, sentence, for, krakovich, ,, ...   \n",
       "399997  [someone, is, trying, to, kill, me, ,, sending...   \n",
       "399998  [if, you, are, here, for, soup, ,, i, will, br...   \n",
       "399999                     [put, me, down, !, goddamn, !]   \n",
       "\n",
       "                                             neutral_sent  toxic_val  \\\n",
       "0       [you, flirt, with, every, woman, you, come, in...   0.998895   \n",
       "1       [yes, ,, but, she, thought, you, were, a, stre...   0.957565   \n",
       "2       [but, they, do, not, do, anything, about, it, ...   0.998256   \n",
       "3                                      [and, you, die, ?]   0.995866   \n",
       "4       [it, is, like, peeing, ,, eating, you, are, ac...   0.991141   \n",
       "...                                                   ...        ...   \n",
       "399995  [and, i, suggest, you, take, your, $, 4, 000, ...   0.996931   \n",
       "399996  [that, was, the, joint, death, certificate, of...   0.941657   \n",
       "399997  [someone, is, trying, to, kill, me, and, he, i...   0.836793   \n",
       "399998  [if, you, are, here, for, the, gumbo, ,, i, am...   0.645919   \n",
       "399999                               [let, go, of, me, !]   0.995347   \n",
       "\n",
       "        neutral_val  \n",
       "0          0.000226  \n",
       "1          0.046821  \n",
       "2          0.018739  \n",
       "3          0.070247  \n",
       "4          0.078439  \n",
       "...             ...  \n",
       "399995     0.001203  \n",
       "399996     0.000042  \n",
       "399997     0.024553  \n",
       "399998     0.061810  \n",
       "399999     0.000267  \n",
       "\n",
       "[400000 rows x 6 columns]"
      ]
     },
     "execution_count": 8,
     "metadata": {},
     "output_type": "execute_result"
    }
   ],
   "source": [
    "train_dataset.df"
   ]
  },
  {
   "cell_type": "code",
   "execution_count": 9,
   "id": "320fc194-0a67-4157-89b6-501e8031aefd",
   "metadata": {},
   "outputs": [
    {
     "data": {
      "text/plain": [
       "(400000, 10000)"
      ]
     },
     "execution_count": 9,
     "metadata": {},
     "output_type": "execute_result"
    }
   ],
   "source": [
    "len(train_dataset), len(val_dataset)"
   ]
  },
  {
   "cell_type": "markdown",
   "id": "8c447ad3-8846-42cc-a2ac-90fc264e1308",
   "metadata": {},
   "source": [
    "# Build the Dataloaders"
   ]
  },
  {
   "cell_type": "code",
   "execution_count": 10,
   "id": "5939df29-7703-4da3-893b-7c05a67a9434",
   "metadata": {},
   "outputs": [],
   "source": [
    "batch_size = 256"
   ]
  },
  {
   "cell_type": "code",
   "execution_count": 11,
   "id": "bc242320-a063-42e3-98c8-19b7fa7bebdb",
   "metadata": {},
   "outputs": [],
   "source": [
    "train_dataloader = DataLoader(\n",
    "    train_dataset,\n",
    "    batch_size=batch_size,\n",
    "    shuffle=True,\n",
    ")\n",
    "\n",
    "val_dataloader = DataLoader(\n",
    "    val_dataset,\n",
    "    batch_size=batch_size,\n",
    "    shuffle=False,\n",
    ")"
   ]
  },
  {
   "cell_type": "code",
   "execution_count": 12,
   "id": "ac9d0196-f79f-4d8f-8fce-7566d1ff7142",
   "metadata": {},
   "outputs": [
    {
     "name": "stdout",
     "output_type": "stream",
     "text": [
      "toxic_sent.shape: torch.Size([256, 32])\n",
      "neutral_sent.shape: torch.Size([256, 32])\n"
     ]
    }
   ],
   "source": [
    "# let's check if shape and everything is ok\n",
    "for batch in train_dataloader:\n",
    "    toxic_sent, neutral_sent = batch\n",
    "    print(\"toxic_sent.shape:\", toxic_sent.shape)\n",
    "    print(\"neutral_sent.shape:\", neutral_sent.shape)\n",
    "    break"
   ]
  },
  {
   "cell_type": "code",
   "execution_count": 13,
   "id": "51c2c3c9-7df9-48a5-a20a-5b80b36aec80",
   "metadata": {},
   "outputs": [
    {
     "data": {
      "text/plain": [
       "device(type='cuda')"
      ]
     },
     "execution_count": 13,
     "metadata": {},
     "output_type": "execute_result"
    }
   ],
   "source": [
    "device = torch.device('cuda' if torch.cuda.is_available() else 'cpu')\n",
    "device"
   ]
  },
  {
   "cell_type": "markdown",
   "id": "fc46dfbe-d834-48e7-ad09-c49c2a676386",
   "metadata": {},
   "source": [
    "# Load the Model\n",
    "\n",
    "- EncoderDecoder (Seq2Seq) with Attention mechanism"
   ]
  },
  {
   "cell_type": "code",
   "execution_count": 14,
   "id": "e1b9c17a-0069-481e-a76c-240d46bf10a0",
   "metadata": {},
   "outputs": [],
   "source": [
    "from src.models.attention.encoder import Encoder\n",
    "from src.models.attention.decoder import Decoder\n",
    "from src.models.attention.attention import Attention\n",
    "from src.models.attention import Seq2SeqAttention"
   ]
  },
  {
   "cell_type": "code",
   "execution_count": 15,
   "id": "451a159a-dae5-487c-be50-c87b7407add1",
   "metadata": {},
   "outputs": [],
   "source": [
    "## Encoder\n",
    "enc_input_dim = len(enc_vocab)\n",
    "enc_embed_dim = 128\n",
    "enc_hidden_dim = 256\n",
    "enc_dropout = 0.1\n",
    "enc_padding_idx = enc_vocab['<pad>']\n",
    "\n",
    "## Decoder\n",
    "dec_output_dim = len(dec_vocab)\n",
    "dec_embed_dim = 128\n",
    "dec_hidden_dim = 256\n",
    "dec_dropout = 0.1\n",
    "dec_padding_idx = dec_vocab['<pad>']"
   ]
  },
  {
   "cell_type": "code",
   "execution_count": 16,
   "id": "5b48dfdf-ba48-477c-ac62-2c512a69d86f",
   "metadata": {},
   "outputs": [],
   "source": [
    "# load the encoder and decoder for our model\n",
    "encoder = Encoder(\n",
    "    input_dim=enc_input_dim,\n",
    "    embed_dim=enc_embed_dim,\n",
    "    hidden_dim=enc_hidden_dim,\n",
    "    dec_hidden_dim=dec_hidden_dim,\n",
    "    dropout=enc_dropout,\n",
    "    vocab=enc_vocab,\n",
    "    padding_idx=enc_padding_idx,\n",
    ").to(device)\n",
    "\n",
    "attention = Attention(\n",
    "    enc_hidden_dim,\n",
    "    dec_hidden_dim,\n",
    ")\n",
    "\n",
    "decoder = Decoder(\n",
    "    output_dim=dec_output_dim,\n",
    "    embed_dim=dec_embed_dim,\n",
    "    hidden_dim=dec_hidden_dim,\n",
    "    attention=attention,\n",
    "    enc_hidden_dim=enc_hidden_dim,\n",
    "    dropout=dec_dropout,\n",
    "    vocab=dec_vocab,\n",
    "    padding_idx=dec_padding_idx,\n",
    ").to(device)"
   ]
  },
  {
   "cell_type": "code",
   "execution_count": 17,
   "id": "fb68fa7c-f8ee-4667-9b20-a638de4fe311",
   "metadata": {},
   "outputs": [],
   "source": [
    "best_loss = float('inf')\n",
    "\n",
    "model = Seq2SeqAttention(\n",
    "    encoder=encoder,\n",
    "    decoder=decoder,\n",
    "    device=device,\n",
    "    max_sent_size=MAX_SENT_SIZE,\n",
    ").to(device)"
   ]
  },
  {
   "cell_type": "code",
   "execution_count": 18,
   "id": "7b4ce097-26f1-4aeb-a5e4-5985e6b6c885",
   "metadata": {},
   "outputs": [
    {
     "name": "stdout",
     "output_type": "stream",
     "text": [
      "number of parameters in model: 142.0M\n"
     ]
    }
   ],
   "source": [
    "from src.models.utils import count_parameters\n",
    "\n",
    "print(f\"number of parameters in model: {count_parameters(model)//1e6}M\")"
   ]
  },
  {
   "cell_type": "code",
   "execution_count": 19,
   "id": "088f446e-d95e-4812-949d-a3a5eb20ab6c",
   "metadata": {},
   "outputs": [],
   "source": [
    "optimizer = torch.optim.AdamW(model.parameters(), lr=1e-3)\n",
    "criterion = torch.nn.CrossEntropyLoss(ignore_index=dec_vocab['<pad>'])"
   ]
  },
  {
   "cell_type": "code",
   "execution_count": 20,
   "id": "ae355174-b99f-403c-b926-def9bd694c4b",
   "metadata": {},
   "outputs": [
    {
     "name": "stderr",
     "output_type": "stream",
     "text": [
      "Training 2: 100%|██████████| 1563/1563 [24:56<00:00,  1.04it/s, loss=2.98]\n",
      "Evaluating 2: 100%|██████████| 40/40 [00:13<00:00,  2.88it/s, loss=5.07]\n"
     ]
    },
    {
     "name": "stdout",
     "output_type": "stream",
     "text": [
      "Update teacher force to 0.6400000000000001\n"
     ]
    },
    {
     "name": "stderr",
     "output_type": "stream",
     "text": [
      "Training 3: 100%|██████████| 1563/1563 [24:51<00:00,  1.05it/s, loss=2.96]\n",
      "Evaluating 3: 100%|██████████| 40/40 [00:13<00:00,  2.89it/s, loss=4.54]\n"
     ]
    },
    {
     "name": "stdout",
     "output_type": "stream",
     "text": [
      "Update teacher force to 0.5120000000000001\n"
     ]
    },
    {
     "name": "stderr",
     "output_type": "stream",
     "text": [
      "Training 4: 100%|██████████| 1563/1563 [24:54<00:00,  1.05it/s, loss=3]   \n",
      "Evaluating 4: 100%|██████████| 40/40 [00:14<00:00,  2.72it/s, loss=4.35]\n"
     ]
    },
    {
     "name": "stdout",
     "output_type": "stream",
     "text": [
      "Update teacher force to 0.40960000000000013\n"
     ]
    },
    {
     "name": "stderr",
     "output_type": "stream",
     "text": [
      "Training 5: 100%|██████████| 1563/1563 [24:52<00:00,  1.05it/s, loss=3.04]\n",
      "Evaluating 5: 100%|██████████| 40/40 [00:13<00:00,  2.88it/s, loss=4.26]\n"
     ]
    },
    {
     "name": "stdout",
     "output_type": "stream",
     "text": [
      "Update teacher force to 0.32768000000000014\n"
     ]
    },
    {
     "name": "stderr",
     "output_type": "stream",
     "text": [
      "Training 6: 100%|██████████| 1563/1563 [24:49<00:00,  1.05it/s, loss=3.08]\n",
      "Evaluating 6: 100%|██████████| 40/40 [00:13<00:00,  2.89it/s, loss=4.19]\n"
     ]
    },
    {
     "name": "stdout",
     "output_type": "stream",
     "text": [
      "Update teacher force to 0.2621440000000001\n"
     ]
    },
    {
     "name": "stderr",
     "output_type": "stream",
     "text": [
      "Training 7: 100%|██████████| 1563/1563 [24:51<00:00,  1.05it/s, loss=3.11]\n",
      "Evaluating 7: 100%|██████████| 40/40 [00:13<00:00,  2.88it/s, loss=4.05]\n"
     ]
    },
    {
     "name": "stdout",
     "output_type": "stream",
     "text": [
      "Update teacher force to 0.2097152000000001\n"
     ]
    },
    {
     "name": "stderr",
     "output_type": "stream",
     "text": [
      "Training 8: 100%|██████████| 1563/1563 [24:55<00:00,  1.05it/s, loss=3.11]\n",
      "Evaluating 8: 100%|██████████| 40/40 [00:13<00:00,  2.89it/s, loss=4.02]\n"
     ]
    },
    {
     "name": "stdout",
     "output_type": "stream",
     "text": [
      "Update teacher force to 0.1677721600000001\n"
     ]
    },
    {
     "name": "stderr",
     "output_type": "stream",
     "text": [
      "Training 9: 100%|██████████| 1563/1563 [24:52<00:00,  1.05it/s, loss=3.1] \n",
      "Evaluating 9: 100%|██████████| 40/40 [00:13<00:00,  2.88it/s, loss=4.03]\n"
     ]
    },
    {
     "name": "stdout",
     "output_type": "stream",
     "text": [
      "Update teacher force to 0.13421772800000006\n"
     ]
    },
    {
     "name": "stderr",
     "output_type": "stream",
     "text": [
      "Training 10: 100%|██████████| 1563/1563 [24:49<00:00,  1.05it/s, loss=3.08]\n",
      "Evaluating 10: 100%|██████████| 40/40 [00:13<00:00,  2.91it/s, loss=3.99]\n"
     ]
    },
    {
     "name": "stdout",
     "output_type": "stream",
     "text": [
      "Update teacher force to 0.10737418240000006\n"
     ]
    }
   ],
   "source": [
    "from src.models.train_model import train\n",
    "\n",
    "best_loss = train(\n",
    "    model=model,\n",
    "    loaders=(train_dataloader, val_dataloader),\n",
    "    optimizer=optimizer,\n",
    "    criterion=criterion,\n",
    "    epochs=10,\n",
    "    device=device,\n",
    "    best_loss=best_loss,\n",
    "    ckpt_path=MODEL_CHECKPOINT,\n",
    "    clip_grad=1,\n",
    "    teacher_force={\n",
    "        'value': 1,\n",
    "        'gamma': 0.8,\n",
    "        'update_every_n_epoch': 1,\n",
    "    } # first 10 epoch teacher force 1, after it will be turned off\n",
    ")"
   ]
  },
  {
   "cell_type": "code",
   "execution_count": 21,
   "id": "7dc1b6ad-901d-4582-84c8-79ba34fdcebc",
   "metadata": {},
   "outputs": [
    {
     "data": {
      "text/plain": [
       "Seq2SeqAttention(\n",
       "  (encoder): Encoder(\n",
       "    (vocab): Vocab()\n",
       "    (embedding): Embedding(30000, 128, padding_idx=1)\n",
       "    (rnn): GRU(128, 256, batch_first=True, bidirectional=True)\n",
       "    (fc): Linear(in_features=512, out_features=256, bias=True)\n",
       "    (dropout): Dropout(p=0.1, inplace=False)\n",
       "  )\n",
       "  (decoder): Decoder(\n",
       "    (vocab): Vocab()\n",
       "    (embedding): Embedding(30000, 128, padding_idx=1)\n",
       "    (rnn): GRU(640, 256, batch_first=True)\n",
       "    (attention): Attention(\n",
       "      (attn): Linear(in_features=768, out_features=256, bias=True)\n",
       "      (v): Linear(in_features=256, out_features=1, bias=False)\n",
       "    )\n",
       "    (dropout): Dropout(p=0.1, inplace=False)\n",
       "    (fc_out): Sequential(\n",
       "      (0): Linear(in_features=896, out_features=2048, bias=True)\n",
       "      (1): ReLU()\n",
       "      (2): Dropout(p=0.1, inplace=False)\n",
       "      (3): Linear(in_features=2048, out_features=4096, bias=True)\n",
       "      (4): ReLU()\n",
       "      (5): Dropout(p=0.1, inplace=False)\n",
       "      (6): Linear(in_features=4096, out_features=30000, bias=True)\n",
       "    )\n",
       "  )\n",
       ")"
      ]
     },
     "execution_count": 21,
     "metadata": {},
     "output_type": "execute_result"
    }
   ],
   "source": [
    "# let's load the model and predict\n",
    "model = torch.load(MODEL_CHECKPOINT)\n",
    "model.to(device)\n",
    "model.eval()"
   ]
  },
  {
   "cell_type": "code",
   "execution_count": 23,
   "id": "e3f96417-66e1-4061-ba49-55207e953142",
   "metadata": {},
   "outputs": [
    {
     "name": "stdout",
     "output_type": "stream",
     "text": [
      "toxic_sent: sarah i dead, and it is your fault.\n",
      "neutral_sent: sarah i death is your fault.\n",
      "predictions:\n",
      "\t1) ['sarah', 'i', 'dead', ',', 'and', 'it', 'is', 'your', 'fault', '.', '<eos>']\n",
      "\t2) ['sarah', 'i', 'dead', ',', 'and', 'it', 'is', 'your', 'fault', '.', '.', '<eos>']\n",
      "\t3) ['sarah', 'i', 'dead', ',', 'it', 'is', 'your', 'fault', '.', '<eos>']\n",
      "\n",
      "\n",
      "toxic_sent: my last girlfriend, the feminist vegetarian whore broke up with me, saying i was too excited.\n",
      "neutral_sent: my last girlfriend, a feminist vegan punk, broke up with me because . i was too angry.\n",
      "predictions:\n",
      "\t1) ['my', 'last', 'girlfriend', ',', 'the', 'feminist', 'vegan', 'vegan', 'was', 'broke', 'up', 'with', 'me', ',']\n",
      "\t2) ['my', 'last', 'girl', ',', 'the', 'feminist', 'vegan', 'vegan', 'broke', 'me', 'with', 'me', 'said', 'i']\n",
      "\t3) ['my', 'last', 'girl', ',', ',', 'feminist', 'vegan', 'vegan', 'was', 'broke', 'with']\n",
      "\n",
      "\n",
      "toxic_sent: you know what kind of bitches we girls can be, rosie said, laughing.\n",
      "neutral_sent: you know how bitchy us gals can be,' rosie said, and laughed.\n",
      "predictions:\n",
      "\t1) ['you', 'know', 'what', 'bitchy', 'gals', 'gals', 'girls', ',', 'said', 'rosie', 'rosie', '.', '<eos>']\n",
      "\t2) ['you', 'know', 'what', 'bitchy', 'gals', 'gals', 'girls', ',', 'said', 'rosie', 'rosie', ',', '<eos>']\n",
      "\t3) ['you', 'know', 'what', 'bitchy', 'gals', 'gals', ',', ',', 'said', 'rosie', 'rosie', '.', '<eos>']\n",
      "\n",
      "\n",
      "toxic_sent: i do not want to be an asshole, but nobody i going anywhere.\n",
      "neutral_sent: i hate to be a killjoy, but nobody i going anywhere.\n",
      "predictions:\n",
      "\t1) ['i', 'do', 'not', 'want', 'to', 'be', 'a', 'prick', ',', 'but', 'nobody', 'i', 'going', 'anywhere', '.', '<eos>']\n",
      "\t2) ['i', 'do', 'not', 'want', 'to', 'be', 'a', 'prick', ',', 'but', 'nobody', 'i', 'going', 'anywhere', '.', '.', '<eos>']\n",
      "\t3) ['i', 'do', 'not', 'want', 'to', 'be', 'a', ',', 'but', 'nobody', 'i', 'going', 'anywhere', '.', '<eos>']\n",
      "\n",
      "\n",
      "toxic_sent: cut the gun, fallon.\n",
      "neutral_sent: lower your weapon, fallon.\n",
      "predictions:\n",
      "\t1) ['lower', 'the', 'gun', ',', 'fallon', '.', '<eos>']\n",
      "\t2) ['cut', 'the', 'gun', ',', 'fallon', '.', '<eos>']\n",
      "\t3) ['lower', 'the', 'weapon', ',', 'fallon', '.', '<eos>']\n",
      "\n",
      "\n",
      "toxic_sent: i am going to make your heart explode.\n",
      "neutral_sent: i will make sure your heart goes off.\n",
      "predictions:\n",
      "\t1) ['i', 'am', 'going', 'to', 'heart', 'your', 'heart', '.', '.', '<eos>']\n",
      "\t2) ['i', 'will', 'going', 'your', 'heart', 'heart', '.', '<eos>']\n",
      "\t3) ['i', 'am', 'going', 'to', 'heart', 'your', 'heart', '.', '<eos>']\n",
      "\n",
      "\n",
      "toxic_sent: she is a bimbo, she flirts, she is a fake.\n",
      "neutral_sent: she is flighty . she is flirty . she is a flawed character.\n",
      "predictions:\n",
      "\t1) ['she', 'is', 'flighty', ',', 'she', 'flirty', '.', '<eos>']\n",
      "\t2) ['she', 'is', 'flighty', ',', 'she', 'she', 'flirty', '.', '<eos>']\n",
      "\t3) ['she', 'is', 'flighty', ',', 'she', 'flirty', ',', '<eos>']\n",
      "\n",
      "\n",
      "toxic_sent: because you are vindictive and petty.\n",
      "neutral_sent: because you get revenge and petty.\n",
      "predictions:\n",
      "\t1) ['because', 'you', 'are', 'conceited', 'and', 'petty', '.', '<eos>']\n",
      "\t2) ['because', 'you', 'are', 'conceited', 'and', 'petty', '.', '.', '<eos>']\n",
      "\t3) ['because', 'you', 'are', 'are', 'and', 'petty', '.', '<eos>']\n",
      "\n",
      "\n",
      "toxic_sent: the crazy guy who lived here was ronnie.\n",
      "neutral_sent: so this wack job, ronnie, the guy that lived here.\n",
      "predictions:\n",
      "\t1) ['the', 'guy', 'guy', 'lived', 'lived', 'ronnie', 'ronnie', '<eos>']\n",
      "\t2) ['the', 'guy', 'guy', 'lived', 'lived', 'ronnie', 'ronnie', 'ronnie', '<eos>']\n",
      "\t3) ['the', 'guy', 'guy', 'lived', 'lived', 'ronnie', 'ronnie', '.', '.', '<eos>']\n",
      "\n",
      "\n",
      "toxic_sent: would only hate you more.\n",
      "neutral_sent: he will hate you even more.\n",
      "predictions:\n",
      "\t1) ['it', 'would', 'hate', 'you', 'more', '.', '.', '<eos>']\n",
      "\t2) ['it', 'would', 'hate', 'you', 'more', '.', '<eos>']\n",
      "\t3) ['i', 'would', 'hate', 'you', 'more', '.', '.', '<eos>']\n",
      "\n",
      "\n"
     ]
    }
   ],
   "source": [
    "from nltk.tokenize.treebank import TreebankWordDetokenizer\n",
    "detokenizer = TreebankWordDetokenizer()\n",
    "\n",
    "# let's see how our model works\n",
    "num_examples = 10\n",
    "num_sentence = 3\n",
    "dataset = train_dataset\n",
    "for _ in range(num_examples):\n",
    "    idx = np.random.randint(0, len(dataset))\n",
    "    toxic_sent = detokenizer.detokenize(dataset.df.loc[idx, 'toxic_sent'])\n",
    "    neutral_sent = detokenizer.detokenize(dataset.df.loc[idx, 'neutral_sent'])\n",
    "    \n",
    "    print('toxic_sent:', toxic_sent)\n",
    "    print('neutral_sent:', neutral_sent)\n",
    "    preds = model.predict(\n",
    "        toxic_sent,\n",
    "        beam=True,\n",
    "        beam_search_num_candidates=num_sentence,\n",
    "        post_process_text=False,\n",
    "        use_encoder_out=True,\n",
    "    ) # let's use beam search\n",
    "    print(\"predictions:\")\n",
    "    for i in range(num_sentence):\n",
    "        print(f\"\\t{i+1})\", preds[i])\n",
    "    print(\"\\n\")"
   ]
  },
  {
   "cell_type": "code",
   "execution_count": null,
   "id": "b4554e32-4888-4660-a19e-65409f2e34dc",
   "metadata": {},
   "outputs": [],
   "source": []
  }
 ],
 "metadata": {
  "kernelspec": {
   "display_name": "Python 3 (ipykernel)",
   "language": "python",
   "name": "python3"
  },
  "language_info": {
   "codemirror_mode": {
    "name": "ipython",
    "version": 3
   },
   "file_extension": ".py",
   "mimetype": "text/x-python",
   "name": "python",
   "nbconvert_exporter": "python",
   "pygments_lexer": "ipython3",
   "version": "3.9.16"
  }
 },
 "nbformat": 4,
 "nbformat_minor": 5
}
