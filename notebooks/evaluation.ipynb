{
 "cells": [
  {
   "cell_type": "code",
   "execution_count": 1,
   "id": "e6bcde83-4e49-4b84-aba4-c11b042ef310",
   "metadata": {},
   "outputs": [],
   "source": [
    "import os\n",
    "os.chdir(\"..\") # go to root dir\n",
    "\n",
    "import torch\n",
    "from src.models.utils import calculate_bleu\n",
    "\n",
    "from src.data.make_dataset import ParanmtDataset\n",
    "DATASET_PATH = 'data/interim/preprocessed_paranmt.tsv'"
   ]
  },
  {
   "cell_type": "code",
   "execution_count": 2,
   "id": "816bcd5b-7a08-4dcb-b08e-518c061c4a48",
   "metadata": {},
   "outputs": [
    {
     "data": {
      "text/plain": [
       "device(type='cuda')"
      ]
     },
     "execution_count": 2,
     "metadata": {},
     "output_type": "execute_result"
    }
   ],
   "source": [
    "res = dict() # store the results of each model\n",
    "device = torch.device('cuda' if torch.cuda.is_available() else 'cpu')\n",
    "device"
   ]
  },
  {
   "cell_type": "markdown",
   "id": "b3be3a76-7f9b-44ad-af36-081a5eee664d",
   "metadata": {},
   "source": [
    "# Get the dataset to test"
   ]
  },
  {
   "cell_type": "code",
   "execution_count": 3,
   "id": "a3f748a5-f71d-4ec7-87be-e0ba2f22975b",
   "metadata": {},
   "outputs": [],
   "source": [
    "def get_val_dataset(max_sent_size, max_tokens, take_first=None, min_freq=2, seed=42):\n",
    "    # get the train dataset\n",
    "    train_dataset = ParanmtDataset(\n",
    "        path=DATASET_PATH,\n",
    "        max_sent_size=max_sent_size,\n",
    "        train=True,\n",
    "        seed=seed,\n",
    "        take_first=take_first,\n",
    "    )\n",
    "    # build the vocabs\n",
    "    train_dataset.build_vocab(\n",
    "        min_freq=min_freq,\n",
    "        specials=['<unk>', '<pad>', '<sos>', '<eos>'],\n",
    "        max_tokens=max_tokens,\n",
    "    )\n",
    "    \n",
    "    # get val_dataset giving vocabs from train dataset\n",
    "    val_dataset = ParanmtDataset(\n",
    "        path=DATASET_PATH,\n",
    "        max_sent_size=max_sent_size,\n",
    "        vocabs=(train_dataset.toxic_vocab, train_dataset.neutral_vocab), # avoid data leakage\n",
    "        train=False,\n",
    "        seed=seed,\n",
    "    )\n",
    "    return val_dataset"
   ]
  },
  {
   "cell_type": "markdown",
   "id": "be4e3b6f-0979-4275-819f-415223e82cf7",
   "metadata": {},
   "source": [
    "# Evaluate Seq2Seq\n",
    "\n",
    "### Model_0\n",
    "- path: models/seq2seq.01.pt\n",
    "- Dataset Building\n",
    "    - seed: 42\n",
    "    - max_sent_size: 10\n",
    "    - max_tokens: 8_000\n",
    "    - min_freq: 2\n",
    "    \n",
    "### Model_1\n",
    "- same as above, but decoder differs\n",
    "- path: models/seq2seq_2.01.pt\n"
   ]
  },
  {
   "cell_type": "markdown",
   "id": "67a2c299-54ce-47b9-8118-79cf7a971557",
   "metadata": {},
   "source": [
    "### Evaluate Model_0"
   ]
  },
  {
   "cell_type": "code",
   "execution_count": 18,
   "id": "e06c6261-af06-4a7b-a603-a4a70d28e337",
   "metadata": {},
   "outputs": [],
   "source": [
    "model = torch.load('models/seq2seq.01.pt', map_location=device).eval()"
   ]
  },
  {
   "cell_type": "code",
   "execution_count": 20,
   "id": "c549af3a-dc8c-4a46-9bdd-395eb94cff62",
   "metadata": {},
   "outputs": [
    {
     "data": {
      "text/plain": [
       "'hey, where are you?'"
      ]
     },
     "execution_count": 20,
     "metadata": {},
     "output_type": "execute_result"
    }
   ],
   "source": [
    "# a little test\n",
    "model.device = device\n",
    "model.predict('hey, how are you?')"
   ]
  },
  {
   "cell_type": "code",
   "execution_count": 24,
   "id": "b21c712b-f3c9-4357-b734-01949290a773",
   "metadata": {},
   "outputs": [
    {
     "name": "stderr",
     "output_type": "stream",
     "text": [
      "100%|██████████| 17527/17527 [01:00<00:00, 292.08it/s]\n"
     ]
    }
   ],
   "source": [
    "val_dataset = get_val_dataset(max_sent_size=10, max_tokens=8_000, min_freq=2, seed=42)\n",
    "\n",
    "bleu_score = calculate_bleu(val_dataset, model)"
   ]
  },
  {
   "cell_type": "code",
   "execution_count": 25,
   "id": "a670acd5-2aba-4329-9a19-dffce39cd5a0",
   "metadata": {},
   "outputs": [
    {
     "name": "stdout",
     "output_type": "stream",
     "text": [
      "Seq2Seq Bleu Score: 0.0531146153814399\n"
     ]
    }
   ],
   "source": [
    "res['seq2seq_model_0'] = bleu_score\n",
    "print(\"Seq2Seq Bleu Score:\", bleu_score)"
   ]
  },
  {
   "cell_type": "markdown",
   "id": "71d8388b-11c4-468e-8594-28a6f2a16974",
   "metadata": {},
   "source": [
    "### Evaluate Model_1"
   ]
  },
  {
   "cell_type": "code",
   "execution_count": 28,
   "id": "3169656c-9769-4980-92b8-2cb5d4659013",
   "metadata": {},
   "outputs": [],
   "source": [
    "model = torch.load('models/seq2seq_2.01.pt', map_location=device).eval()"
   ]
  },
  {
   "cell_type": "code",
   "execution_count": 29,
   "id": "41f1a11d-0fbe-4111-8a17-e375799d21cf",
   "metadata": {},
   "outputs": [
    {
     "data": {
      "text/plain": [
       "'hey, how are you doing?'"
      ]
     },
     "execution_count": 29,
     "metadata": {},
     "output_type": "execute_result"
    }
   ],
   "source": [
    "# a little test\n",
    "model.device = device\n",
    "model.predict('hey, how are you?')"
   ]
  },
  {
   "cell_type": "code",
   "execution_count": 30,
   "id": "af3203eb-d720-4512-bf23-c10f62e53635",
   "metadata": {},
   "outputs": [
    {
     "name": "stderr",
     "output_type": "stream",
     "text": [
      "100%|██████████| 17527/17527 [00:44<00:00, 397.11it/s]\n"
     ]
    }
   ],
   "source": [
    "val_dataset = get_val_dataset(max_sent_size=10, max_tokens=8_000, min_freq=2, seed=42)\n",
    "\n",
    "bleu_score = calculate_bleu(val_dataset, model)"
   ]
  },
  {
   "cell_type": "code",
   "execution_count": 31,
   "id": "f266612f-f971-4e33-8e01-f4acf5f9fd4a",
   "metadata": {},
   "outputs": [
    {
     "name": "stdout",
     "output_type": "stream",
     "text": [
      "Seq2Seq_2 Bleu Score: 0.12177348992948088\n"
     ]
    }
   ],
   "source": [
    "res['seq2seq_model_1'] = bleu_score\n",
    "print(\"Seq2Seq_2 Bleu Score:\", bleu_score)"
   ]
  },
  {
   "cell_type": "markdown",
   "id": "af5bfbe4-3b8a-4910-9a74-b07cbd87b127",
   "metadata": {},
   "source": [
    "# Evaluate Attention\n",
    "### Model_0\n",
    "- path: models/attention.01.pt\n",
    "- Dataset Building\n",
    "    - seed: 42\n",
    "    - max_sent_size: 10\n",
    "    - max_tokens: 8_000\n",
    "    - min_freq: 2\n",
    "\n",
    "### Model_1\n",
    "- path: models/attention2.01.pt\n",
    "- Dataset Building\n",
    "    - seed: 42\n",
    "    - max_sent_size: 32\n",
    "    - max_tokens: 10_000\n",
    "    - min_freq: 2\n",
    "    \n",
    "### Model_2\n",
    "- path: models/attention2.02.pt\n",
    "- Dataset same as Model_1, but (overfitted)"
   ]
  },
  {
   "cell_type": "markdown",
   "id": "b7602737-56c8-4386-af95-bc1a303f1948",
   "metadata": {},
   "source": [
    "### Evaluate Model_0"
   ]
  },
  {
   "cell_type": "code",
   "execution_count": 32,
   "id": "deb38e1e-e486-463e-9419-f1c9a5d3e788",
   "metadata": {},
   "outputs": [],
   "source": [
    "model = torch.load('models/attention.01.pt', map_location=device).eval()"
   ]
  },
  {
   "cell_type": "code",
   "execution_count": 33,
   "id": "f349c5f6-15ac-4790-bdf0-3d64bb9b51e4",
   "metadata": {},
   "outputs": [
    {
     "data": {
      "text/plain": [
       "'hey, how are you?'"
      ]
     },
     "execution_count": 33,
     "metadata": {},
     "output_type": "execute_result"
    }
   ],
   "source": [
    "# a little test\n",
    "model.device = device\n",
    "model.predict('hey, how are you?')"
   ]
  },
  {
   "cell_type": "code",
   "execution_count": 35,
   "id": "2c213221-c5a9-43d3-b57f-24fbf68149dc",
   "metadata": {},
   "outputs": [
    {
     "name": "stderr",
     "output_type": "stream",
     "text": [
      "100%|██████████| 17527/17527 [00:59<00:00, 292.77it/s]\n"
     ]
    }
   ],
   "source": [
    "val_dataset = get_val_dataset(\n",
    "    max_sent_size=10,\n",
    "    max_tokens=8_000,\n",
    "    min_freq=2,\n",
    "    seed=42\n",
    ")\n",
    "\n",
    "bleu_score = calculate_bleu(val_dataset, model)"
   ]
  },
  {
   "cell_type": "code",
   "execution_count": 36,
   "id": "d5631042-1922-4f2f-998a-4dcc784b5b99",
   "metadata": {},
   "outputs": [
    {
     "name": "stdout",
     "output_type": "stream",
     "text": [
      "Attention Bleu Score: 0.1278586578824364\n"
     ]
    }
   ],
   "source": [
    "res['attention_model_0'] = bleu_score\n",
    "print(\"Attention Bleu Score:\", bleu_score)"
   ]
  },
  {
   "cell_type": "markdown",
   "id": "33eba4d6-8cbb-413c-b030-1c48a9431af9",
   "metadata": {},
   "source": [
    "### Evaluate Model_1"
   ]
  },
  {
   "cell_type": "code",
   "execution_count": 37,
   "id": "c6d96c5e-1830-4df7-b067-c8bd768a2043",
   "metadata": {},
   "outputs": [],
   "source": [
    "model = torch.load('models/attention2.01.pt', map_location=device).eval()"
   ]
  },
  {
   "cell_type": "code",
   "execution_count": 38,
   "id": "04246a27-6f32-4dd2-9d12-530959e63ce2",
   "metadata": {},
   "outputs": [
    {
     "data": {
      "text/plain": [
       "'hey, how are you?'"
      ]
     },
     "execution_count": 38,
     "metadata": {},
     "output_type": "execute_result"
    }
   ],
   "source": [
    "# a little test\n",
    "model.device = device\n",
    "model.predict('hey, how are you?')"
   ]
  },
  {
   "cell_type": "code",
   "execution_count": 39,
   "id": "33744da1-0326-4d25-af03-98019758a433",
   "metadata": {},
   "outputs": [
    {
     "name": "stderr",
     "output_type": "stream",
     "text": [
      "100%|██████████| 52229/52229 [05:24<00:00, 160.89it/s]\n"
     ]
    }
   ],
   "source": [
    "val_dataset = get_val_dataset(\n",
    "    max_sent_size=32,\n",
    "    max_tokens=10_000,\n",
    "    min_freq=2,\n",
    "    seed=42\n",
    ")\n",
    "\n",
    "bleu_score = calculate_bleu(val_dataset, model)"
   ]
  },
  {
   "cell_type": "code",
   "execution_count": 40,
   "id": "a009976e-d2ce-405a-a88f-94e572d0388a",
   "metadata": {},
   "outputs": [
    {
     "name": "stdout",
     "output_type": "stream",
     "text": [
      "Attention2 Bleu Score: 0.17888638316354452\n"
     ]
    }
   ],
   "source": [
    "res['attention_model_1'] = bleu_score\n",
    "print(\"Attention2 Bleu Score:\", bleu_score)"
   ]
  },
  {
   "cell_type": "markdown",
   "id": "62f4a734-2330-47e0-856f-1bbc3e00ab7c",
   "metadata": {},
   "source": [
    "### Evaluate Model_2"
   ]
  },
  {
   "cell_type": "code",
   "execution_count": 41,
   "id": "bfbddf24-5c29-4d75-aaa5-c9417f43c2b8",
   "metadata": {},
   "outputs": [],
   "source": [
    "model = torch.load('models/attention2.02.pt', map_location=device).eval()"
   ]
  },
  {
   "cell_type": "code",
   "execution_count": 42,
   "id": "c936737f-7f08-4b47-8891-dbbba46c0fcf",
   "metadata": {},
   "outputs": [
    {
     "data": {
      "text/plain": [
       "'hey, how are you?'"
      ]
     },
     "execution_count": 42,
     "metadata": {},
     "output_type": "execute_result"
    }
   ],
   "source": [
    "# a little test\n",
    "model.device = device\n",
    "model.predict('hey, how are you?')"
   ]
  },
  {
   "cell_type": "code",
   "execution_count": 43,
   "id": "bed93bdf-80fa-462c-9e98-fe3a9a62f7c6",
   "metadata": {},
   "outputs": [
    {
     "name": "stderr",
     "output_type": "stream",
     "text": [
      "100%|██████████| 52229/52229 [05:29<00:00, 158.52it/s]\n"
     ]
    }
   ],
   "source": [
    "val_dataset = get_val_dataset(\n",
    "    max_sent_size=32,\n",
    "    max_tokens=10_000,\n",
    "    min_freq=2,\n",
    "    seed=42\n",
    ")\n",
    "\n",
    "bleu_score = calculate_bleu(val_dataset, model)"
   ]
  },
  {
   "cell_type": "code",
   "execution_count": 44,
   "id": "79382ee6-2a6a-424b-8ec2-7980559eb0f9",
   "metadata": {},
   "outputs": [
    {
     "name": "stdout",
     "output_type": "stream",
     "text": [
      "Attention2 Bleu Score: 0.20631449393285442\n"
     ]
    }
   ],
   "source": [
    "res['attention_model_2'] = bleu_score\n",
    "print(\"Attention2 Bleu Score:\", bleu_score)"
   ]
  },
  {
   "cell_type": "markdown",
   "id": "27d76d19-1a40-458d-84cb-c16a91a3bb57",
   "metadata": {},
   "source": [
    "# Evaluate Transformer\n",
    "### Model_0\n",
    "- path: models/transformer.01.pt\n",
    "- Dataset Building\n",
    "    - seed: 42\n",
    "    - max_sent_size: 10\n",
    "    - max_tokens: 10_000\n",
    "    - min_freq: 2\n",
    "    \n",
    "### Model_1\n",
    "- path: models/transformer2.01.pt\n",
    "- Dataset Building\n",
    "    - seed: 42\n",
    "    - max_sent_size: 32\n",
    "    - max_tokens: 10_000\n",
    "    - min_freq: 2"
   ]
  },
  {
   "cell_type": "markdown",
   "id": "a2641bad-5934-4f8b-82d0-35cbbbc5f4b3",
   "metadata": {},
   "source": [
    "### Evaluate Model_0"
   ]
  },
  {
   "cell_type": "code",
   "execution_count": 4,
   "id": "2c9316dc-54aa-4312-bb5a-c5673a5a2960",
   "metadata": {},
   "outputs": [],
   "source": [
    "model = torch.load('models/transformer.01.pt', map_location=device).eval()"
   ]
  },
  {
   "cell_type": "code",
   "execution_count": 5,
   "id": "9ccfea49-8a11-4ccf-b092-4d579ba86511",
   "metadata": {},
   "outputs": [
    {
     "data": {
      "text/plain": [
       "'hey, how are you doing?'"
      ]
     },
     "execution_count": 5,
     "metadata": {},
     "output_type": "execute_result"
    }
   ],
   "source": [
    "# a little test\n",
    "model.device = device\n",
    "model.predict('hey, how are you?')"
   ]
  },
  {
   "cell_type": "code",
   "execution_count": 6,
   "id": "670e9217-1e45-487b-8058-1f304dd60e03",
   "metadata": {},
   "outputs": [
    {
     "name": "stderr",
     "output_type": "stream",
     "text": [
      "100%|██████████| 17527/17527 [04:15<00:00, 68.58it/s]\n"
     ]
    }
   ],
   "source": [
    "val_dataset = get_val_dataset(\n",
    "    max_sent_size=10,\n",
    "    max_tokens=8_000,\n",
    "    min_freq=2,\n",
    "    seed=42\n",
    ")\n",
    "\n",
    "bleu_score = calculate_bleu(val_dataset, model)"
   ]
  },
  {
   "cell_type": "code",
   "execution_count": 7,
   "id": "0cf84d12-bb5a-4f7a-971d-1a290b5de108",
   "metadata": {},
   "outputs": [
    {
     "name": "stdout",
     "output_type": "stream",
     "text": [
      "Transformer Bleu Score: 0.2858192747677208\n"
     ]
    }
   ],
   "source": [
    "res['transformer_model_0'] = bleu_score\n",
    "print(\"Transformer Bleu Score:\", bleu_score)"
   ]
  },
  {
   "cell_type": "markdown",
   "id": "28fde617-55fc-4e43-9843-1a2876b4f179",
   "metadata": {},
   "source": [
    "### Evaluate Model_1"
   ]
  },
  {
   "cell_type": "code",
   "execution_count": 8,
   "id": "818d725b-374a-477e-945a-859b0d3fbbb1",
   "metadata": {},
   "outputs": [],
   "source": [
    "model = torch.load('models/transformer2.01.pt', map_location=device).eval()"
   ]
  },
  {
   "cell_type": "code",
   "execution_count": 9,
   "id": "54dc6255-7dec-4ab5-973a-88f193be40ea",
   "metadata": {},
   "outputs": [
    {
     "data": {
      "text/plain": [
       "'hey, how are you?'"
      ]
     },
     "execution_count": 9,
     "metadata": {},
     "output_type": "execute_result"
    }
   ],
   "source": [
    "# a little test\n",
    "model.device = device\n",
    "model.predict('hey, how are you?')"
   ]
  },
  {
   "cell_type": "code",
   "execution_count": 10,
   "id": "9b08a36c-88c6-4d0f-a330-75e2c7fc5326",
   "metadata": {},
   "outputs": [
    {
     "name": "stderr",
     "output_type": "stream",
     "text": [
      "100%|██████████| 52229/52229 [21:36<00:00, 40.27it/s]\n"
     ]
    }
   ],
   "source": [
    "val_dataset = get_val_dataset(\n",
    "    max_sent_size=32,\n",
    "    max_tokens=10_000,\n",
    "    min_freq=2,\n",
    "    seed=42\n",
    ")\n",
    "\n",
    "bleu_score = calculate_bleu(val_dataset, model)"
   ]
  },
  {
   "cell_type": "code",
   "execution_count": 11,
   "id": "e3cf74f6-1f30-4170-a487-b2af4cb28420",
   "metadata": {},
   "outputs": [
    {
     "name": "stdout",
     "output_type": "stream",
     "text": [
      "Transformer2 Bleu Score: 0.25850203231637403\n"
     ]
    }
   ],
   "source": [
    "res['transformer_model_1'] = bleu_score\n",
    "print(\"Transformer2 Bleu Score:\", bleu_score)"
   ]
  }
 ],
 "metadata": {
  "kernelspec": {
   "display_name": "Python 3 (ipykernel)",
   "language": "python",
   "name": "python3"
  },
  "language_info": {
   "codemirror_mode": {
    "name": "ipython",
    "version": 3
   },
   "file_extension": ".py",
   "mimetype": "text/x-python",
   "name": "python",
   "nbconvert_exporter": "python",
   "pygments_lexer": "ipython3",
   "version": "3.9.16"
  }
 },
 "nbformat": 4,
 "nbformat_minor": 5
}
