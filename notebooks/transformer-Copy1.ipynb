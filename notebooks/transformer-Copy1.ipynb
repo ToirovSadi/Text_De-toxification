{
 "cells": [
  {
   "cell_type": "code",
   "execution_count": 1,
   "id": "ad2118f3-61a9-4655-bde9-b26e97cc7155",
   "metadata": {},
   "outputs": [],
   "source": [
    "LOAD_MODEL = 'models/transformer.01.pt'\n",
    "MODEL_CHECKPOINT = 'models/transformer.01.pt'\n",
    "DATASET_PATH = 'data/interim/preprocessed_paranmt3.tsv'"
   ]
  },
  {
   "cell_type": "code",
   "execution_count": 2,
   "id": "40068414-5b9f-4586-bcdb-470c3efb7c20",
   "metadata": {},
   "outputs": [],
   "source": [
    "import numpy as np\n",
    "\n",
    "from torch.utils.data import DataLoader\n",
    "import torch\n",
    "import torch.nn as nn\n",
    "from torch.optim import Adam\n",
    "\n",
    "import os\n",
    "os.chdir(\"..\") # go to the root dir"
   ]
  },
  {
   "cell_type": "markdown",
   "id": "1dd8b060-2108-4d18-865c-f9de2ae7969c",
   "metadata": {},
   "source": [
    "## Get the Dataset"
   ]
  },
  {
   "cell_type": "code",
   "execution_count": 3,
   "id": "c079f37c-1954-4a89-b159-84b750279697",
   "metadata": {},
   "outputs": [],
   "source": [
    "MAX_SENT_SIZE = 10\n",
    "MAX_TOKENS = 25_000"
   ]
  },
  {
   "cell_type": "code",
   "execution_count": 4,
   "id": "d26e343f-e42b-442e-9bb4-0a0d96bbf4cb",
   "metadata": {},
   "outputs": [],
   "source": [
    "from src.data.make_dataset import ParanmtDataset\n",
    "\n",
    "train_dataset = ParanmtDataset(\n",
    "    path=DATASET_PATH,\n",
    "    max_sent_size=MAX_SENT_SIZE,\n",
    "    train=True,\n",
    "    seed=42,\n",
    ")"
   ]
  },
  {
   "cell_type": "code",
   "execution_count": 5,
   "id": "3545056a-cc41-46b1-8246-1b7516cb8d87",
   "metadata": {},
   "outputs": [],
   "source": [
    "train_dataset.build_vocab(\n",
    "    min_freq=2,\n",
    "    specials=['<unk>', '<pad>', '<sos>', '<eos>'],\n",
    "    max_tokens=MAX_TOKENS,\n",
    ")"
   ]
  },
  {
   "cell_type": "code",
   "execution_count": 6,
   "id": "67722bfa-d4d6-499a-9862-d7e9ca0ad165",
   "metadata": {},
   "outputs": [],
   "source": [
    "enc_vocab = train_dataset.toxic_vocab\n",
    "dec_vocab = train_dataset.neutral_vocab"
   ]
  },
  {
   "cell_type": "code",
   "execution_count": 7,
   "id": "b1e4b03a-911c-4999-8372-2e2cdfda5911",
   "metadata": {},
   "outputs": [
    {
     "name": "stdout",
     "output_type": "stream",
     "text": [
      "size of encoder vocab: 12137\n",
      "size of decoder vocab: 14544\n"
     ]
    }
   ],
   "source": [
    "print(\"size of encoder vocab:\", len(enc_vocab))\n",
    "print(\"size of decoder vocab:\", len(dec_vocab))"
   ]
  },
  {
   "cell_type": "code",
   "execution_count": 8,
   "id": "40e15519-eb8f-4164-82a4-6fe43237e8dd",
   "metadata": {},
   "outputs": [],
   "source": [
    "val_dataset = ParanmtDataset(\n",
    "    path=DATASET_PATH,\n",
    "    max_sent_size=MAX_SENT_SIZE,\n",
    "    vocabs=(enc_vocab, dec_vocab), # avoid data leakage\n",
    "    train=False,\n",
    "    seed=42,\n",
    "    take_first=10_000,\n",
    ")"
   ]
  },
  {
   "cell_type": "code",
   "execution_count": 9,
   "id": "29e54778-c844-4370-9329-93a26270d0fb",
   "metadata": {},
   "outputs": [
    {
     "data": {
      "text/plain": [
       "(162961, 10000)"
      ]
     },
     "execution_count": 9,
     "metadata": {},
     "output_type": "execute_result"
    }
   ],
   "source": [
    "len(train_dataset), len(val_dataset)"
   ]
  },
  {
   "cell_type": "markdown",
   "id": "aaa20304-6d4f-457e-bb38-518308c38543",
   "metadata": {},
   "source": [
    "## Let's create Dataloader"
   ]
  },
  {
   "cell_type": "code",
   "execution_count": 10,
   "id": "ec52e669-ab26-42a5-a192-e0b7d46cb82b",
   "metadata": {},
   "outputs": [],
   "source": [
    "batch_size = 256"
   ]
  },
  {
   "cell_type": "code",
   "execution_count": 11,
   "id": "52e6306f-5a09-4ae1-a202-208fea6562bd",
   "metadata": {},
   "outputs": [],
   "source": [
    "train_dataloader = DataLoader(\n",
    "    train_dataset,\n",
    "    batch_size=batch_size,\n",
    "    shuffle=True,\n",
    ")\n",
    "\n",
    "val_dataloader = DataLoader(\n",
    "    val_dataset,\n",
    "    batch_size=batch_size,\n",
    "    shuffle=False,\n",
    ")"
   ]
  },
  {
   "cell_type": "code",
   "execution_count": 12,
   "id": "e60c1f04-f350-4f9b-8960-1cca38e70a69",
   "metadata": {},
   "outputs": [
    {
     "name": "stdout",
     "output_type": "stream",
     "text": [
      "toxic_sent.shape: torch.Size([256, 10])\n",
      "neutral_sent.shape: torch.Size([256, 10])\n"
     ]
    }
   ],
   "source": [
    "# let's check if shape and everything is ok\n",
    "for batch in train_dataloader:\n",
    "    toxic_sent, neutral_sent = batch\n",
    "    print(\"toxic_sent.shape:\", toxic_sent.shape)\n",
    "    print(\"neutral_sent.shape:\", neutral_sent.shape)\n",
    "    break"
   ]
  },
  {
   "cell_type": "code",
   "execution_count": 13,
   "id": "dca808e2-529f-4c8e-b035-3b03ec7d053d",
   "metadata": {},
   "outputs": [
    {
     "data": {
      "text/plain": [
       "device(type='cuda')"
      ]
     },
     "execution_count": 13,
     "metadata": {},
     "output_type": "execute_result"
    }
   ],
   "source": [
    "device = torch.device('cuda' if torch.cuda.is_available() else 'cpu')\n",
    "device"
   ]
  },
  {
   "cell_type": "markdown",
   "id": "fc46dfbe-d834-48e7-ad09-c49c2a676386",
   "metadata": {},
   "source": [
    "# Load the Model\n",
    "\n",
    "- Simple EncoderDecoder (Seq2Seq) architerture"
   ]
  },
  {
   "cell_type": "code",
   "execution_count": 14,
   "id": "e1b9c17a-0069-481e-a76c-240d46bf10a0",
   "metadata": {},
   "outputs": [],
   "source": [
    "# attention.py\n",
    "\n",
    "class MultiHeadAttention(nn.Module):\n",
    "    def __init__(self, hidden_dim, heads, dropout, device):\n",
    "        super(MultiHeadAttention, self).__init__()\n",
    "        \n",
    "        assert hidden_dim % heads == 0\n",
    "        \n",
    "        self.fc_k = nn.Linear(hidden_dim, hidden_dim)\n",
    "        self.fc_v = nn.Linear(hidden_dim, hidden_dim)\n",
    "        self.fc_q = nn.Linear(hidden_dim, hidden_dim)\n",
    "        self.fc_o = nn.Linear(hidden_dim, hidden_dim)\n",
    "        \n",
    "        self.heads = heads\n",
    "        self.hidden_dim = hidden_dim\n",
    "        self.dropout = nn.Dropout(dropout)\n",
    "        self.heads_dim = hidden_dim // heads\n",
    "        self.scale = torch.sqrt(torch.tensor(self.heads_dim)).to(device)\n",
    "        \n",
    "        \n",
    "    def forward(self, query, key, value, mask=None, return_attention=False):\n",
    "        # (key, value, query).shape: [batch_size, max_sent_size, hidden_dim]\n",
    "        \n",
    "        batch_size, max_sent_size, hidden_dim = key.shape\n",
    "            \n",
    "        key = self.fc_k(key).view(batch_size, -1, self.heads, self.heads_dim).permute(0, 2, 1, 3)\n",
    "        value = self.fc_k(value).view(batch_size, -1, self.heads, self.heads_dim).permute(0, 2, 1, 3)\n",
    "        query = self.fc_k(query).view(batch_size, -1, self.heads, self.heads_dim).permute(0, 2, 1, 3)\n",
    "        # key.shape: [batch_size, heads, max_sent_size, heads_dim]\n",
    "        \n",
    "        energy = torch.matmul(query, key.permute(0, 1, 3, 2)) / self.scale\n",
    "        # energy.shape: [batch_size, heads, max_sent_size, max_sent_size]\n",
    "        \n",
    "        if mask is not None:\n",
    "            energy = energy.masked_fill(mask == 0, -1e10)\n",
    "        \n",
    "        attention = torch.softmax(energy, dim=-1)\n",
    "        \n",
    "        x = torch.matmul(self.dropout(attention), value).permute(0, 2, 1, 3).contiguous()\n",
    "        # x.shape: [batch_size, max_sent_size, heads, heads_dim]\n",
    "        x = self.fc_o(x.view(batch_size, -1, self.hidden_dim))\n",
    "        if return_attention:\n",
    "            return x, attention\n",
    "        return x"
   ]
  },
  {
   "cell_type": "code",
   "execution_count": 15,
   "id": "a2ba2a35-df82-4a81-a295-4fbec69d7f8a",
   "metadata": {},
   "outputs": [],
   "source": [
    "# encoder.py\n",
    "\n",
    "class EncoderBlock(nn.Module):\n",
    "    def __init__(self, hidden_dim, heads, ff_expantion, dropout, device):\n",
    "        super(EncoderBlock, self).__init__()\n",
    "        \n",
    "        self.attention = MultiHeadAttention(hidden_dim, heads, dropout, device)\n",
    "        self.norm1 = nn.LayerNorm(hidden_dim)\n",
    "        self.norm2 = nn.LayerNorm(hidden_dim)\n",
    "        self.ff = nn.Sequential(\n",
    "            nn.Linear(hidden_dim, hidden_dim * ff_expantion),\n",
    "            nn.ReLU(),\n",
    "            nn.Dropout(dropout),\n",
    "            \n",
    "            nn.Linear(hidden_dim * ff_expantion, hidden_dim),\n",
    "        )\n",
    "        self.dropout = nn.Dropout(dropout)\n",
    "        \n",
    "    def forward(self, x, mask):\n",
    "        # x.shape: [batch_size, max_sent_size, hidden_dim]\n",
    "        \n",
    "        _x = self.dropout(self.attention(x, x, x, mask))\n",
    "        # _x.shape: [batch_size, max_sent_size, hidden_dim]\n",
    "        \n",
    "        x = self.norm1(_x + x)\n",
    "        # x.shape: [batch_size, max_sent_size, hidden_dim]\n",
    "        \n",
    "        _x = self.dropout(self.ff(x))\n",
    "        # _x.shape: [batch_size, max_sent_size, hidden_dim]\n",
    "        \n",
    "        x = self.norm2(_x + x)\n",
    "        \n",
    "        # _x.shape: [batch_size, max_sent_size, hidden_dim]\n",
    "        return x\n",
    "    \n",
    "class Encoder(nn.Module):\n",
    "    def __init__(self, input_dim, hidden_dim, num_layers, heads, ff_expantion, dropout, device, max_size, vocab):\n",
    "        super(Encoder, self).__init__()\n",
    "        \n",
    "        self.padding_idx = vocab['<pad>']\n",
    "        self.token_embedding = nn.Embedding(input_dim, hidden_dim, padding_idx=self.padding_idx)\n",
    "        self.pos_embedding = nn.Embedding(max_size, hidden_dim)\n",
    "        \n",
    "        self.layers = nn.ModuleList([\n",
    "            EncoderBlock(\n",
    "                hidden_dim=hidden_dim,\n",
    "                heads=heads,\n",
    "                ff_expantion=ff_expantion,\n",
    "                dropout=dropout,\n",
    "                device=device,\n",
    "            ) for _ in range(num_layers)])\n",
    "        \n",
    "        self.dropout = nn.Dropout(dropout)\n",
    "        self.scale = torch.sqrt(torch.tensor(hidden_dim)).to(device)\n",
    "        self.device = device\n",
    "        self.vocab = vocab\n",
    "        \n",
    "    def forward(self, x, mask):\n",
    "        # x.shape: [batch_size, max_sent_size]\n",
    "        # mask.shape: [batch_size, max_sent_size]\n",
    "        batch_size, max_sent_size = x.shape\n",
    "        emb = self.token_embedding(x) * self.scale\n",
    "        # emb.shape: [batch_size, max_sent_size, hidden_dim]\n",
    "        pos = torch.arange(0, max_sent_size).reshape(1, max_sent_size).repeat(batch_size, 1).to(self.device)\n",
    "        # pos.shape: [batch_size, max_sent_size]\n",
    "        \n",
    "        pos = self.pos_embedding(pos)\n",
    "        # pos.shape: [batch_size, max_sent_size, hidden_dim]\n",
    "        x = self.dropout(emb + pos)\n",
    "        # x.shape: [batch_size, max_sent_size, hidden_dim]\n",
    "        \n",
    "        for layer in self.layers:\n",
    "            x = layer(x, mask)\n",
    "        \n",
    "        # x.shape: [batch_size, max_sent_size, hidden_dim]\n",
    "        return x"
   ]
  },
  {
   "cell_type": "code",
   "execution_count": 16,
   "id": "79d013af-1cc9-497a-9c7e-2982fd837710",
   "metadata": {},
   "outputs": [],
   "source": [
    "# decoder.py\n",
    "\n",
    "class DecoderBlock(nn.Module):\n",
    "    def __init__(self, hidden_dim, heads, ff_expantion, dropout, device):\n",
    "        super(DecoderBlock, self).__init__()\n",
    "        \n",
    "        self.self_attention = MultiHeadAttention(\n",
    "            hidden_dim,\n",
    "            heads,\n",
    "            dropout,\n",
    "            device,\n",
    "        )\n",
    "        self.norm1 = nn.LayerNorm(hidden_dim)\n",
    "        self.encoder_attention = MultiHeadAttention(hidden_dim, heads, dropout, device)\n",
    "        \n",
    "        self.norm2 = nn.LayerNorm(hidden_dim)\n",
    "        self.ff = nn.Sequential(\n",
    "            nn.Linear(hidden_dim, hidden_dim * ff_expantion),\n",
    "            nn.ReLU(),\n",
    "            nn.Dropout(dropout),\n",
    "            \n",
    "            nn.Linear(hidden_dim * ff_expantion, hidden_dim),\n",
    "        )\n",
    "        self.norm3 = nn.LayerNorm(hidden_dim)\n",
    "        self.dropout = nn.Dropout(dropout)\n",
    "        \n",
    "        \n",
    "    def forward(self, x, enc_out, src_mask=None, trg_mask=None, return_attention=False):\n",
    "        # x.shape: [batch_size, max_sent_size]\n",
    "        # enc_out.shape: [batch_size, max_sent_size, hidden_dim]\n",
    "        # src_mask: [batch_size, max_sent_size]\n",
    "        # trg_mask: [batch_size, max_sent_size]\n",
    "        \n",
    "        _x = self.dropout(self.self_attention(x, x, x, trg_mask))\n",
    "        # _x.shape: [batch_size, max_sent_size, hidden_dim]\n",
    "        \n",
    "        x = self.norm1(_x + x)\n",
    "        # x.shape: [batch_size, max_sent_size, hidden_dim]\n",
    "        \n",
    "        _x, attention = self.encoder_attention(x, enc_out, enc_out, src_mask, return_attention=True)\n",
    "        \n",
    "        x = self.norm2(self.dropout(_x) + x)\n",
    "        \n",
    "        x = self.norm3(self.dropout(self.ff(x)) + x)\n",
    "        \n",
    "        if return_attention:\n",
    "            return x, attention\n",
    "        return x\n",
    "        \n",
    "\n",
    "class Decoder(nn.Module):\n",
    "    def __init__(self, output_dim, hidden_dim, num_layers, heads, ff_expantion, dropout, device, max_size, vocab):\n",
    "        super(Decoder, self).__init__()\n",
    "        self.padding_idx = vocab['<pad>']\n",
    "        self.token_embedding = nn.Embedding(output_dim, hidden_dim, padding_idx=self.padding_idx)\n",
    "        self.pos_embedding = nn.Embedding(max_size, hidden_dim)\n",
    "\n",
    "        \n",
    "        self.layers = nn.ModuleList([\n",
    "            DecoderBlock(\n",
    "                hidden_dim=hidden_dim,\n",
    "                heads=heads,\n",
    "                ff_expantion=ff_expantion,\n",
    "                dropout=dropout,\n",
    "                device=device,\n",
    "            ) for _ in range(num_layers)])\n",
    "        \n",
    "        self.fc_out = nn.LazyLinear(output_dim)\n",
    "        self.scale = torch.sqrt(torch.tensor(hidden_dim)).to(device)\n",
    "        self.device = device\n",
    "        self.vocab = vocab\n",
    "        self.dropout = nn.Dropout(dropout)\n",
    "        \n",
    "    def forward(self, x, enc_out, src_mask, trg_mask, return_attention):\n",
    "        # x.shape: [batch_size, max_sent_size]\n",
    "        # src_mask.shape: [batch_size, max_sent_size]\n",
    "        # trg_mask.shape: [batch_size, max_sent_size]\n",
    "        batch_size, max_sent_size = x.shape\n",
    "        \n",
    "        emb = self.token_embedding(x)\n",
    "        # emb.shape: [batch_size, max_sent_size, hidden_dim]\n",
    "        \n",
    "        pos = torch.arange(0, max_sent_size).reshape(1, max_sent_size).repeat(batch_size, 1).to(self.device)\n",
    "        pos = self.pos_embedding(pos)\n",
    "        x = self.dropout(emb * self.scale + pos)\n",
    "        \n",
    "        for layer in self.layers:\n",
    "            x = layer(x, enc_out, src_mask, trg_mask, return_attention=return_attention)\n",
    "            if return_attention:\n",
    "                x, attention = x\n",
    "        \n",
    "        x = self.fc_out(x)\n",
    "        \n",
    "        if return_attention:\n",
    "            return x, attention\n",
    "        \n",
    "        return x\n",
    "        "
   ]
  },
  {
   "cell_type": "code",
   "execution_count": 17,
   "id": "9f0024f6-d0bc-4b9d-bbc7-425fbd3d2618",
   "metadata": {},
   "outputs": [],
   "source": [
    "class Transformer(nn.Module):\n",
    "    def __init__(self, encoder, decoder, max_sent_size, device):\n",
    "        super(Transformer, self).__init__()\n",
    "        \n",
    "        self.encoder = encoder\n",
    "        self.decoder = decoder\n",
    "        self.device = device\n",
    "        self.max_sent_size = max_sent_size\n",
    "    \n",
    "    def mask_src(self, x):\n",
    "        # x.shape: [batch_size, max_sent_size]\n",
    "        x = x.unsqueeze(1).unsqueeze(2)\n",
    "        return (x != self.encoder.padding_idx)\n",
    "    \n",
    "    def mask_trg(self, x):\n",
    "        # x.shape: [batch_size, max_sent_size]\n",
    "        trg_pad_mask = (x != self.decoder.padding_idx).unsqueeze(1).unsqueeze(2)\n",
    "        max_sent_size = x.shape[1]\n",
    "        mask = torch.tril(torch.ones((max_sent_size, max_sent_size), device=self.device)).bool()\n",
    "        return trg_pad_mask & mask\n",
    "    \n",
    "    def forward(self, src, trg, t=None, return_attention=False):\n",
    "        # remove <eos> from trg\n",
    "        trg = trg[:, :-1]\n",
    "        \n",
    "        src_mask = self.mask_src(src)\n",
    "        trg_mask = self.mask_trg(trg)\n",
    "        enc_output = self.encoder(src, src_mask)\n",
    "        outputs = self.decoder(trg, enc_output, src_mask, trg_mask, return_attention=return_attention)\n",
    "        return outputs\n",
    "        "
   ]
  },
  {
   "cell_type": "code",
   "execution_count": 18,
   "id": "451a159a-dae5-487c-be50-c87b7407add1",
   "metadata": {},
   "outputs": [],
   "source": [
    "# configure some parameters for the model\n",
    "heads = 4\n",
    "hidden_dim = 256\n",
    "ff_expantion = 4\n",
    "max_size = MAX_SENT_SIZE\n",
    "\n",
    "## Encoder\n",
    "enc_input_dim = len(enc_vocab)\n",
    "enc_dropout = 0.1\n",
    "enc_num_layers = 3\n",
    "enc_padding_idx = enc_vocab['<pad>']\n",
    "\n",
    "## Decoder\n",
    "dec_output_dim = len(dec_vocab)\n",
    "dec_dropout = 0.1\n",
    "dec_num_layers = 3\n",
    "dec_padding_idx = dec_vocab['<pad>']"
   ]
  },
  {
   "cell_type": "code",
   "execution_count": 19,
   "id": "5b48dfdf-ba48-477c-ac62-2c512a69d86f",
   "metadata": {},
   "outputs": [
    {
     "name": "stderr",
     "output_type": "stream",
     "text": [
      "/usr/local/lib/python3.9/dist-packages/torch/nn/modules/lazy.py:180: UserWarning: Lazy modules are a new feature under heavy development so changes to the API or functionality can happen at any moment.\n",
      "  warnings.warn('Lazy modules are a new feature under heavy development '\n"
     ]
    }
   ],
   "source": [
    "# load the encoder and decoder for our model\n",
    "encoder = Encoder(\n",
    "    input_dim=enc_input_dim,\n",
    "    hidden_dim=hidden_dim,\n",
    "    num_layers=enc_num_layers,\n",
    "    heads=heads,\n",
    "    ff_expantion=ff_expantion,\n",
    "    dropout=enc_dropout,\n",
    "    device=device,\n",
    "    max_size=max_size,\n",
    "    vocab=enc_vocab,\n",
    ").to(device)\n",
    "\n",
    "decoder = Decoder(\n",
    "    output_dim=dec_output_dim,\n",
    "    hidden_dim=hidden_dim,\n",
    "    num_layers=dec_num_layers,\n",
    "    heads=heads,\n",
    "    ff_expantion=ff_expantion,\n",
    "    dropout=dec_dropout,\n",
    "    device=device,\n",
    "    max_size=max_size,\n",
    "    vocab=dec_vocab,\n",
    ").to(device)"
   ]
  },
  {
   "cell_type": "code",
   "execution_count": 20,
   "id": "fb68fa7c-f8ee-4667-9b20-a638de4fe311",
   "metadata": {},
   "outputs": [],
   "source": [
    "best_loss = float('inf')\n",
    "\n",
    "model = Transformer(\n",
    "    encoder=encoder,\n",
    "    decoder=decoder,\n",
    "    device=device,\n",
    "    max_sent_size=MAX_SENT_SIZE,\n",
    ").to(device)"
   ]
  },
  {
   "cell_type": "code",
   "execution_count": 21,
   "id": "088f446e-d95e-4812-949d-a3a5eb20ab6c",
   "metadata": {},
   "outputs": [],
   "source": [
    "optimizer = torch.optim.AdamW(model.parameters(), lr=5e-5)\n",
    "criterion = torch.nn.CrossEntropyLoss(ignore_index=decoder.padding_idx)"
   ]
  },
  {
   "cell_type": "code",
   "execution_count": 22,
   "id": "ae355174-b99f-403c-b926-def9bd694c4b",
   "metadata": {},
   "outputs": [
    {
     "name": "stderr",
     "output_type": "stream",
     "text": [
      "Training 1: 100%|██████████| 637/637 [00:29<00:00, 21.86it/s, loss=5.02]\n",
      "Evaluating 1: 100%|██████████| 40/40 [00:00<00:00, 56.07it/s, loss=3.79]\n",
      "Training 2: 100%|██████████| 637/637 [00:28<00:00, 22.09it/s, loss=3.68]\n",
      "Evaluating 2: 100%|██████████| 40/40 [00:00<00:00, 60.11it/s, loss=3.29]\n",
      "Training 3: 100%|██████████| 637/637 [00:28<00:00, 22.28it/s, loss=3.33]\n",
      "Evaluating 3: 100%|██████████| 40/40 [00:00<00:00, 60.73it/s, loss=3.04]\n",
      "Training 4: 100%|██████████| 637/637 [00:28<00:00, 22.09it/s, loss=3.11]\n",
      "Evaluating 4: 100%|██████████| 40/40 [00:00<00:00, 57.24it/s, loss=2.86]\n",
      "Training 5: 100%|██████████| 637/637 [00:28<00:00, 22.14it/s, loss=2.96]\n",
      "Evaluating 5: 100%|██████████| 40/40 [00:00<00:00, 56.26it/s, loss=2.73]\n"
     ]
    }
   ],
   "source": [
    "from src.models.train_model import train\n",
    "\n",
    "best_loss = train(\n",
    "    model=model,\n",
    "    loaders=(train_dataloader, val_dataloader),\n",
    "    optimizer=optimizer,\n",
    "    criterion=criterion,\n",
    "    epochs=5,\n",
    "    device=device,\n",
    "    best_loss=best_loss,\n",
    "    ckpt_path=MODEL_CHECKPOINT,\n",
    ")"
   ]
  },
  {
   "cell_type": "code",
   "execution_count": 94,
   "id": "7dc1b6ad-901d-4582-84c8-79ba34fdcebc",
   "metadata": {},
   "outputs": [],
   "source": [
    "# let's load the model and predict\n",
    "model = torch.load(MODEL_CHECKPOINT)\n",
    "model.to(device)\n",
    "model.eval()\n",
    "None"
   ]
  },
  {
   "cell_type": "code",
   "execution_count": null,
   "id": "45f11340-1a92-451e-8532-3184702ff724",
   "metadata": {},
   "outputs": [],
   "source": [
    "# perform greed search to predict\n",
    "def greedy_search(model, src):\n",
    "    # src.shape: [batch_size, num_steps]\n",
    "    batch_size = src.shape[0]\n",
    "    if batch_size != 1:\n",
    "        raise ValueError(\"it should be one sentence at a time, batch_size == 1\")\n",
    "    \n",
    "    # we will use decoder vocab to get tokens\n",
    "    vocab = model.decoder.vocab        \n",
    "    max_sent_size = model.max_sent_size\n",
    "    outputs = []\n",
    "    \n",
    "    # pass input through the encoder\n",
    "    with torch.no_grad():\n",
    "        encoder_out, hidden = model.encoder(src)\n",
    "\n",
    "    eos_idx = vocab['<eos>']\n",
    "    if use_encoder_out:\n",
    "        context = encoder_out\n",
    "    else:\n",
    "        context = hidden.swapaxes(0, 1).clone()\n",
    "    dec_in = torch.empty(batch_size, device=model.device, dtype=torch.long).fill_(vocab['<sos>'])\n",
    "    with torch.no_grad():\n",
    "        for i in range(max_sent_size):\n",
    "            preds, hidden = model.decoder(dec_in, hidden, context)\n",
    "            top1 = preds.argmax(1)\n",
    "            if top1 == eos_idx:\n",
    "                break\n",
    "            outputs.append(top1.cpu().detach().numpy()[0])\n",
    "            dec_in = top1\n",
    "\n",
    "    return outputs"
   ]
  },
  {
   "cell_type": "code",
   "execution_count": 133,
   "id": "4c85674f-dbc5-400d-95c5-7e5495b0ef7e",
   "metadata": {},
   "outputs": [],
   "source": [
    "def greedy_search(model, src, return_attention=False):\n",
    "    # src.shape: [batch_size, num_steps]\n",
    "    batch_size = src.shape[0]\n",
    "    if batch_size != 1:\n",
    "        raise ValueError(\"it should be one sentence at a time, batch_size == 1\")\n",
    "\n",
    "    # we will use decoder vocab to get tokens\n",
    "    vocab = model.decoder.vocab        \n",
    "    max_sent_size = model.max_sent_size\n",
    "    outputs = []\n",
    "    model.eval()\n",
    "    \n",
    "    with torch.no_grad():\n",
    "        # pass the src through the encoder\n",
    "        src_mask = model.mask_src(src)\n",
    "        enc_outputs = model.encoder(src, src_mask)\n",
    "    \n",
    "    eos_idx = model.decoder.vocab['<eos>']\n",
    "    res = [model.decoder.vocab['<sos>']]\n",
    "    with torch.no_grad():\n",
    "        for t in range(1, max_sent_size):\n",
    "            trg = torch.LongTensor(res).unsqueeze(0).to(device)\n",
    "            \n",
    "            trg_mask = model.mask_trg(trg)\n",
    "            pred = model.decoder(trg, enc_outputs, src_mask, trg_mask, return_attention=return_attention)\n",
    "            if return_attention:\n",
    "                pred, attention = pred\n",
    "            # pred.shape: [batch_size, max_sent_size, output_dim]\n",
    "            \n",
    "            top1 = pred[:, -1, :].argmax(1)\n",
    "            res.append(top1.item())\n",
    "            if top1 == eos_idx:\n",
    "                break\n",
    "\n",
    "    if return_attention:\n",
    "        res = (res, attention)\n",
    "    \n",
    "    return res"
   ]
  },
  {
   "cell_type": "code",
   "execution_count": 134,
   "id": "2ec10c9b-f00f-46e0-80af-46cd9a0adcff",
   "metadata": {},
   "outputs": [
    {
     "data": {
      "text/plain": [
       "tensor([[  2, 172,   6,  15,  11,  84,  29, 198,   4,   3]], device='cuda:0')"
      ]
     },
     "execution_count": 134,
     "metadata": {},
     "output_type": "execute_result"
    }
   ],
   "source": [
    "src"
   ]
  },
  {
   "cell_type": "code",
   "execution_count": 135,
   "id": "ccca01fc-1a95-4c52-bb1f-dc76097098ff",
   "metadata": {},
   "outputs": [
    {
     "data": {
      "text/plain": [
       "[2, 141, 6, 14, 10, 61, 169, 4, 3]"
      ]
     },
     "execution_count": 135,
     "metadata": {},
     "output_type": "execute_result"
    }
   ],
   "source": [
    "greedy_search(model, src)"
   ]
  },
  {
   "cell_type": "code",
   "execution_count": 136,
   "id": "129b6fdd-e0ce-4317-bf4f-a26313945328",
   "metadata": {},
   "outputs": [
    {
     "data": {
      "text/plain": [
       "[array([  2, 141,   6,  14,  10,  61, 169,   4,   3]),\n",
       " array([  2,  14,  10,  61, 169,   4,   3]),\n",
       " array([  2,  41,   6,  14,  10,  61, 169,   4,   3])]"
      ]
     },
     "execution_count": 136,
     "metadata": {},
     "output_type": "execute_result"
    }
   ],
   "source": [
    "beam_search(model, src)"
   ]
  },
  {
   "cell_type": "code",
   "execution_count": 26,
   "id": "02425e42-36c0-4446-b134-1c53c894cb48",
   "metadata": {},
   "outputs": [],
   "source": [
    "from src.models.transformer.utils import preprocess_text, postprocess_text\n",
    "\n",
    "def predict(src, model, post_process_text=True, return_attention=False):\n",
    "    if type(src) is str:\n",
    "        src = preprocess_text(src, max_sent_size=model.max_sent_size, vocab=model.encoder.vocab)\n",
    "    src = src.to(model.device)\n",
    "    batch_size = src.shape[0]\n",
    "\n",
    "    if batch_size != 1:\n",
    "        raise ValueError(\"batch_size should be one, i.e. one sentence at a time\")\n",
    "\n",
    "    model.eval()\n",
    "    eos_idx = model.decoder.vocab['<eos>']\n",
    "    with torch.no_grad():\n",
    "        # pass the src through the encoder\n",
    "        src_mask = model.mask_src(src)\n",
    "        enc_outputs = model.encoder(src, src_mask)\n",
    "        res = [model.decoder.vocab['<sos>']]\n",
    "        for t in range(1, model.max_sent_size):\n",
    "            trg = torch.LongTensor(res).unsqueeze(0).to(device)\n",
    "            \n",
    "            trg_mask = model.mask_trg(trg)\n",
    "            # print(\"trg\", trg)\n",
    "            # print(\"trg_mask:\", trg_mask)\n",
    "            pred = model.decoder(trg, enc_outputs, src_mask, trg_mask, return_attention=return_attention)\n",
    "            if return_attention:\n",
    "                pred, attention = pred\n",
    "            # pred.shape: [batch_size, max_sent_size, output_dim]\n",
    "            \n",
    "            \n",
    "            top1 = pred[:, -1, :].argmax(1)\n",
    "            res.append(top1.item())\n",
    "            if top1 == eos_idx:\n",
    "                break\n",
    "\n",
    "    res = model.decoder.vocab.lookup_tokens(res[1:])\n",
    "    if post_process_text:\n",
    "        res = postprocess_text(res)\n",
    "    if return_attention:\n",
    "        res = (res, attention)\n",
    "    \n",
    "    return res"
   ]
  },
  {
   "cell_type": "code",
   "execution_count": null,
   "id": "8beb89fd-a676-4526-a3cd-bdc610beabb7",
   "metadata": {},
   "outputs": [],
   "source": []
  },
  {
   "cell_type": "code",
   "execution_count": 27,
   "id": "e3f96417-66e1-4061-ba49-55207e953142",
   "metadata": {},
   "outputs": [
    {
     "name": "stdout",
     "output_type": "stream",
     "text": [
      "toxic_sent: we will break them.\n",
      "neutral_sent: we can take them.\n",
      "prediction: we will take them.\n",
      "\n",
      "\n",
      "toxic_sent: put your head between your legs.\n",
      "neutral_sent: put your head in my lap.\n",
      "prediction: put your head.\n",
      "\n",
      "\n",
      "toxic_sent: be brave, frank, goddamn it!\n",
      "neutral_sent: oh, be brave, frank.\n",
      "prediction: be so, hell, man!\n",
      "\n",
      "\n",
      "toxic_sent: like a 12 year old i dick.\n",
      "neutral_sent: like a straw 12 year old.\n",
      "prediction: like a old man.\n",
      "\n",
      "\n",
      "toxic_sent: can i have a fag?\n",
      "neutral_sent: can i have a cigarette?\n",
      "prediction: can i have a bad?\n",
      "\n",
      "\n",
      "toxic_sent: they will gas them anyway.\n",
      "neutral_sent: they are gassed anyway.\n",
      "prediction: they will be crazy.\n",
      "\n",
      "\n",
      "toxic_sent: never let any chinese\n",
      "neutral_sent: never let go, no chinaman.\n",
      "prediction: never never never never die.\n",
      "\n",
      "\n",
      "toxic_sent: what are you staring at, fucker?\n",
      "neutral_sent: what are you looking at, punk?\n",
      "prediction: what are you doing, man?\n",
      "\n",
      "\n",
      "toxic_sent: she is a cow.\n",
      "neutral_sent: she is a moose.\n",
      "prediction: she is a bad.\n",
      "\n",
      "\n",
      "toxic_sent: grace, this is ridiculous.\n",
      "neutral_sent: that is preposterous, grace.\n",
      "prediction: this is absurd.\n",
      "\n",
      "\n"
     ]
    }
   ],
   "source": [
    "from nltk.tokenize.treebank import TreebankWordDetokenizer\n",
    "detokenizer = TreebankWordDetokenizer()\n",
    "\n",
    "# let's see how our model works\n",
    "num_examples = 10\n",
    "df = val_dataset\n",
    "for _ in range(num_examples):\n",
    "    idx = np.random.randint(0, len(df))\n",
    "    toxic_sent = detokenizer.detokenize(df.df.loc[idx, 'toxic_sent'])\n",
    "    neutral_sent = detokenizer.detokenize(df.df.loc[idx, 'neutral_sent'])\n",
    "\n",
    "    print('toxic_sent:', toxic_sent)\n",
    "    print('neutral_sent:', neutral_sent)\n",
    "    print('prediction:', predict(toxic_sent, model))\n",
    "    print(\"\\n\")"
   ]
  },
  {
   "cell_type": "code",
   "execution_count": null,
   "id": "33edf4b6-922e-4ceb-9e1f-236f41ec1c47",
   "metadata": {},
   "outputs": [],
   "source": []
  },
  {
   "cell_type": "code",
   "execution_count": 121,
   "id": "b8748d89-e24a-4c12-bb62-1b9344153311",
   "metadata": {},
   "outputs": [],
   "source": [
    "from queue import PriorityQueue\n",
    "\n",
    "### Beam Search Implementation\n",
    "# beam search node, to reconstruct the output\n",
    "class BeamNode:\n",
    "    def __init__(self, dec_in, log_prob, length):\n",
    "        self.dec_in = dec_in\n",
    "        self.log_prob = log_prob\n",
    "        self.length = length\n",
    "        \n",
    "    def eval(self, alpha=0.75):\n",
    "        # alpha: more penalty for longer sentences\n",
    "        return self.log_prob / (self.length ** alpha)\n",
    "    \n",
    "    def __ln__(self, other):\n",
    "        return self.log_prob < other.log_prob\n",
    "    \n",
    "# perform beam search to predict\n",
    "def beam_search(model, src, beam_width=5, num_candidates=3, max_steps=2000, max_candidate_coef=3):\n",
    "    # if beam search by it self working slowly try to reduce `max_steps` or `max_candidate_coef`\n",
    "    max_candidates = num_candidates * max_candidate_coef\n",
    "    \n",
    "    # init state\n",
    "    q = PriorityQueue()\n",
    "    qsize = 0\n",
    "    candidates = []\n",
    "    eos_idx = model.decoder.vocab['<eos>']\n",
    "    sos_idx = model.decoder.vocab['<sos>']\n",
    "    batch_size = src.shape[0]\n",
    "    if batch_size != 1:\n",
    "        raise ValueError(\"it should be one sentence at a time, batch_size == 1\")\n",
    "    \n",
    "    # first steps\n",
    "    with torch.no_grad():\n",
    "        src_mask = model.mask_src(src)\n",
    "        enc_outputs = model.encoder(src, src_mask)\n",
    "    dec_in = torch.LongTensor([[sos_idx]]).to(model.device)\n",
    "    node = BeamNode(dec_in, log_prob=0, length=1)\n",
    "    q.put((-node.eval(), node))\n",
    "    # start the beam search\n",
    "    with torch.no_grad():\n",
    "        while q.qsize() > 0 and qsize <= max_steps:\n",
    "            score, node = q.get()\n",
    "            # print(node.dec_in[:, -1])\n",
    "            if node.dec_in[:, -1] == eos_idx and node.length > 1:\n",
    "                candidates.append((score, node))\n",
    "                if len(candidates) > max_candidates:\n",
    "                    break\n",
    "                continue\n",
    "            if node.length > model.max_sent_size:\n",
    "                continue\n",
    "            \n",
    "            trg_mask = model.mask_trg(node.dec_in)\n",
    "            preds = model.decoder(node.dec_in, enc_outputs, src_mask, trg_mask, return_attention=False)\n",
    "            # print(\"preds.shape:\", preds.shape)\n",
    "            preds = torch.log_softmax(preds[:, -1, :], dim=1)\n",
    "            # print(\"preds.shape:\", preds.shape)\n",
    "            # take only top beam_width words\n",
    "            topk, indices = torch.topk(preds, beam_width)\n",
    "            # topk.shape: [1, beam_width]\n",
    "            # print(\"topk.shape:\", topk.shape)\n",
    "            for i in range(beam_width):\n",
    "                prob = topk[0][i].item()\n",
    "                dec_in = indices[0][i].view(1, -1)\n",
    "                dec_in = torch.cat((node.dec_in, dec_in), dim=1)\n",
    "                next_node = BeamNode(\n",
    "                    dec_in,\n",
    "                    log_prob=node.log_prob + prob,\n",
    "                    length=node.length + 1,\n",
    "                )\n",
    "                q.put((-next_node.eval(), next_node))\n",
    "                \n",
    "            qsize += beam_width - 1\n",
    "    \n",
    "    # if not enough answer, take from top of queue\n",
    "    while len(candidates) < max_candidates and q.qsize() > 0:\n",
    "        candidates.append(q.get())\n",
    "        \n",
    "    # sort candidates, and take first `num_candidates`\n",
    "    candidates = sorted(candidates, key=lambda x: x[0])[:num_candidates]\n",
    "    \n",
    "    outputs = []\n",
    "    for score, node in candidates:\n",
    "        outputs.append(node.dec_in.cpu().detach().numpy()[0])\n",
    "        \n",
    "    return outputs"
   ]
  },
  {
   "cell_type": "code",
   "execution_count": 123,
   "id": "f5349a55-a264-4249-abb3-8cdf6c86a685",
   "metadata": {},
   "outputs": [
    {
     "name": "stdout",
     "output_type": "stream",
     "text": [
      "['<sos>', 'well', ',', 'it', 'is', 'about', 'time', '.', '<eos>']\n",
      "['<sos>', 'it', 'is', 'about', 'time', '.', '<eos>']\n",
      "['<sos>', 'oh', ',', 'it', 'is', 'about', 'time', '.', '<eos>']\n"
     ]
    }
   ],
   "source": [
    "# let's take `idx`-th examle from val_dataset\n",
    "idx = 6\n",
    "src, trg = val_dataset[idx]\n",
    "src = src.to(device).unsqueeze(0)\n",
    "trg = trg.to(device).unsqueeze(0)\n",
    "\n",
    "res = beam_search(model, src)\n",
    "\n",
    "for sent in res:\n",
    "    print(model.decoder.vocab.lookup_tokens(sent))"
   ]
  },
  {
   "cell_type": "markdown",
   "id": "e59e2c68-5448-450b-bdd0-85e0f6884ba1",
   "metadata": {},
   "source": [
    "## Let's visualize the attention weights"
   ]
  },
  {
   "cell_type": "code",
   "execution_count": 68,
   "id": "e347fa57-9a1a-4169-b642-62516705049c",
   "metadata": {},
   "outputs": [],
   "source": [
    "# from src.visualize import diplay_attention\n",
    "\n",
    "def display_attention(sentence, translation, attention, n_heads = 8, n_rows = 4, n_cols = 2):\n",
    "    \n",
    "    assert n_rows * n_cols == n_heads\n",
    "    \n",
    "    fig = plt.figure(figsize=(15,10))\n",
    "    \n",
    "    for i in range(n_heads):\n",
    "        \n",
    "        ax = fig.add_subplot(n_rows, n_cols, i+1)\n",
    "        \n",
    "        _attention = attention.squeeze(0)[i].cpu().detach().numpy()\n",
    "\n",
    "        cax = ax.matshow(_attention, cmap='bone')\n",
    "\n",
    "        ax.tick_params(labelsize=12)\n",
    "        ax.set_xticklabels(['']+[t.lower() for t in sentence], \n",
    "                           rotation=45)\n",
    "        ax.set_yticklabels(['']+translation)\n",
    "\n",
    "        ax.xaxis.set_major_locator(ticker.MultipleLocator(1))\n",
    "        ax.yaxis.set_major_locator(ticker.MultipleLocator(1))\n",
    "\n",
    "    plt.show()\n",
    "    plt.close()"
   ]
  },
  {
   "cell_type": "code",
   "execution_count": 89,
   "id": "3a6ae0d1-e049-4325-b2e4-669c80c8bf54",
   "metadata": {},
   "outputs": [
    {
     "name": "stdout",
     "output_type": "stream",
     "text": [
      "torch.Size([1, 10])\n"
     ]
    }
   ],
   "source": [
    "# let's take `idx`-th examle from val_dataset\n",
    "idx = 6\n",
    "src, trg = val_dataset[idx]\n",
    "src = src.to(device).unsqueeze(0)\n",
    "trg = trg.to(device).unsqueeze(0)\n",
    "print(src.shape)\n",
    "pred, attention = predict(src, model, return_attention=True, post_process_text=False)\n"
   ]
  },
  {
   "cell_type": "code",
   "execution_count": 90,
   "id": "5eb406ce-5831-4b83-b6df-a5b9c61b329e",
   "metadata": {},
   "outputs": [],
   "source": [
    "src = src.cpu().detach().numpy()[0]\n",
    "src = enc_vocab.lookup_tokens(src)"
   ]
  },
  {
   "cell_type": "code",
   "execution_count": 91,
   "id": "ce627d04-fee0-4816-9ed5-c65d6cc576a4",
   "metadata": {},
   "outputs": [
    {
     "name": "stdout",
     "output_type": "stream",
     "text": [
      "['<sos>', 'well', ',', 'it', 'is', 'about', 'damn', 'time', '.', '<eos>']\n"
     ]
    }
   ],
   "source": [
    "print(src)"
   ]
  },
  {
   "cell_type": "code",
   "execution_count": 92,
   "id": "9047ff57-b2b5-4b1d-b751-9ec95961cd5f",
   "metadata": {},
   "outputs": [
    {
     "name": "stdout",
     "output_type": "stream",
     "text": [
      "['well', ',', 'it', 'is', 'about', 'time', '.', '<eos>']\n"
     ]
    }
   ],
   "source": [
    "print(pred)"
   ]
  },
  {
   "cell_type": "code",
   "execution_count": 93,
   "id": "bae69986-be48-407d-a083-0b2cf560e9ce",
   "metadata": {},
   "outputs": [
    {
     "name": "stderr",
     "output_type": "stream",
     "text": [
      "/tmp/ipykernel_880/3350471769.py:18: UserWarning: FixedFormatter should only be used together with FixedLocator\n",
      "  ax.set_xticklabels(['']+[t.lower() for t in sentence],\n",
      "/tmp/ipykernel_880/3350471769.py:20: UserWarning: FixedFormatter should only be used together with FixedLocator\n",
      "  ax.set_yticklabels(['']+translation)\n"
     ]
    },
    {
     "data": {
      "image/png": "[encoded data removed]",
      "text/plain": [
       "<Figure size 1500x1000 with 4 Axes>"
      ]
     },
     "metadata": {},
     "output_type": "display_data"
    }
   ],
   "source": [
    "import matplotlib.pyplot as plt\n",
    "import matplotlib.ticker as ticker\n",
    "\n",
    "display_attention(src, pred, attention, n_heads=4, n_rows=2, n_cols=2)"
   ]
  },
  {
   "cell_type": "code",
   "execution_count": null,
   "id": "11762f72-cd5a-4f66-95bd-1661a9744ccc",
   "metadata": {},
   "outputs": [],
   "source": []
  }
 ],
 "metadata": {
  "kernelspec": {
   "display_name": "Python 3 (ipykernel)",
   "language": "python",
   "name": "python3"
  },
  "language_info": {
   "codemirror_mode": {
    "name": "ipython",
    "version": 3
   },
   "file_extension": ".py",
   "mimetype": "text/x-python",
   "name": "python",
   "nbconvert_exporter": "python",
   "pygments_lexer": "ipython3",
   "version": "3.9.16"
  }
 },
 "nbformat": 4,
 "nbformat_minor": 5
}
