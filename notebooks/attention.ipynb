{
 "cells": [
  {
   "cell_type": "code",
   "execution_count": 1,
   "id": "9a6f672e-f6b7-4e94-96a3-e71fc3acb2ae",
   "metadata": {},
   "outputs": [],
   "source": [
    "LOAD_MODEL = 'models/attention.01.pt'\n",
    "MODEL_CHECKPOINT = 'models/attention.01.pt'\n",
    "DATASET_PATH = 'data/interim/preprocessed_paranmt3.tsv'"
   ]
  },
  {
   "cell_type": "code",
   "execution_count": 2,
   "id": "40068414-5b9f-4586-bcdb-470c3efb7c20",
   "metadata": {},
   "outputs": [],
   "source": [
    "import torch\n",
    "import numpy as np\n",
    "from torch.utils.data import DataLoader\n",
    "\n",
    "import os\n",
    "os.chdir(\"..\") # go to the root dir"
   ]
  },
  {
   "cell_type": "markdown",
   "id": "6eb45299-8b78-4ae2-90be-f962ed587c5c",
   "metadata": {},
   "source": [
    "# Get the Dataset"
   ]
  },
  {
   "cell_type": "code",
   "execution_count": 3,
   "id": "e92fffa6-8fc3-46a0-8d87-587f81e95ad5",
   "metadata": {},
   "outputs": [],
   "source": [
    "MAX_SENT_SIZE = 10\n",
    "MAX_TOKENS = 25_000"
   ]
  },
  {
   "cell_type": "code",
   "execution_count": 4,
   "id": "81094a8f-0cb9-436c-9892-d3b28b070dcf",
   "metadata": {},
   "outputs": [],
   "source": [
    "from src.data.make_dataset import ParanmtDataset\n",
    "\n",
    "train_dataset = ParanmtDataset(\n",
    "    path=DATASET_PATH,\n",
    "    max_sent_size=MAX_SENT_SIZE,\n",
    "    train=True,\n",
    "    seed=42,\n",
    ")"
   ]
  },
  {
   "cell_type": "code",
   "execution_count": 5,
   "id": "f324e5bd-eb23-48aa-adc4-075b17a62ae6",
   "metadata": {},
   "outputs": [],
   "source": [
    "train_dataset.build_vocab(\n",
    "    min_freq=2,\n",
    "    specials=['<unk>', '<pad>', '<sos>', '<eos>'],\n",
    "    max_tokens=MAX_TOKENS,\n",
    ")"
   ]
  },
  {
   "cell_type": "code",
   "execution_count": 6,
   "id": "aecda01b-5e50-41ff-afcf-7b2a6d8d1080",
   "metadata": {},
   "outputs": [
    {
     "name": "stdout",
     "output_type": "stream",
     "text": [
      "size of encoder vocab: 12137\n",
      "size of decoder vocab: 14544\n"
     ]
    }
   ],
   "source": [
    "enc_vocab = train_dataset.toxic_vocab\n",
    "dec_vocab = train_dataset.neutral_vocab\n",
    "\n",
    "print(\"size of encoder vocab:\", len(enc_vocab))\n",
    "print(\"size of decoder vocab:\", len(dec_vocab))"
   ]
  },
  {
   "cell_type": "code",
   "execution_count": 7,
   "id": "d2de9532-e02a-405d-ab46-c0ff7f2049aa",
   "metadata": {},
   "outputs": [],
   "source": [
    "val_dataset = ParanmtDataset(\n",
    "    path=DATASET_PATH,\n",
    "    max_sent_size=MAX_SENT_SIZE,\n",
    "    vocabs=(enc_vocab, dec_vocab), # avoid data leakage\n",
    "    train=False,\n",
    "    seed=42,\n",
    "    take_first=10_000,\n",
    ")"
   ]
  },
  {
   "cell_type": "code",
   "execution_count": 8,
   "id": "fd018d4e-9907-4e9c-a197-18290ea7cb98",
   "metadata": {},
   "outputs": [
    {
     "data": {
      "text/html": [
       "<div>\n",
       "<style scoped>\n",
       "    .dataframe tbody tr th:only-of-type {\n",
       "        vertical-align: middle;\n",
       "    }\n",
       "\n",
       "    .dataframe tbody tr th {\n",
       "        vertical-align: top;\n",
       "    }\n",
       "\n",
       "    .dataframe thead th {\n",
       "        text-align: right;\n",
       "    }\n",
       "</style>\n",
       "<table border=\"1\" class=\"dataframe\">\n",
       "  <thead>\n",
       "    <tr style=\"text-align: right;\">\n",
       "      <th></th>\n",
       "      <th>similarity</th>\n",
       "      <th>lenght_diff</th>\n",
       "      <th>toxic_sent</th>\n",
       "      <th>neutral_sent</th>\n",
       "      <th>toxic_val</th>\n",
       "      <th>neutral_val</th>\n",
       "    </tr>\n",
       "  </thead>\n",
       "  <tbody>\n",
       "    <tr>\n",
       "      <th>0</th>\n",
       "      <td>0.784351</td>\n",
       "      <td>0.190476</td>\n",
       "      <td>[dressing, like, a, bum, ?]</td>\n",
       "      <td>[walk, like, a, bum, ?]</td>\n",
       "      <td>0.911522</td>\n",
       "      <td>0.040193</td>\n",
       "    </tr>\n",
       "    <tr>\n",
       "      <th>1</th>\n",
       "      <td>0.610479</td>\n",
       "      <td>0.000000</td>\n",
       "      <td>[you, bum, !]</td>\n",
       "      <td>[slacker, !]</td>\n",
       "      <td>0.968336</td>\n",
       "      <td>0.006487</td>\n",
       "    </tr>\n",
       "    <tr>\n",
       "      <th>2</th>\n",
       "      <td>0.866624</td>\n",
       "      <td>0.060606</td>\n",
       "      <td>[chloe, ,, stop, being, so, paranoid, .]</td>\n",
       "      <td>[chloe, ,, stop, being, so, paranoid, .]</td>\n",
       "      <td>0.611291</td>\n",
       "      <td>0.021283</td>\n",
       "    </tr>\n",
       "    <tr>\n",
       "      <th>3</th>\n",
       "      <td>0.949912</td>\n",
       "      <td>0.157895</td>\n",
       "      <td>[it, stinks, in, here, .]</td>\n",
       "      <td>[stinks, in, here, .]</td>\n",
       "      <td>0.698503</td>\n",
       "      <td>0.013900</td>\n",
       "    </tr>\n",
       "    <tr>\n",
       "      <th>4</th>\n",
       "      <td>0.885716</td>\n",
       "      <td>0.347826</td>\n",
       "      <td>[i, want, to, silence, you, .]</td>\n",
       "      <td>[i, silence, you, .]</td>\n",
       "      <td>0.921562</td>\n",
       "      <td>0.020940</td>\n",
       "    </tr>\n",
       "    <tr>\n",
       "      <th>...</th>\n",
       "      <td>...</td>\n",
       "      <td>...</td>\n",
       "      <td>...</td>\n",
       "      <td>...</td>\n",
       "      <td>...</td>\n",
       "      <td>...</td>\n",
       "    </tr>\n",
       "    <tr>\n",
       "      <th>162956</th>\n",
       "      <td>0.816062</td>\n",
       "      <td>0.076923</td>\n",
       "      <td>[that, is, a, stupid, excuse, !]</td>\n",
       "      <td>[that, is, a, cowardly, excuse, !]</td>\n",
       "      <td>0.999643</td>\n",
       "      <td>0.042241</td>\n",
       "    </tr>\n",
       "    <tr>\n",
       "      <th>162957</th>\n",
       "      <td>0.756084</td>\n",
       "      <td>0.300000</td>\n",
       "      <td>[what, the, hell, ?, huh, ?]</td>\n",
       "      <td>[what, is, wrong, ?]</td>\n",
       "      <td>0.825482</td>\n",
       "      <td>0.000042</td>\n",
       "    </tr>\n",
       "    <tr>\n",
       "      <th>162958</th>\n",
       "      <td>0.618064</td>\n",
       "      <td>0.333333</td>\n",
       "      <td>[like, your, pecker, .]</td>\n",
       "      <td>[like, a, cue, .]</td>\n",
       "      <td>0.978997</td>\n",
       "      <td>0.000061</td>\n",
       "    </tr>\n",
       "    <tr>\n",
       "      <th>162959</th>\n",
       "      <td>0.687292</td>\n",
       "      <td>0.037037</td>\n",
       "      <td>[my, friend, i, asexual, beast, .]</td>\n",
       "      <td>[my, girl, i, asexual, bestie, .]</td>\n",
       "      <td>0.997259</td>\n",
       "      <td>0.071518</td>\n",
       "    </tr>\n",
       "    <tr>\n",
       "      <th>162960</th>\n",
       "      <td>0.630208</td>\n",
       "      <td>0.103448</td>\n",
       "      <td>[i, mean, ,, my, god, -, fuck, .]</td>\n",
       "      <td>[i, mean, ,, for, heaven, i, sake]</td>\n",
       "      <td>0.999544</td>\n",
       "      <td>0.000100</td>\n",
       "    </tr>\n",
       "  </tbody>\n",
       "</table>\n",
       "<p>162961 rows × 6 columns</p>\n",
       "</div>"
      ],
      "text/plain": [
       "        similarity  lenght_diff                                toxic_sent  \\\n",
       "0         0.784351     0.190476               [dressing, like, a, bum, ?]   \n",
       "1         0.610479     0.000000                             [you, bum, !]   \n",
       "2         0.866624     0.060606  [chloe, ,, stop, being, so, paranoid, .]   \n",
       "3         0.949912     0.157895                 [it, stinks, in, here, .]   \n",
       "4         0.885716     0.347826            [i, want, to, silence, you, .]   \n",
       "...            ...          ...                                       ...   \n",
       "162956    0.816062     0.076923          [that, is, a, stupid, excuse, !]   \n",
       "162957    0.756084     0.300000              [what, the, hell, ?, huh, ?]   \n",
       "162958    0.618064     0.333333                   [like, your, pecker, .]   \n",
       "162959    0.687292     0.037037        [my, friend, i, asexual, beast, .]   \n",
       "162960    0.630208     0.103448         [i, mean, ,, my, god, -, fuck, .]   \n",
       "\n",
       "                                    neutral_sent  toxic_val  neutral_val  \n",
       "0                        [walk, like, a, bum, ?]   0.911522     0.040193  \n",
       "1                                   [slacker, !]   0.968336     0.006487  \n",
       "2       [chloe, ,, stop, being, so, paranoid, .]   0.611291     0.021283  \n",
       "3                          [stinks, in, here, .]   0.698503     0.013900  \n",
       "4                           [i, silence, you, .]   0.921562     0.020940  \n",
       "...                                          ...        ...          ...  \n",
       "162956        [that, is, a, cowardly, excuse, !]   0.999643     0.042241  \n",
       "162957                      [what, is, wrong, ?]   0.825482     0.000042  \n",
       "162958                         [like, a, cue, .]   0.978997     0.000061  \n",
       "162959         [my, girl, i, asexual, bestie, .]   0.997259     0.071518  \n",
       "162960        [i, mean, ,, for, heaven, i, sake]   0.999544     0.000100  \n",
       "\n",
       "[162961 rows x 6 columns]"
      ]
     },
     "execution_count": 8,
     "metadata": {},
     "output_type": "execute_result"
    }
   ],
   "source": [
    "train_dataset.df"
   ]
  },
  {
   "cell_type": "code",
   "execution_count": 9,
   "id": "320fc194-0a67-4157-89b6-501e8031aefd",
   "metadata": {},
   "outputs": [
    {
     "data": {
      "text/plain": [
       "(162961, 10000)"
      ]
     },
     "execution_count": 9,
     "metadata": {},
     "output_type": "execute_result"
    }
   ],
   "source": [
    "len(train_dataset), len(val_dataset)"
   ]
  },
  {
   "cell_type": "markdown",
   "id": "8c447ad3-8846-42cc-a2ac-90fc264e1308",
   "metadata": {},
   "source": [
    "# Build the Dataloaders"
   ]
  },
  {
   "cell_type": "code",
   "execution_count": 10,
   "id": "5939df29-7703-4da3-893b-7c05a67a9434",
   "metadata": {},
   "outputs": [],
   "source": [
    "batch_size = 128"
   ]
  },
  {
   "cell_type": "code",
   "execution_count": 11,
   "id": "bc242320-a063-42e3-98c8-19b7fa7bebdb",
   "metadata": {},
   "outputs": [],
   "source": [
    "train_dataloader = DataLoader(\n",
    "    train_dataset,\n",
    "    batch_size=batch_size,\n",
    "    shuffle=True,\n",
    ")\n",
    "\n",
    "val_dataloader = DataLoader(\n",
    "    val_dataset,\n",
    "    batch_size=batch_size,\n",
    "    shuffle=False,\n",
    ")"
   ]
  },
  {
   "cell_type": "code",
   "execution_count": 12,
   "id": "ac9d0196-f79f-4d8f-8fce-7566d1ff7142",
   "metadata": {},
   "outputs": [
    {
     "name": "stdout",
     "output_type": "stream",
     "text": [
      "toxic_sent.shape: torch.Size([128, 10])\n",
      "neutral_sent.shape: torch.Size([128, 10])\n"
     ]
    }
   ],
   "source": [
    "# let's check if shape and everything is ok\n",
    "for batch in train_dataloader:\n",
    "    toxic_sent, neutral_sent = batch\n",
    "    print(\"toxic_sent.shape:\", toxic_sent.shape)\n",
    "    print(\"neutral_sent.shape:\", neutral_sent.shape)\n",
    "    break"
   ]
  },
  {
   "cell_type": "code",
   "execution_count": 13,
   "id": "51c2c3c9-7df9-48a5-a20a-5b80b36aec80",
   "metadata": {},
   "outputs": [
    {
     "data": {
      "text/plain": [
       "device(type='cuda')"
      ]
     },
     "execution_count": 13,
     "metadata": {},
     "output_type": "execute_result"
    }
   ],
   "source": [
    "device = torch.device('cuda' if torch.cuda.is_available() else 'cpu')\n",
    "device"
   ]
  },
  {
   "cell_type": "markdown",
   "id": "fc46dfbe-d834-48e7-ad09-c49c2a676386",
   "metadata": {},
   "source": [
    "# Load the Model\n",
    "\n",
    "- EncoderDecoder (Seq2Seq) with Attention mechanism"
   ]
  },
  {
   "cell_type": "code",
   "execution_count": 14,
   "id": "e1b9c17a-0069-481e-a76c-240d46bf10a0",
   "metadata": {},
   "outputs": [],
   "source": [
    "from src.models.attention.encoder import Encoder\n",
    "from src.models.attention.decoder import Decoder\n",
    "from src.models.attention.attention import Attention\n",
    "from src.models.attention import Seq2SeqAttention"
   ]
  },
  {
   "cell_type": "code",
   "execution_count": 15,
   "id": "451a159a-dae5-487c-be50-c87b7407add1",
   "metadata": {},
   "outputs": [],
   "source": [
    "## Encoder\n",
    "enc_input_dim = len(enc_vocab)\n",
    "enc_embed_dim = 128\n",
    "enc_hidden_dim = 256\n",
    "enc_dropout = 0.4\n",
    "enc_padding_idx = enc_vocab['<pad>']\n",
    "\n",
    "## Decoder\n",
    "dec_output_dim = len(dec_vocab)\n",
    "dec_embed_dim = 128\n",
    "dec_hidden_dim = 256\n",
    "dec_dropout = 0.4\n",
    "dec_padding_idx = dec_vocab['<pad>']"
   ]
  },
  {
   "cell_type": "code",
   "execution_count": 16,
   "id": "5b48dfdf-ba48-477c-ac62-2c512a69d86f",
   "metadata": {},
   "outputs": [],
   "source": [
    "# load the encoder and decoder for our model\n",
    "encoder = Encoder(\n",
    "    input_dim=enc_input_dim,\n",
    "    embed_dim=enc_embed_dim,\n",
    "    hidden_dim=enc_hidden_dim,\n",
    "    dec_hidden_dim=dec_hidden_dim,\n",
    "    dropout=enc_dropout,\n",
    "    vocab=enc_vocab,\n",
    "    padding_idx=enc_padding_idx,\n",
    ").to(device)\n",
    "\n",
    "attention = Attention(\n",
    "    enc_hidden_dim,\n",
    "    dec_hidden_dim,\n",
    ")\n",
    "\n",
    "decoder = Decoder(\n",
    "    output_dim=dec_output_dim,\n",
    "    embed_dim=dec_embed_dim,\n",
    "    hidden_dim=dec_hidden_dim,\n",
    "    attention=attention,\n",
    "    enc_hidden_dim=enc_hidden_dim,\n",
    "    dropout=dec_dropout,\n",
    "    vocab=dec_vocab,\n",
    "    padding_idx=dec_padding_idx,\n",
    ").to(device)"
   ]
  },
  {
   "cell_type": "code",
   "execution_count": 17,
   "id": "fb68fa7c-f8ee-4667-9b20-a638de4fe311",
   "metadata": {},
   "outputs": [],
   "source": [
    "best_loss = float('inf')\n",
    "\n",
    "model = Seq2SeqAttention(\n",
    "    encoder=encoder,\n",
    "    decoder=decoder,\n",
    "    device=device,\n",
    "    max_sent_size=MAX_SENT_SIZE,\n",
    ").to(device)"
   ]
  },
  {
   "cell_type": "code",
   "execution_count": 18,
   "id": "7b4ce097-26f1-4aeb-a5e4-5985e6b6c885",
   "metadata": {},
   "outputs": [
    {
     "name": "stdout",
     "output_type": "stream",
     "text": [
      "number of parameters in model: 74.0M\n"
     ]
    }
   ],
   "source": [
    "from src.models.utils import count_parameters\n",
    "\n",
    "print(f\"number of parameters in model: {count_parameters(model)//1e6}M\")"
   ]
  },
  {
   "cell_type": "code",
   "execution_count": 19,
   "id": "088f446e-d95e-4812-949d-a3a5eb20ab6c",
   "metadata": {},
   "outputs": [],
   "source": [
    "optimizer = torch.optim.AdamW(model.parameters(), lr=1e-3)\n",
    "criterion = torch.nn.CrossEntropyLoss(ignore_index=dec_vocab['<pad>'])"
   ]
  },
  {
   "cell_type": "code",
   "execution_count": 19,
   "id": "ae355174-b99f-403c-b926-def9bd694c4b",
   "metadata": {},
   "outputs": [
    {
     "name": "stderr",
     "output_type": "stream",
     "text": [
      "Training 1: 100%|██████████| 1274/1274 [02:12<00:00,  9.59it/s, loss=3.55]\n",
      "Evaluating 1: 100%|██████████| 79/79 [00:02<00:00, 35.45it/s, loss=5.06]\n",
      "Training 2: 100%|██████████| 1274/1274 [02:14<00:00,  9.45it/s, loss=3.07]\n",
      "Evaluating 2: 100%|██████████| 79/79 [00:02<00:00, 35.35it/s, loss=5]   \n",
      "Training 3: 100%|██████████| 1274/1274 [02:14<00:00,  9.47it/s, loss=2.91]\n",
      "Evaluating 3: 100%|██████████| 79/79 [00:02<00:00, 35.35it/s, loss=4.98]\n",
      "Training 4: 100%|██████████| 1274/1274 [02:14<00:00,  9.49it/s, loss=2.81]\n",
      "Evaluating 4: 100%|██████████| 79/79 [00:02<00:00, 35.86it/s, loss=5.06]\n",
      "Training 5: 100%|██████████| 1274/1274 [02:14<00:00,  9.50it/s, loss=2.73]\n",
      "Evaluating 5: 100%|██████████| 79/79 [00:02<00:00, 35.83it/s, loss=5.1] \n"
     ]
    },
    {
     "name": "stdout",
     "output_type": "stream",
     "text": [
      "Update teacher force to 0\n"
     ]
    },
    {
     "name": "stderr",
     "output_type": "stream",
     "text": [
      "Training 6: 100%|██████████| 1274/1274 [02:13<00:00,  9.52it/s, loss=3.74]\n",
      "Evaluating 6: 100%|██████████| 79/79 [00:02<00:00, 36.08it/s, loss=3.5] \n",
      "Training 7: 100%|██████████| 1274/1274 [02:13<00:00,  9.52it/s, loss=3.61]\n",
      "Evaluating 7: 100%|██████████| 79/79 [00:02<00:00, 36.48it/s, loss=3.45]\n",
      "Training 8: 100%|██████████| 1274/1274 [02:13<00:00,  9.53it/s, loss=3.53]\n",
      "Evaluating 8: 100%|██████████| 79/79 [00:02<00:00, 36.97it/s, loss=3.42]\n",
      "Training 9: 100%|██████████| 1274/1274 [02:13<00:00,  9.53it/s, loss=3.47]\n",
      "Evaluating 9: 100%|██████████| 79/79 [00:02<00:00, 36.37it/s, loss=3.41]\n",
      "Training 10: 100%|██████████| 1274/1274 [02:13<00:00,  9.53it/s, loss=3.42]\n",
      "Evaluating 10: 100%|██████████| 79/79 [00:02<00:00, 35.57it/s, loss=3.41]\n",
      "Training 11: 100%|██████████| 1274/1274 [02:13<00:00,  9.53it/s, loss=3.38]\n",
      "Evaluating 11: 100%|██████████| 79/79 [00:02<00:00, 35.81it/s, loss=3.41]\n",
      "Training 12: 100%|██████████| 1274/1274 [02:13<00:00,  9.53it/s, loss=3.34]\n",
      "Evaluating 12: 100%|██████████| 79/79 [00:02<00:00, 36.44it/s, loss=3.41]\n",
      "Training 13: 100%|██████████| 1274/1274 [02:13<00:00,  9.53it/s, loss=3.3]\n",
      "Evaluating 13: 100%|██████████| 79/79 [00:02<00:00, 35.91it/s, loss=3.42]\n",
      "Training 14: 100%|██████████| 1274/1274 [02:13<00:00,  9.54it/s, loss=3.27]\n",
      "Evaluating 14: 100%|██████████| 79/79 [00:02<00:00, 35.95it/s, loss=3.41]\n",
      "Training 15: 100%|██████████| 1274/1274 [02:13<00:00,  9.54it/s, loss=3.24]\n",
      "Evaluating 15: 100%|██████████| 79/79 [00:02<00:00, 36.52it/s, loss=3.42]\n",
      "Training 16: 100%|██████████| 1274/1274 [02:13<00:00,  9.53it/s, loss=3.21]\n",
      "Evaluating 16: 100%|██████████| 79/79 [00:02<00:00, 36.28it/s, loss=3.41]\n",
      "Training 17: 100%|██████████| 1274/1274 [02:13<00:00,  9.53it/s, loss=3.19]\n",
      "Evaluating 17: 100%|██████████| 79/79 [00:02<00:00, 35.98it/s, loss=3.41]\n",
      "Training 18: 100%|██████████| 1274/1274 [02:13<00:00,  9.54it/s, loss=3.17]\n",
      "Evaluating 18: 100%|██████████| 79/79 [00:02<00:00, 36.88it/s, loss=3.44]\n",
      "Training 19: 100%|██████████| 1274/1274 [02:12<00:00,  9.58it/s, loss=3.15]\n",
      "Evaluating 19: 100%|██████████| 79/79 [00:02<00:00, 37.00it/s, loss=3.47]\n",
      "Training 20: 100%|██████████| 1274/1274 [02:12<00:00,  9.59it/s, loss=3.12]\n",
      "Evaluating 20: 100%|██████████| 79/79 [00:02<00:00, 36.22it/s, loss=3.46]\n"
     ]
    }
   ],
   "source": [
    "from src.models.train_model import train\n",
    "\n",
    "best_loss = train(\n",
    "    model=model,\n",
    "    loaders=(train_dataloader, val_dataloader),\n",
    "    optimizer=optimizer,\n",
    "    criterion=criterion,\n",
    "    epochs=20,\n",
    "    device=device,\n",
    "    best_loss=best_loss,\n",
    "    ckpt_path=MODEL_CHECKPOINT,\n",
    "    clip_grad=1,\n",
    "    teacher_force={\n",
    "        'value': 1,\n",
    "        'gamma': 0,\n",
    "        'update_every_n_epoch': 5,\n",
    "    } # first 10 epoch teacher force 1, after it will be turned off\n",
    ")"
   ]
  },
  {
   "cell_type": "code",
   "execution_count": 20,
   "id": "7dc1b6ad-901d-4582-84c8-79ba34fdcebc",
   "metadata": {},
   "outputs": [
    {
     "data": {
      "text/plain": [
       "Seq2SeqAttention(\n",
       "  (encoder): Encoder(\n",
       "    (vocab): Vocab()\n",
       "    (embedding): Embedding(12137, 128, padding_idx=1)\n",
       "    (rnn): GRU(128, 256, batch_first=True, bidirectional=True)\n",
       "    (fc): Linear(in_features=512, out_features=256, bias=True)\n",
       "    (dropout): Dropout(p=0.4, inplace=False)\n",
       "  )\n",
       "  (decoder): Decoder(\n",
       "    (vocab): Vocab()\n",
       "    (embedding): Embedding(14544, 128, padding_idx=1)\n",
       "    (rnn): GRU(640, 256, batch_first=True)\n",
       "    (attention): Attention(\n",
       "      (attn): Linear(in_features=768, out_features=256, bias=True)\n",
       "      (v): Linear(in_features=256, out_features=1, bias=False)\n",
       "    )\n",
       "    (dropout): Dropout(p=0.4, inplace=False)\n",
       "    (fc_out): Sequential(\n",
       "      (0): Linear(in_features=896, out_features=2048, bias=True)\n",
       "      (1): ReLU()\n",
       "      (2): Dropout(p=0.4, inplace=False)\n",
       "      (3): Linear(in_features=2048, out_features=4096, bias=True)\n",
       "      (4): ReLU()\n",
       "      (5): Dropout(p=0.4, inplace=False)\n",
       "      (6): Linear(in_features=4096, out_features=14544, bias=True)\n",
       "    )\n",
       "  )\n",
       ")"
      ]
     },
     "execution_count": 20,
     "metadata": {},
     "output_type": "execute_result"
    }
   ],
   "source": [
    "# let's load the model and predict\n",
    "model = torch.load(MODEL_CHECKPOINT)\n",
    "model.to(device)\n",
    "model.eval()"
   ]
  },
  {
   "cell_type": "code",
   "execution_count": 25,
   "id": "e3f96417-66e1-4061-ba49-55207e953142",
   "metadata": {},
   "outputs": [
    {
     "name": "stdout",
     "output_type": "stream",
     "text": [
      "toxic_sent: fucking mosquitoes.\n",
      "neutral_sent: (mosquitoes buzzing)\n",
      "predictions:\n",
      "\t1) ['a', '.', '.', '<eos>']\n",
      "\t2) ['a', '.', '.', '.', '<eos>']\n",
      "\t3) ['a', '.', '.', '.', '.', '<eos>']\n",
      "\n",
      "\n",
      "toxic_sent: you criminals go to jail.\n",
      "neutral_sent: you outlaws are going to prison.\n",
      "predictions:\n",
      "\t1) ['you', 'are', 'going', 'to', '.', '.', '<eos>']\n",
      "\t2) ['you', 'are', 'going', 'to', '.', '.', '.', '<eos>']\n",
      "\t3) ['you', 'are', 'going', 'to', '.', '.', '.', '.', '<eos>']\n",
      "\n",
      "\n",
      "toxic_sent: you are masons.\n",
      "neutral_sent: you are a mosey.\n",
      "predictions:\n",
      "\t1) ['you', 'are', '.', '.', '<eos>']\n",
      "\t2) ['you', 'are', 'a', '.', '<eos>']\n",
      "\t3) ['you', 'are', 'are', '.', '<eos>']\n",
      "\n",
      "\n",
      "toxic_sent: how the hell are you?\n",
      "neutral_sent: how you doing?\n",
      "predictions:\n",
      "\t1) ['how', 'are', 'you', '?', '?', '<eos>']\n",
      "\t2) ['how', 'are', 'you', '?', '<eos>']\n",
      "\t3) ['how', 'are', 'you', '?', '?', '?', '<eos>']\n",
      "\n",
      "\n",
      "toxic_sent: i do not kill him.\n",
      "neutral_sent: i am not killing it.\n",
      "predictions:\n",
      "\t1) ['i', 'do', 'not', 'kill', 'him', '.', '<eos>']\n",
      "\t2) ['i', 'do', 'not', 'kill', 'him', '.', '.', '.', '<eos>']\n",
      "\t3) ['i', 'do', 'not', 'kill', 'him', '.', '.', '<eos>']\n",
      "\n",
      "\n",
      "toxic_sent: it is useless to you.\n",
      "neutral_sent: he is no use to you.\n",
      "predictions:\n",
      "\t1) ['it', 'is', 'no', 'good', 'to', 'you', 'you', '.', '<eos>']\n",
      "\t2) ['it', 'is', 'no', 'no', 'to', 'you', 'you', '.', '<eos>']\n",
      "\t3) ['it', 'is', 'no', 'no', 'to', '.', 'you', '.', '<eos>']\n",
      "\n",
      "\n",
      "toxic_sent: rotten through and through.\n",
      "neutral_sent: bad through and through.\n",
      "predictions:\n",
      "\t1) ['a', ',', 'and', '.', '.', '.', '.', '.', '<eos>']\n",
      "\t2) ['a', '.', 'and', '.', '.', '.', '.', '.', '<eos>']\n",
      "\t3) ['a', ',', 'and', '.', '.', '.', '.', '<eos>']\n",
      "\n",
      "\n",
      "toxic_sent: no you lying turkey.\n",
      "neutral_sent: nope . you jive turkey.\n",
      "predictions:\n",
      "\t1) ['no', ',', 'you', '.', '.', '.', '.', '.', '<eos>']\n",
      "\t2) ['no', ',', 'you', '.', '.', '.', '.', '<eos>']\n",
      "\t3) ['no', ',', 'you', '.', '.', '.', '<eos>']\n",
      "\n",
      "\n",
      "toxic_sent: get the fuck in there, clarabell.\n",
      "neutral_sent: get in there, clarabelle.\n",
      "predictions:\n",
      "\t1) ['get', 'in', 'there', ',', '.', '.', '<eos>']\n",
      "\t2) ['get', 'in', 'there', ',', ',', '.', '<eos>']\n",
      "\t3) ['get', 'in', 'there', ',', '.', '.', '.', '<eos>']\n",
      "\n",
      "\n",
      "toxic_sent: his head is like a cow.\n",
      "neutral_sent: got a head like a cow.\n",
      "predictions:\n",
      "\t1) ['his', 'head', 'is', 'a', 'a', '.', '.', '.', '<eos>']\n",
      "\t2) ['his', 'head', 'is', 'a', '.', '.', '.', '.', '<eos>']\n",
      "\t3) ['his', 'head', 'is', 'a', 'a', '.', '.', '<eos>']\n",
      "\n",
      "\n"
     ]
    }
   ],
   "source": [
    "from nltk.tokenize.treebank import TreebankWordDetokenizer\n",
    "detokenizer = TreebankWordDetokenizer()\n",
    "\n",
    "# let's see how our model works\n",
    "num_examples = 10\n",
    "num_sentence = 3\n",
    "dataset = train_dataset\n",
    "for _ in range(num_examples):\n",
    "    idx = np.random.randint(0, len(dataset))\n",
    "    toxic_sent = detokenizer.detokenize(dataset.df.loc[idx, 'toxic_sent'])\n",
    "    neutral_sent = detokenizer.detokenize(dataset.df.loc[idx, 'neutral_sent'])\n",
    "    \n",
    "    print('toxic_sent:', toxic_sent)\n",
    "    print('neutral_sent:', neutral_sent)\n",
    "    preds = model.predict(\n",
    "        toxic_sent,\n",
    "        beam=True,\n",
    "        beam_search_num_candidates=num_sentence,\n",
    "        post_process_text=False,\n",
    "        use_encoder_out=True,\n",
    "    ) # let's use beam search\n",
    "    print(\"predictions:\")\n",
    "    for i in range(num_sentence):\n",
    "        print(f\"\\t{i+1})\", preds[i])\n",
    "    print(\"\\n\")"
   ]
  },
  {
   "cell_type": "code",
   "execution_count": null,
   "id": "b4554e32-4888-4660-a19e-65409f2e34dc",
   "metadata": {},
   "outputs": [],
   "source": []
  }
 ],
 "metadata": {
  "kernelspec": {
   "display_name": "Python 3 (ipykernel)",
   "language": "python",
   "name": "python3"
  },
  "language_info": {
   "codemirror_mode": {
    "name": "ipython",
    "version": 3
   },
   "file_extension": ".py",
   "mimetype": "text/x-python",
   "name": "python",
   "nbconvert_exporter": "python",
   "pygments_lexer": "ipython3",
   "version": "3.9.16"
  }
 },
 "nbformat": 4,
 "nbformat_minor": 5
}
