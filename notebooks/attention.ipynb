{
 "cells": [
  {
   "cell_type": "code",
   "execution_count": 1,
   "id": "9a6f672e-f6b7-4e94-96a3-e71fc3acb2ae",
   "metadata": {},
   "outputs": [],
   "source": [
    "LOAD_MODEL = 'models/attention.01.pt'\n",
    "MODEL_CHECKPOINT = 'models/attention.01.pt'\n",
    "DATASET_PATH = 'data/interim/preprocessed_paranmt.tsv'"
   ]
  },
  {
   "cell_type": "code",
   "execution_count": 2,
   "id": "40068414-5b9f-4586-bcdb-470c3efb7c20",
   "metadata": {},
   "outputs": [],
   "source": [
    "import torch\n",
    "import numpy as np\n",
    "from torch.utils.data import DataLoader\n",
    "\n",
    "import os\n",
    "os.chdir(\"..\") # go to the root dir"
   ]
  },
  {
   "cell_type": "markdown",
   "id": "6eb45299-8b78-4ae2-90be-f962ed587c5c",
   "metadata": {},
   "source": [
    "# Get the Dataset"
   ]
  },
  {
   "cell_type": "code",
   "execution_count": 3,
   "id": "e92fffa6-8fc3-46a0-8d87-587f81e95ad5",
   "metadata": {},
   "outputs": [],
   "source": [
    "MAX_SENT_SIZE = 10\n",
    "MAX_TOKENS = 8_000"
   ]
  },
  {
   "cell_type": "code",
   "execution_count": 4,
   "id": "81094a8f-0cb9-436c-9892-d3b28b070dcf",
   "metadata": {},
   "outputs": [],
   "source": [
    "from src.data.make_dataset import ParanmtDataset\n",
    "\n",
    "train_dataset = ParanmtDataset(\n",
    "    path=DATASET_PATH,\n",
    "    max_sent_size=MAX_SENT_SIZE,\n",
    "    train=True,\n",
    "    seed=42,\n",
    ")"
   ]
  },
  {
   "cell_type": "code",
   "execution_count": 5,
   "id": "f324e5bd-eb23-48aa-adc4-075b17a62ae6",
   "metadata": {},
   "outputs": [],
   "source": [
    "train_dataset.build_vocab(\n",
    "    min_freq=2,\n",
    "    specials=['<unk>', '<pad>', '<sos>', '<eos>'],\n",
    "    max_tokens=MAX_TOKENS,\n",
    ")"
   ]
  },
  {
   "cell_type": "code",
   "execution_count": 6,
   "id": "aecda01b-5e50-41ff-afcf-7b2a6d8d1080",
   "metadata": {},
   "outputs": [
    {
     "name": "stdout",
     "output_type": "stream",
     "text": [
      "size of encoder vocab: 8000\n",
      "size of decoder vocab: 8000\n"
     ]
    }
   ],
   "source": [
    "enc_vocab = train_dataset.toxic_vocab\n",
    "dec_vocab = train_dataset.neutral_vocab\n",
    "\n",
    "print(\"size of encoder vocab:\", len(enc_vocab))\n",
    "print(\"size of decoder vocab:\", len(dec_vocab))"
   ]
  },
  {
   "cell_type": "code",
   "execution_count": 7,
   "id": "d2de9532-e02a-405d-ab46-c0ff7f2049aa",
   "metadata": {},
   "outputs": [],
   "source": [
    "val_dataset = ParanmtDataset(\n",
    "    path=DATASET_PATH,\n",
    "    max_sent_size=MAX_SENT_SIZE,\n",
    "    vocabs=(enc_vocab, dec_vocab), # avoid data leakage\n",
    "    train=False,\n",
    "    seed=42,\n",
    "    take_first=10_000,\n",
    ")"
   ]
  },
  {
   "cell_type": "code",
   "execution_count": 8,
   "id": "fd018d4e-9907-4e9c-a197-18290ea7cb98",
   "metadata": {},
   "outputs": [
    {
     "data": {
      "text/html": [
       "<div>\n",
       "<style scoped>\n",
       "    .dataframe tbody tr th:only-of-type {\n",
       "        vertical-align: middle;\n",
       "    }\n",
       "\n",
       "    .dataframe tbody tr th {\n",
       "        vertical-align: top;\n",
       "    }\n",
       "\n",
       "    .dataframe thead th {\n",
       "        text-align: right;\n",
       "    }\n",
       "</style>\n",
       "<table border=\"1\" class=\"dataframe\">\n",
       "  <thead>\n",
       "    <tr style=\"text-align: right;\">\n",
       "      <th></th>\n",
       "      <th>similarity</th>\n",
       "      <th>lenght_diff</th>\n",
       "      <th>toxic_sent</th>\n",
       "      <th>neutral_sent</th>\n",
       "      <th>toxic_val</th>\n",
       "      <th>neutral_val</th>\n",
       "    </tr>\n",
       "  </thead>\n",
       "  <tbody>\n",
       "    <tr>\n",
       "      <th>0</th>\n",
       "      <td>0.708038</td>\n",
       "      <td>0.171429</td>\n",
       "      <td>[what, the, hell, i, danger, looking, at, ?]</td>\n",
       "      <td>[what, the, hell, is, safe, watch, ?]</td>\n",
       "      <td>0.888703</td>\n",
       "      <td>0.130954</td>\n",
       "    </tr>\n",
       "    <tr>\n",
       "      <th>1</th>\n",
       "      <td>0.606822</td>\n",
       "      <td>0.238095</td>\n",
       "      <td>[lisa, ,, hit, him, again, .]</td>\n",
       "      <td>[lisa, ,, one, more, .]</td>\n",
       "      <td>0.957538</td>\n",
       "      <td>0.000053</td>\n",
       "    </tr>\n",
       "    <tr>\n",
       "      <th>2</th>\n",
       "      <td>0.719271</td>\n",
       "      <td>0.051282</td>\n",
       "      <td>[what, are, you, doing, with, that, hooker, ?]</td>\n",
       "      <td>[what, are, you, doing, with, that, outsider, ?]</td>\n",
       "      <td>0.998877</td>\n",
       "      <td>0.000056</td>\n",
       "    </tr>\n",
       "    <tr>\n",
       "      <th>3</th>\n",
       "      <td>0.821008</td>\n",
       "      <td>0.047619</td>\n",
       "      <td>[we, are, going, to, hit, him, !]</td>\n",
       "      <td>[it, is, going, to, hit, !]</td>\n",
       "      <td>0.997299</td>\n",
       "      <td>0.014387</td>\n",
       "    </tr>\n",
       "    <tr>\n",
       "      <th>4</th>\n",
       "      <td>0.725030</td>\n",
       "      <td>0.096774</td>\n",
       "      <td>[i, do, not, fucking, believe, it, !]</td>\n",
       "      <td>[i, do, not, freaking, believe, it]</td>\n",
       "      <td>0.957814</td>\n",
       "      <td>0.056393</td>\n",
       "    </tr>\n",
       "    <tr>\n",
       "      <th>...</th>\n",
       "      <td>...</td>\n",
       "      <td>...</td>\n",
       "      <td>...</td>\n",
       "      <td>...</td>\n",
       "      <td>...</td>\n",
       "      <td>...</td>\n",
       "    </tr>\n",
       "    <tr>\n",
       "      <th>157735</th>\n",
       "      <td>0.827812</td>\n",
       "      <td>0.200000</td>\n",
       "      <td>[I, will, make, you, fall, !]</td>\n",
       "      <td>[I, am, going, to, fall, !]</td>\n",
       "      <td>0.590488</td>\n",
       "      <td>0.006672</td>\n",
       "    </tr>\n",
       "    <tr>\n",
       "      <th>157736</th>\n",
       "      <td>0.625040</td>\n",
       "      <td>0.333333</td>\n",
       "      <td>[i, fucking, my, girlfriend, .]</td>\n",
       "      <td>[satisfying, my, girl, behind, my, back, .]</td>\n",
       "      <td>0.999578</td>\n",
       "      <td>0.029578</td>\n",
       "    </tr>\n",
       "    <tr>\n",
       "      <th>157737</th>\n",
       "      <td>0.815115</td>\n",
       "      <td>0.041667</td>\n",
       "      <td>[he, is, going, to, shoot, again, .]</td>\n",
       "      <td>[he, is, going, to, fire, again, .]</td>\n",
       "      <td>0.989201</td>\n",
       "      <td>0.008294</td>\n",
       "    </tr>\n",
       "    <tr>\n",
       "      <th>157738</th>\n",
       "      <td>0.866068</td>\n",
       "      <td>0.037037</td>\n",
       "      <td>[oh, ,, mars, solid, ,, you, stink, .]</td>\n",
       "      <td>[oh, ,, mars, solid, ,, you, smell, .]</td>\n",
       "      <td>0.999077</td>\n",
       "      <td>0.072257</td>\n",
       "    </tr>\n",
       "    <tr>\n",
       "      <th>157739</th>\n",
       "      <td>0.870897</td>\n",
       "      <td>0.137931</td>\n",
       "      <td>[you, going, to, beat, up, everybody, ?]</td>\n",
       "      <td>[you, going, to, beat, them, all, ?]</td>\n",
       "      <td>0.978554</td>\n",
       "      <td>0.018835</td>\n",
       "    </tr>\n",
       "  </tbody>\n",
       "</table>\n",
       "<p>157740 rows × 6 columns</p>\n",
       "</div>"
      ],
      "text/plain": [
       "        similarity  lenght_diff  \\\n",
       "0         0.708038     0.171429   \n",
       "1         0.606822     0.238095   \n",
       "2         0.719271     0.051282   \n",
       "3         0.821008     0.047619   \n",
       "4         0.725030     0.096774   \n",
       "...            ...          ...   \n",
       "157735    0.827812     0.200000   \n",
       "157736    0.625040     0.333333   \n",
       "157737    0.815115     0.041667   \n",
       "157738    0.866068     0.037037   \n",
       "157739    0.870897     0.137931   \n",
       "\n",
       "                                            toxic_sent  \\\n",
       "0         [what, the, hell, i, danger, looking, at, ?]   \n",
       "1                        [lisa, ,, hit, him, again, .]   \n",
       "2       [what, are, you, doing, with, that, hooker, ?]   \n",
       "3                    [we, are, going, to, hit, him, !]   \n",
       "4                [i, do, not, fucking, believe, it, !]   \n",
       "...                                                ...   \n",
       "157735                   [I, will, make, you, fall, !]   \n",
       "157736                 [i, fucking, my, girlfriend, .]   \n",
       "157737            [he, is, going, to, shoot, again, .]   \n",
       "157738          [oh, ,, mars, solid, ,, you, stink, .]   \n",
       "157739        [you, going, to, beat, up, everybody, ?]   \n",
       "\n",
       "                                            neutral_sent  toxic_val  \\\n",
       "0                  [what, the, hell, is, safe, watch, ?]   0.888703   \n",
       "1                                [lisa, ,, one, more, .]   0.957538   \n",
       "2       [what, are, you, doing, with, that, outsider, ?]   0.998877   \n",
       "3                            [it, is, going, to, hit, !]   0.997299   \n",
       "4                    [i, do, not, freaking, believe, it]   0.957814   \n",
       "...                                                  ...        ...   \n",
       "157735                       [I, am, going, to, fall, !]   0.590488   \n",
       "157736       [satisfying, my, girl, behind, my, back, .]   0.999578   \n",
       "157737               [he, is, going, to, fire, again, .]   0.989201   \n",
       "157738            [oh, ,, mars, solid, ,, you, smell, .]   0.999077   \n",
       "157739              [you, going, to, beat, them, all, ?]   0.978554   \n",
       "\n",
       "        neutral_val  \n",
       "0          0.130954  \n",
       "1          0.000053  \n",
       "2          0.000056  \n",
       "3          0.014387  \n",
       "4          0.056393  \n",
       "...             ...  \n",
       "157735     0.006672  \n",
       "157736     0.029578  \n",
       "157737     0.008294  \n",
       "157738     0.072257  \n",
       "157739     0.018835  \n",
       "\n",
       "[157740 rows x 6 columns]"
      ]
     },
     "execution_count": 8,
     "metadata": {},
     "output_type": "execute_result"
    }
   ],
   "source": [
    "train_dataset.df"
   ]
  },
  {
   "cell_type": "code",
   "execution_count": 9,
   "id": "320fc194-0a67-4157-89b6-501e8031aefd",
   "metadata": {},
   "outputs": [
    {
     "data": {
      "text/plain": [
       "(157740, 10000)"
      ]
     },
     "execution_count": 9,
     "metadata": {},
     "output_type": "execute_result"
    }
   ],
   "source": [
    "len(train_dataset), len(val_dataset)"
   ]
  },
  {
   "cell_type": "markdown",
   "id": "8c447ad3-8846-42cc-a2ac-90fc264e1308",
   "metadata": {},
   "source": [
    "# Build the Dataloaders"
   ]
  },
  {
   "cell_type": "code",
   "execution_count": 10,
   "id": "5939df29-7703-4da3-893b-7c05a67a9434",
   "metadata": {},
   "outputs": [],
   "source": [
    "batch_size = 128"
   ]
  },
  {
   "cell_type": "code",
   "execution_count": 11,
   "id": "bc242320-a063-42e3-98c8-19b7fa7bebdb",
   "metadata": {},
   "outputs": [],
   "source": [
    "train_dataloader = DataLoader(\n",
    "    train_dataset,\n",
    "    batch_size=batch_size,\n",
    "    shuffle=True,\n",
    "    num_workers=4,\n",
    ")\n",
    "\n",
    "val_dataloader = DataLoader(\n",
    "    val_dataset,\n",
    "    batch_size=batch_size,\n",
    "    shuffle=False,\n",
    "    num_workers=4,\n",
    ")"
   ]
  },
  {
   "cell_type": "code",
   "execution_count": 12,
   "id": "ac9d0196-f79f-4d8f-8fce-7566d1ff7142",
   "metadata": {},
   "outputs": [
    {
     "name": "stdout",
     "output_type": "stream",
     "text": [
      "toxic_sent.shape: torch.Size([128, 10])\n",
      "neutral_sent.shape: torch.Size([128, 10])\n"
     ]
    }
   ],
   "source": [
    "# let's check if shape and everything is ok\n",
    "for batch in train_dataloader:\n",
    "    toxic_sent, neutral_sent = batch\n",
    "    print(\"toxic_sent.shape:\", toxic_sent.shape)\n",
    "    print(\"neutral_sent.shape:\", neutral_sent.shape)\n",
    "    break"
   ]
  },
  {
   "cell_type": "code",
   "execution_count": 13,
   "id": "51c2c3c9-7df9-48a5-a20a-5b80b36aec80",
   "metadata": {},
   "outputs": [
    {
     "data": {
      "text/plain": [
       "device(type='cuda')"
      ]
     },
     "execution_count": 13,
     "metadata": {},
     "output_type": "execute_result"
    }
   ],
   "source": [
    "device = torch.device('cuda' if torch.cuda.is_available() else 'cpu')\n",
    "device"
   ]
  },
  {
   "cell_type": "markdown",
   "id": "fc46dfbe-d834-48e7-ad09-c49c2a676386",
   "metadata": {},
   "source": [
    "# Load the Model\n",
    "\n",
    "- EncoderDecoder (Seq2Seq) with Attention mechanism"
   ]
  },
  {
   "cell_type": "code",
   "execution_count": 14,
   "id": "e1b9c17a-0069-481e-a76c-240d46bf10a0",
   "metadata": {},
   "outputs": [],
   "source": [
    "from src.models.attention.encoder import Encoder\n",
    "from src.models.attention.decoder import Decoder\n",
    "from src.models.attention.attention import Attention\n",
    "from src.models.attention import Seq2SeqAttention"
   ]
  },
  {
   "cell_type": "code",
   "execution_count": 15,
   "id": "451a159a-dae5-487c-be50-c87b7407add1",
   "metadata": {},
   "outputs": [],
   "source": [
    "## Encoder\n",
    "enc_input_dim = len(enc_vocab)\n",
    "enc_embed_dim = 128\n",
    "enc_hidden_dim = 256\n",
    "enc_dropout = 0.5\n",
    "enc_padding_idx = enc_vocab['<pad>']\n",
    "\n",
    "## Decoder\n",
    "dec_output_dim = len(dec_vocab)\n",
    "dec_embed_dim = 128\n",
    "dec_hidden_dim = 256\n",
    "dec_dropout = 0.5\n",
    "dec_padding_idx = dec_vocab['<pad>']"
   ]
  },
  {
   "cell_type": "code",
   "execution_count": 16,
   "id": "5b48dfdf-ba48-477c-ac62-2c512a69d86f",
   "metadata": {},
   "outputs": [],
   "source": [
    "# load the encoder and decoder for our model\n",
    "encoder = Encoder(\n",
    "    input_dim=enc_input_dim,\n",
    "    embed_dim=enc_embed_dim,\n",
    "    hidden_dim=enc_hidden_dim,\n",
    "    dec_hidden_dim=dec_hidden_dim,\n",
    "    dropout=enc_dropout,\n",
    "    vocab=enc_vocab,\n",
    "    padding_idx=enc_padding_idx,\n",
    ").to(device)\n",
    "\n",
    "attention = Attention(\n",
    "    enc_hidden_dim,\n",
    "    dec_hidden_dim,\n",
    ")\n",
    "\n",
    "decoder = Decoder(\n",
    "    output_dim=dec_output_dim,\n",
    "    embed_dim=dec_embed_dim,\n",
    "    hidden_dim=dec_hidden_dim,\n",
    "    attention=attention,\n",
    "    enc_hidden_dim=enc_hidden_dim,\n",
    "    dropout=dec_dropout,\n",
    "    vocab=dec_vocab,\n",
    "    padding_idx=dec_padding_idx,\n",
    ").to(device)"
   ]
  },
  {
   "cell_type": "code",
   "execution_count": 17,
   "id": "fb68fa7c-f8ee-4667-9b20-a638de4fe311",
   "metadata": {},
   "outputs": [],
   "source": [
    "best_loss = float('inf')\n",
    "\n",
    "model = Seq2SeqAttention(\n",
    "    encoder=encoder,\n",
    "    decoder=decoder,\n",
    "    device=device,\n",
    "    max_sent_size=MAX_SENT_SIZE,\n",
    ").to(device)"
   ]
  },
  {
   "cell_type": "code",
   "execution_count": 18,
   "id": "7b4ce097-26f1-4aeb-a5e4-5985e6b6c885",
   "metadata": {},
   "outputs": [
    {
     "name": "stdout",
     "output_type": "stream",
     "text": [
      "number of parameters in model: 11.0M\n"
     ]
    }
   ],
   "source": [
    "from src.models.utils import count_parameters\n",
    "\n",
    "print(f\"number of parameters in model: {count_parameters(model)//1e6}M\")"
   ]
  },
  {
   "cell_type": "code",
   "execution_count": 19,
   "id": "088f446e-d95e-4812-949d-a3a5eb20ab6c",
   "metadata": {},
   "outputs": [],
   "source": [
    "optimizer = torch.optim.AdamW(model.parameters(), lr=1e-3)\n",
    "criterion = torch.nn.CrossEntropyLoss(ignore_index=dec_vocab['<pad>'])"
   ]
  },
  {
   "cell_type": "code",
   "execution_count": 20,
   "id": "ae355174-b99f-403c-b926-def9bd694c4b",
   "metadata": {},
   "outputs": [
    {
     "name": "stderr",
     "output_type": "stream",
     "text": [
      "Training 1: 100%|██████████| 1233/1233 [00:27<00:00, 44.33it/s, loss=3.11]\n",
      "Evaluating 1: 100%|██████████| 79/79 [00:00<00:00, 117.93it/s, loss=3.48]\n",
      "Training 2: 100%|██████████| 1233/1233 [00:27<00:00, 44.16it/s, loss=2.26]\n",
      "Evaluating 2: 100%|██████████| 79/79 [00:00<00:00, 115.64it/s, loss=3.42]\n",
      "Training 3: 100%|██████████| 1233/1233 [00:28<00:00, 43.64it/s, loss=2.01]\n",
      "Evaluating 3: 100%|██████████| 79/79 [00:00<00:00, 113.48it/s, loss=3.41]\n",
      "Training 4: 100%|██████████| 1233/1233 [00:28<00:00, 43.19it/s, loss=1.86]\n",
      "Evaluating 4: 100%|██████████| 79/79 [00:00<00:00, 118.81it/s, loss=3.43]\n",
      "Training 5: 100%|██████████| 1233/1233 [00:28<00:00, 43.79it/s, loss=1.76]\n",
      "Evaluating 5: 100%|██████████| 79/79 [00:00<00:00, 114.23it/s, loss=3.46]\n",
      "Training 6: 100%|██████████| 1233/1233 [00:28<00:00, 43.17it/s, loss=1.68]\n",
      "Evaluating 6: 100%|██████████| 79/79 [00:00<00:00, 112.23it/s, loss=3.54]\n",
      "Training 7: 100%|██████████| 1233/1233 [00:28<00:00, 43.96it/s, loss=1.62]\n",
      "Evaluating 7: 100%|██████████| 79/79 [00:00<00:00, 117.88it/s, loss=3.49]\n",
      "Training 8: 100%|██████████| 1233/1233 [00:28<00:00, 43.48it/s, loss=1.56]\n",
      "Evaluating 8: 100%|██████████| 79/79 [00:00<00:00, 119.61it/s, loss=3.47]\n",
      "Training 9: 100%|██████████| 1233/1233 [00:28<00:00, 43.73it/s, loss=1.52]\n",
      "Evaluating 9: 100%|██████████| 79/79 [00:00<00:00, 117.78it/s, loss=3.5] \n",
      "Training 10: 100%|██████████| 1233/1233 [00:28<00:00, 43.58it/s, loss=1.47]\n",
      "Evaluating 10: 100%|██████████| 79/79 [00:00<00:00, 117.37it/s, loss=3.51]\n",
      "Training 11: 100%|██████████| 1233/1233 [00:28<00:00, 43.92it/s, loss=1.45]\n",
      "Evaluating 11: 100%|██████████| 79/79 [00:00<00:00, 116.45it/s, loss=3.49]\n",
      "Training 12: 100%|██████████| 1233/1233 [00:28<00:00, 43.25it/s, loss=1.41]\n",
      "Evaluating 12: 100%|██████████| 79/79 [00:00<00:00, 116.49it/s, loss=3.52]\n",
      "Training 13: 100%|██████████| 1233/1233 [00:27<00:00, 44.07it/s, loss=1.38]\n",
      "Evaluating 13: 100%|██████████| 79/79 [00:00<00:00, 115.54it/s, loss=3.55]\n",
      "Training 14: 100%|██████████| 1233/1233 [00:28<00:00, 43.39it/s, loss=1.36]\n",
      "Evaluating 14: 100%|██████████| 79/79 [00:00<00:00, 119.69it/s, loss=3.52]\n",
      "Training 15: 100%|██████████| 1233/1233 [00:28<00:00, 43.67it/s, loss=1.33]\n",
      "Evaluating 15: 100%|██████████| 79/79 [00:00<00:00, 117.91it/s, loss=3.54]\n",
      "Training 16: 100%|██████████| 1233/1233 [00:28<00:00, 43.99it/s, loss=1.31]\n",
      "Evaluating 16: 100%|██████████| 79/79 [00:00<00:00, 116.16it/s, loss=3.58]\n",
      "Training 17: 100%|██████████| 1233/1233 [00:28<00:00, 43.56it/s, loss=1.29]\n",
      "Evaluating 17: 100%|██████████| 79/79 [00:00<00:00, 117.37it/s, loss=3.57]\n",
      "Training 18: 100%|██████████| 1233/1233 [00:27<00:00, 44.05it/s, loss=1.28]\n",
      "Evaluating 18: 100%|██████████| 79/79 [00:00<00:00, 122.55it/s, loss=3.52]\n",
      "Training 19: 100%|██████████| 1233/1233 [00:28<00:00, 43.14it/s, loss=1.25]\n",
      "Evaluating 19: 100%|██████████| 79/79 [00:00<00:00, 118.52it/s, loss=3.58]\n",
      "Training 20: 100%|██████████| 1233/1233 [00:28<00:00, 43.44it/s, loss=1.23]\n",
      "Evaluating 20: 100%|██████████| 79/79 [00:00<00:00, 115.38it/s, loss=3.6] \n"
     ]
    }
   ],
   "source": [
    "from src.models.train_model import train\n",
    "\n",
    "best_loss = train(\n",
    "    model=model,\n",
    "    loaders=(train_dataloader, val_dataloader),\n",
    "    optimizer=optimizer,\n",
    "    criterion=criterion,\n",
    "    epochs=20,\n",
    "    device=device,\n",
    "    best_loss=best_loss,\n",
    "    ckpt_path=MODEL_CHECKPOINT,\n",
    "    clip_grad=1,\n",
    "    teacher_force={\n",
    "        'value': 0.9,\n",
    "        'gamma': 1.0,\n",
    "        'update_every_n_epoch': 50,\n",
    "    } # first 10 epoch teacher force 1, after it will be turned off\n",
    ")"
   ]
  },
  {
   "cell_type": "code",
   "execution_count": 21,
   "id": "7dc1b6ad-901d-4582-84c8-79ba34fdcebc",
   "metadata": {},
   "outputs": [
    {
     "data": {
      "text/plain": [
       "Seq2SeqAttention(\n",
       "  (encoder): Encoder(\n",
       "    (vocab): Vocab()\n",
       "    (embedding): Embedding(8000, 128, padding_idx=1)\n",
       "    (rnn): LSTM(128, 256, batch_first=True, bidirectional=True)\n",
       "    (fc_hidden): Linear(in_features=512, out_features=256, bias=True)\n",
       "    (fc_cell): Linear(in_features=512, out_features=256, bias=True)\n",
       "    (dropout): Dropout(p=0.5, inplace=False)\n",
       "  )\n",
       "  (decoder): Decoder(\n",
       "    (vocab): Vocab()\n",
       "    (embedding): Embedding(8000, 128, padding_idx=1)\n",
       "    (rnn): LSTM(640, 256, batch_first=True)\n",
       "    (attention): Attention(\n",
       "      (attn): Linear(in_features=768, out_features=256, bias=True)\n",
       "      (v): Linear(in_features=256, out_features=1, bias=False)\n",
       "    )\n",
       "    (dropout): Dropout(p=0.5, inplace=False)\n",
       "    (fc_out): Linear(in_features=896, out_features=8000, bias=True)\n",
       "  )\n",
       ")"
      ]
     },
     "execution_count": 21,
     "metadata": {},
     "output_type": "execute_result"
    }
   ],
   "source": [
    "# let's load the model and predict\n",
    "model = torch.load(MODEL_CHECKPOINT)\n",
    "model.to(device)\n",
    "model.eval()"
   ]
  },
  {
   "cell_type": "code",
   "execution_count": 22,
   "id": "e3f96417-66e1-4061-ba49-55207e953142",
   "metadata": {},
   "outputs": [
    {
     "name": "stdout",
     "output_type": "stream",
     "text": [
      "toxic_sent: hit him.\n",
      "neutral_sent: go get him.\n",
      "predictions:\n",
      "\t1) ['hit', 'him', '.', '<eos>']\n",
      "\t2) ['beat', 'him', '.', '<eos>']\n",
      "\t3) ['hit', 'him', '!', '<eos>']\n",
      "\n",
      "\n",
      "toxic_sent: do not be a pussy.\n",
      "neutral_sent: do not be lame.\n",
      "predictions:\n",
      "\t1) ['do', 'not', 'be', 'a', 'chicken', '.', '<eos>']\n",
      "\t2) ['do', 'not', 'be', 'a', 'quitter', '.', '<eos>']\n",
      "\t3) ['do', 'not', 'be', 'a', 'baby', '.', '<eos>']\n",
      "\n",
      "\n",
      "toxic_sent: why do not you shut him up?\n",
      "neutral_sent: why do not you close it down?\n",
      "predictions:\n",
      "\t1) ['why', 'do', 'not', 'you', 'shut', 'him', '?', '<eos>']\n",
      "\t2) ['why', 'do', 'not', 'you', 'shut', 'him', 'up', '?', '<eos>']\n",
      "\t3) ['why', 'do', 'not', 'you', 'keep', 'him', 'up', '?', '<eos>']\n",
      "\n",
      "\n",
      "toxic_sent: cats are bad doctors.\n",
      "neutral_sent: cats make terrible doctors.\n",
      "predictions:\n",
      "\t1) ['cats', 'are', 'wrong', '.', '<eos>']\n",
      "\t2) ['cats', 'are', 'wrong', 'doctors', '.', '<eos>']\n",
      "\t3) ['cats', 'are', 'bad', '.', '<eos>']\n",
      "\n",
      "\n",
      "toxic_sent: the world can die tomorrow.\n",
      "neutral_sent: the world could end tomorrow, right?\n",
      "predictions:\n",
      "\t1) ['the', 'world', 'could', 'die', 'tomorrow', '.', '<eos>']\n",
      "\t2) ['the', 'world', 'can', 'die', 'tomorrow', '.', '<eos>']\n",
      "\t3) ['the', 'world', 'could', 'die', 'tomorrow', 'tomorrow', '.', '<eos>']\n",
      "\n",
      "\n",
      "toxic_sent: i wrote pig on his back.\n",
      "neutral_sent: i wrote him on his back.\n",
      "predictions:\n",
      "\t1) ['i', 'wrote', 'pig', 'on', 'his', 'back', '.', '<eos>']\n",
      "\t2) ['i', 'wrote', '<unk>', 'on', 'his', 'back', '.', '<eos>']\n",
      "\t3) ['i', 'wrote', 'pig', 'on', 'his', 'back', 'back', '.', '<eos>']\n",
      "\n",
      "\n",
      "toxic_sent: a fantastically selfish man!\n",
      "neutral_sent: a fantastically self centred man!\n",
      "predictions:\n",
      "\t1) ['a', 'selfish', 'selfish', 'man', '!', '<eos>']\n",
      "\t2) ['<unk>', 'selfish', 'man', '!', '<eos>']\n",
      "\t3) ['a', 'selfish', '<unk>', 'man', '!', '<eos>']\n",
      "\n",
      "\n",
      "toxic_sent: i told you to shut up.\n",
      "neutral_sent: i told you to remain silent.\n",
      "predictions:\n",
      "\t1) ['i', 'told', 'you', 'to', 'keep', 'quiet', '.', '<eos>']\n",
      "\t2) ['i', 'told', 'you', 'to', 'be', 'quiet', '.', '<eos>']\n",
      "\t3) ['i', 'told', 'you', 'to', 'shut', 'up', '.', '<eos>']\n",
      "\n",
      "\n",
      "toxic_sent: right, you are a criminal mastermind.\n",
      "neutral_sent: well, you are a crime master.\n",
      "predictions:\n",
      "\t1) ['right', ',', 'you', 'are', 'a', 'criminal', '<unk>', '.', '<eos>']\n",
      "\t2) ['true', ',', 'you', 'are', 'a', 'criminal', '<unk>', '.', '<eos>']\n",
      "\t3) ['right', ',', 'you', 'are', 'a', 'criminal', '.', '<eos>']\n",
      "\n",
      "\n",
      "toxic_sent: forget the pressure . it is crap.\n",
      "neutral_sent: forget the competition, forget the pressure.\n",
      "predictions:\n",
      "\t1) ['forget', 'the', '<unk>', '.', '<eos>']\n",
      "\t2) ['forget', 'the', 'hell', 'out', 'of', 'it', '.', '<eos>']\n",
      "\t3) ['forget', 'the', 'hell', '.', '<eos>']\n",
      "\n",
      "\n"
     ]
    }
   ],
   "source": [
    "from nltk.tokenize.treebank import TreebankWordDetokenizer\n",
    "detokenizer = TreebankWordDetokenizer()\n",
    "\n",
    "# let's see how our model works\n",
    "num_examples = 10\n",
    "num_sentence = 3\n",
    "dataset = train_dataset\n",
    "for _ in range(num_examples):\n",
    "    idx = np.random.randint(0, len(dataset))\n",
    "    toxic_sent = detokenizer.detokenize(dataset.df.loc[idx, 'toxic_sent'])\n",
    "    neutral_sent = detokenizer.detokenize(dataset.df.loc[idx, 'neutral_sent'])\n",
    "    \n",
    "    print('toxic_sent:', toxic_sent)\n",
    "    print('neutral_sent:', neutral_sent)\n",
    "    preds = model.predict(\n",
    "        toxic_sent,\n",
    "        beam=True,\n",
    "        beam_search_num_candidates=num_sentence,\n",
    "        post_process_text=False,\n",
    "    ) # let's use beam search\n",
    "    print(\"predictions:\")\n",
    "    for i in range(num_sentence):\n",
    "        print(f\"\\t{i+1})\", preds[i])\n",
    "    print(\"\\n\")"
   ]
  },
  {
   "cell_type": "code",
   "execution_count": null,
   "id": "b4554e32-4888-4660-a19e-65409f2e34dc",
   "metadata": {},
   "outputs": [],
   "source": []
  }
 ],
 "metadata": {
  "kernelspec": {
   "display_name": "Python 3 (ipykernel)",
   "language": "python",
   "name": "python3"
  },
  "language_info": {
   "codemirror_mode": {
    "name": "ipython",
    "version": 3
   },
   "file_extension": ".py",
   "mimetype": "text/x-python",
   "name": "python",
   "nbconvert_exporter": "python",
   "pygments_lexer": "ipython3",
   "version": "3.9.16"
  }
 },
 "nbformat": 4,
 "nbformat_minor": 5
}
