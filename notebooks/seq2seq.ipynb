{
 "cells": [
  {
   "cell_type": "code",
   "execution_count": 1,
   "id": "51b0681a-69e2-4f9f-9ed4-01c96556980d",
   "metadata": {},
   "outputs": [],
   "source": [
    "LOAD_MODEL = 'models/seq2seq.02.pt'\n",
    "MODEL_CHECKPOINT = 'models/seq2seq.02.pt'\n",
    "DATASET_PATH = 'data/interim/preprocessed_paranmt3.tsv'"
   ]
  },
  {
   "cell_type": "code",
   "execution_count": 2,
   "id": "40068414-5b9f-4586-bcdb-470c3efb7c20",
   "metadata": {},
   "outputs": [],
   "source": [
    "import torch\n",
    "import numpy as np\n",
    "from torch.utils.data import DataLoader\n",
    "\n",
    "import os\n",
    "os.chdir(\"..\") # go to the root dir"
   ]
  },
  {
   "cell_type": "markdown",
   "id": "edd03cca-29af-4e00-865b-e0c255cc787f",
   "metadata": {},
   "source": [
    "# Get the Dataset"
   ]
  },
  {
   "cell_type": "code",
   "execution_count": 3,
   "id": "a4a86d33-7970-403b-b0e7-601c13db61ff",
   "metadata": {},
   "outputs": [],
   "source": [
    "MAX_SENT_SIZE = 10\n",
    "MAX_TOKENS = 30_000"
   ]
  },
  {
   "cell_type": "code",
   "execution_count": 4,
   "id": "e44e86ca-4ca7-4594-9ce7-3dc4c457cf1c",
   "metadata": {},
   "outputs": [],
   "source": [
    "from src.data.make_dataset import ParanmtDataset\n",
    "\n",
    "train_dataset = ParanmtDataset(\n",
    "    path=DATASET_PATH,\n",
    "    max_sent_size=MAX_SENT_SIZE,\n",
    "    train=True,\n",
    "    seed=42,\n",
    ")"
   ]
  },
  {
   "cell_type": "code",
   "execution_count": 5,
   "id": "3822e15e-e711-43c1-a0c2-5e912b406de1",
   "metadata": {},
   "outputs": [],
   "source": [
    "train_dataset.build_vocab(\n",
    "    min_freq=2,\n",
    "    specials=['<unk>', '<pad>', '<sos>', '<eos>'],\n",
    "    max_tokens=MAX_TOKENS,\n",
    ")"
   ]
  },
  {
   "cell_type": "code",
   "execution_count": 6,
   "id": "546d87b2-3b10-4951-ac9e-fa936f2ef204",
   "metadata": {},
   "outputs": [],
   "source": [
    "enc_vocab = train_dataset.toxic_vocab\n",
    "dec_vocab = train_dataset.neutral_vocab"
   ]
  },
  {
   "cell_type": "code",
   "execution_count": 7,
   "id": "cc99d633-b8bc-4ae0-b56d-78ec8642c42f",
   "metadata": {},
   "outputs": [
    {
     "name": "stdout",
     "output_type": "stream",
     "text": [
      "size of encoder vocab: 12137\n",
      "size of decoder vocab: 14544\n"
     ]
    }
   ],
   "source": [
    "print(\"size of encoder vocab:\", len(enc_vocab))\n",
    "print(\"size of decoder vocab:\", len(dec_vocab))"
   ]
  },
  {
   "cell_type": "code",
   "execution_count": 8,
   "id": "0a7b0469-8585-4289-9e45-5f62495f27d2",
   "metadata": {},
   "outputs": [],
   "source": [
    "val_dataset = ParanmtDataset(\n",
    "    path=DATASET_PATH,\n",
    "    max_sent_size=MAX_SENT_SIZE,\n",
    "    vocabs=(enc_vocab, dec_vocab), # avoid data leakage\n",
    "    train=False,\n",
    "    seed=42,\n",
    "    take_first=10_000,\n",
    ")"
   ]
  },
  {
   "cell_type": "code",
   "execution_count": 9,
   "id": "7abeadd3-8c26-4b70-987b-be5e16ebdf6d",
   "metadata": {},
   "outputs": [
    {
     "data": {
      "text/html": [
       "<div>\n",
       "<style scoped>\n",
       "    .dataframe tbody tr th:only-of-type {\n",
       "        vertical-align: middle;\n",
       "    }\n",
       "\n",
       "    .dataframe tbody tr th {\n",
       "        vertical-align: top;\n",
       "    }\n",
       "\n",
       "    .dataframe thead th {\n",
       "        text-align: right;\n",
       "    }\n",
       "</style>\n",
       "<table border=\"1\" class=\"dataframe\">\n",
       "  <thead>\n",
       "    <tr style=\"text-align: right;\">\n",
       "      <th></th>\n",
       "      <th>similarity</th>\n",
       "      <th>lenght_diff</th>\n",
       "      <th>toxic_sent</th>\n",
       "      <th>neutral_sent</th>\n",
       "      <th>toxic_val</th>\n",
       "      <th>neutral_val</th>\n",
       "    </tr>\n",
       "  </thead>\n",
       "  <tbody>\n",
       "    <tr>\n",
       "      <th>0</th>\n",
       "      <td>0.784351</td>\n",
       "      <td>0.190476</td>\n",
       "      <td>[dressing, like, a, bum, ?]</td>\n",
       "      <td>[walk, like, a, bum, ?]</td>\n",
       "      <td>0.911522</td>\n",
       "      <td>0.040193</td>\n",
       "    </tr>\n",
       "    <tr>\n",
       "      <th>1</th>\n",
       "      <td>0.610479</td>\n",
       "      <td>0.000000</td>\n",
       "      <td>[you, bum, !]</td>\n",
       "      <td>[slacker, !]</td>\n",
       "      <td>0.968336</td>\n",
       "      <td>0.006487</td>\n",
       "    </tr>\n",
       "    <tr>\n",
       "      <th>2</th>\n",
       "      <td>0.866624</td>\n",
       "      <td>0.060606</td>\n",
       "      <td>[chloe, ,, stop, being, so, paranoid, .]</td>\n",
       "      <td>[chloe, ,, stop, being, so, paranoid, .]</td>\n",
       "      <td>0.611291</td>\n",
       "      <td>0.021283</td>\n",
       "    </tr>\n",
       "    <tr>\n",
       "      <th>3</th>\n",
       "      <td>0.949912</td>\n",
       "      <td>0.157895</td>\n",
       "      <td>[it, stinks, in, here, .]</td>\n",
       "      <td>[stinks, in, here, .]</td>\n",
       "      <td>0.698503</td>\n",
       "      <td>0.013900</td>\n",
       "    </tr>\n",
       "    <tr>\n",
       "      <th>4</th>\n",
       "      <td>0.885716</td>\n",
       "      <td>0.347826</td>\n",
       "      <td>[i, want, to, silence, you, .]</td>\n",
       "      <td>[i, silence, you, .]</td>\n",
       "      <td>0.921562</td>\n",
       "      <td>0.020940</td>\n",
       "    </tr>\n",
       "    <tr>\n",
       "      <th>...</th>\n",
       "      <td>...</td>\n",
       "      <td>...</td>\n",
       "      <td>...</td>\n",
       "      <td>...</td>\n",
       "      <td>...</td>\n",
       "      <td>...</td>\n",
       "    </tr>\n",
       "    <tr>\n",
       "      <th>162956</th>\n",
       "      <td>0.816062</td>\n",
       "      <td>0.076923</td>\n",
       "      <td>[that, is, a, stupid, excuse, !]</td>\n",
       "      <td>[that, is, a, cowardly, excuse, !]</td>\n",
       "      <td>0.999643</td>\n",
       "      <td>0.042241</td>\n",
       "    </tr>\n",
       "    <tr>\n",
       "      <th>162957</th>\n",
       "      <td>0.756084</td>\n",
       "      <td>0.300000</td>\n",
       "      <td>[what, the, hell, ?, huh, ?]</td>\n",
       "      <td>[what, is, wrong, ?]</td>\n",
       "      <td>0.825482</td>\n",
       "      <td>0.000042</td>\n",
       "    </tr>\n",
       "    <tr>\n",
       "      <th>162958</th>\n",
       "      <td>0.618064</td>\n",
       "      <td>0.333333</td>\n",
       "      <td>[like, your, pecker, .]</td>\n",
       "      <td>[like, a, cue, .]</td>\n",
       "      <td>0.978997</td>\n",
       "      <td>0.000061</td>\n",
       "    </tr>\n",
       "    <tr>\n",
       "      <th>162959</th>\n",
       "      <td>0.687292</td>\n",
       "      <td>0.037037</td>\n",
       "      <td>[my, friend, i, asexual, beast, .]</td>\n",
       "      <td>[my, girl, i, asexual, bestie, .]</td>\n",
       "      <td>0.997259</td>\n",
       "      <td>0.071518</td>\n",
       "    </tr>\n",
       "    <tr>\n",
       "      <th>162960</th>\n",
       "      <td>0.630208</td>\n",
       "      <td>0.103448</td>\n",
       "      <td>[i, mean, ,, my, god, -, fuck, .]</td>\n",
       "      <td>[i, mean, ,, for, heaven, i, sake]</td>\n",
       "      <td>0.999544</td>\n",
       "      <td>0.000100</td>\n",
       "    </tr>\n",
       "  </tbody>\n",
       "</table>\n",
       "<p>162961 rows × 6 columns</p>\n",
       "</div>"
      ],
      "text/plain": [
       "        similarity  lenght_diff                                toxic_sent  \\\n",
       "0         0.784351     0.190476               [dressing, like, a, bum, ?]   \n",
       "1         0.610479     0.000000                             [you, bum, !]   \n",
       "2         0.866624     0.060606  [chloe, ,, stop, being, so, paranoid, .]   \n",
       "3         0.949912     0.157895                 [it, stinks, in, here, .]   \n",
       "4         0.885716     0.347826            [i, want, to, silence, you, .]   \n",
       "...            ...          ...                                       ...   \n",
       "162956    0.816062     0.076923          [that, is, a, stupid, excuse, !]   \n",
       "162957    0.756084     0.300000              [what, the, hell, ?, huh, ?]   \n",
       "162958    0.618064     0.333333                   [like, your, pecker, .]   \n",
       "162959    0.687292     0.037037        [my, friend, i, asexual, beast, .]   \n",
       "162960    0.630208     0.103448         [i, mean, ,, my, god, -, fuck, .]   \n",
       "\n",
       "                                    neutral_sent  toxic_val  neutral_val  \n",
       "0                        [walk, like, a, bum, ?]   0.911522     0.040193  \n",
       "1                                   [slacker, !]   0.968336     0.006487  \n",
       "2       [chloe, ,, stop, being, so, paranoid, .]   0.611291     0.021283  \n",
       "3                          [stinks, in, here, .]   0.698503     0.013900  \n",
       "4                           [i, silence, you, .]   0.921562     0.020940  \n",
       "...                                          ...        ...          ...  \n",
       "162956        [that, is, a, cowardly, excuse, !]   0.999643     0.042241  \n",
       "162957                      [what, is, wrong, ?]   0.825482     0.000042  \n",
       "162958                         [like, a, cue, .]   0.978997     0.000061  \n",
       "162959         [my, girl, i, asexual, bestie, .]   0.997259     0.071518  \n",
       "162960        [i, mean, ,, for, heaven, i, sake]   0.999544     0.000100  \n",
       "\n",
       "[162961 rows x 6 columns]"
      ]
     },
     "execution_count": 9,
     "metadata": {},
     "output_type": "execute_result"
    }
   ],
   "source": [
    "train_dataset.df"
   ]
  },
  {
   "cell_type": "code",
   "execution_count": 10,
   "id": "1688b81e-8e3c-4266-8ab9-07f52124e827",
   "metadata": {},
   "outputs": [
    {
     "data": {
      "text/plain": [
       "(162961, 10000)"
      ]
     },
     "execution_count": 10,
     "metadata": {},
     "output_type": "execute_result"
    }
   ],
   "source": [
    "len(train_dataset), len(val_dataset)"
   ]
  },
  {
   "cell_type": "markdown",
   "id": "1dd8b060-2108-4d18-865c-f9de2ae7969c",
   "metadata": {},
   "source": [
    "# Build the Dataloaders"
   ]
  },
  {
   "cell_type": "code",
   "execution_count": 11,
   "id": "7f82c34f-8f03-45ae-8eae-02dd2759bf24",
   "metadata": {},
   "outputs": [],
   "source": [
    "batch_size = 128"
   ]
  },
  {
   "cell_type": "code",
   "execution_count": 12,
   "id": "c7d5e2e4-dce6-470f-9f5d-06a09c798d78",
   "metadata": {},
   "outputs": [],
   "source": [
    "train_dataloader = DataLoader(\n",
    "    train_dataset,\n",
    "    batch_size=batch_size,\n",
    "    shuffle=True,\n",
    ")\n",
    "\n",
    "val_dataloader = DataLoader(\n",
    "    val_dataset,\n",
    "    batch_size=batch_size,\n",
    "    shuffle=False,\n",
    ")"
   ]
  },
  {
   "cell_type": "code",
   "execution_count": 13,
   "id": "7953a61f-64c0-49a3-9fda-f64e80861fa0",
   "metadata": {},
   "outputs": [
    {
     "name": "stdout",
     "output_type": "stream",
     "text": [
      "toxic_sent.shape: torch.Size([128, 10])\n",
      "neutral_sent.shape: torch.Size([128, 10])\n"
     ]
    }
   ],
   "source": [
    "# let's check if shape and everything is ok\n",
    "for batch in train_dataloader:\n",
    "    toxic_sent, neutral_sent = batch\n",
    "    print(\"toxic_sent.shape:\", toxic_sent.shape)\n",
    "    print(\"neutral_sent.shape:\", neutral_sent.shape)\n",
    "    break"
   ]
  },
  {
   "cell_type": "code",
   "execution_count": 14,
   "id": "dca808e2-529f-4c8e-b035-3b03ec7d053d",
   "metadata": {},
   "outputs": [
    {
     "data": {
      "text/plain": [
       "device(type='cuda')"
      ]
     },
     "execution_count": 14,
     "metadata": {},
     "output_type": "execute_result"
    }
   ],
   "source": [
    "device = torch.device('cuda' if torch.cuda.is_available() else 'cpu')\n",
    "device"
   ]
  },
  {
   "cell_type": "markdown",
   "id": "fc46dfbe-d834-48e7-ad09-c49c2a676386",
   "metadata": {},
   "source": [
    "# Load the Model\n",
    "\n",
    "- Simple EncoderDecoder (Seq2Seq) architerture"
   ]
  },
  {
   "cell_type": "code",
   "execution_count": 15,
   "id": "08d88aaa-7e97-411f-9164-4bdbfae09a6a",
   "metadata": {},
   "outputs": [],
   "source": [
    "from src.models.seq2seq.encoder import Encoder\n",
    "from src.models.seq2seq.decoder import Decoder\n",
    "from src.models.seq2seq import Seq2Seq"
   ]
  },
  {
   "cell_type": "code",
   "execution_count": 16,
   "id": "451a159a-dae5-487c-be50-c87b7407add1",
   "metadata": {},
   "outputs": [],
   "source": [
    "INPUT_DIM = len(enc_vocab)\n",
    "OUTPUT_DIM = len(dec_vocab)\n",
    "EMBED_DIM = 128\n",
    "NUM_HIDDEN = 512\n",
    "N_LAYERS = 2\n",
    "DROPOUT = 0.3\n",
    "ENC_PADDING_IDX = enc_vocab['<pad>']\n",
    "DEC_PADDING_IDX = dec_vocab['<pad>']"
   ]
  },
  {
   "cell_type": "code",
   "execution_count": 17,
   "id": "5b48dfdf-ba48-477c-ac62-2c512a69d86f",
   "metadata": {},
   "outputs": [],
   "source": [
    "# load the encoder and decoder for our model\n",
    "encoder = Encoder(\n",
    "    input_dim=INPUT_DIM,\n",
    "    embed_dim=EMBED_DIM,\n",
    "    hidden_dim=NUM_HIDDEN,\n",
    "    num_layers=N_LAYERS,\n",
    "    dropout=DROPOUT,\n",
    "    vocab=enc_vocab,\n",
    "    padding_idx=ENC_PADDING_IDX\n",
    ").to(device)\n",
    "\n",
    "decoder = Decoder(\n",
    "    output_dim=OUTPUT_DIM,\n",
    "    embed_dim=EMBED_DIM,\n",
    "    hidden_dim=NUM_HIDDEN,\n",
    "    num_layers=N_LAYERS,\n",
    "    dropout=DROPOUT,\n",
    "    vocab=dec_vocab,\n",
    "    padding_idx=DEC_PADDING_IDX\n",
    ").to(device)"
   ]
  },
  {
   "cell_type": "code",
   "execution_count": 18,
   "id": "fb68fa7c-f8ee-4667-9b20-a638de4fe311",
   "metadata": {},
   "outputs": [],
   "source": [
    "best_loss = float('inf')\n",
    "\n",
    "model = Seq2Seq(\n",
    "    encoder=encoder,\n",
    "    decoder=decoder,\n",
    "    device=device,\n",
    "    max_sent_size=MAX_SENT_SIZE,\n",
    ").to(device)"
   ]
  },
  {
   "cell_type": "code",
   "execution_count": 19,
   "id": "3c0d4feb-d171-4c6d-99dd-d05fb9e804c3",
   "metadata": {},
   "outputs": [
    {
     "name": "stdout",
     "output_type": "stream",
     "text": [
      "number of parameters in model: 39.0M\n"
     ]
    }
   ],
   "source": [
    "from src.models.utils import count_parameters\n",
    "\n",
    "print(f\"number of parameters in model: {count_parameters(model)//1e6}M\")"
   ]
  },
  {
   "cell_type": "code",
   "execution_count": 20,
   "id": "088f446e-d95e-4812-949d-a3a5eb20ab6c",
   "metadata": {},
   "outputs": [],
   "source": [
    "optimizer = torch.optim.AdamW(model.parameters(), lr=1e-3)\n",
    "criterion = torch.nn.CrossEntropyLoss(ignore_index=dec_vocab['<pad>'])"
   ]
  },
  {
   "cell_type": "code",
   "execution_count": 21,
   "id": "ae355174-b99f-403c-b926-def9bd694c4b",
   "metadata": {},
   "outputs": [
    {
     "name": "stderr",
     "output_type": "stream",
     "text": [
      "Training 1: 100%|██████████| 1274/1274 [01:10<00:00, 18.17it/s, loss=3.45]\n",
      "Evaluating 1: 100%|██████████| 79/79 [00:01<00:00, 62.08it/s, loss=4.87]\n",
      "Training 2: 100%|██████████| 1274/1274 [01:10<00:00, 18.04it/s, loss=2.77]\n",
      "Evaluating 2: 100%|██████████| 79/79 [00:01<00:00, 65.22it/s, loss=4.86]\n",
      "Training 3: 100%|██████████| 1274/1274 [01:10<00:00, 18.03it/s, loss=2.52]\n",
      "Evaluating 3: 100%|██████████| 79/79 [00:01<00:00, 66.70it/s, loss=5]   \n",
      "Training 4: 100%|██████████| 1274/1274 [01:10<00:00, 18.09it/s, loss=2.35]\n",
      "Evaluating 4: 100%|██████████| 79/79 [00:01<00:00, 66.09it/s, loss=5.14]\n",
      "Training 5: 100%|██████████| 1274/1274 [01:10<00:00, 18.01it/s, loss=2.21]\n",
      "Evaluating 5: 100%|██████████| 79/79 [00:01<00:00, 66.00it/s, loss=5.19]\n"
     ]
    },
    {
     "name": "stdout",
     "output_type": "stream",
     "text": [
      "Update teacher force to 0\n"
     ]
    },
    {
     "name": "stderr",
     "output_type": "stream",
     "text": [
      "Training 6: 100%|██████████| 1274/1274 [01:10<00:00, 18.16it/s, loss=3.26]\n",
      "Evaluating 6: 100%|██████████| 79/79 [00:01<00:00, 69.05it/s, loss=3.38]\n",
      "Training 7: 100%|██████████| 1274/1274 [01:10<00:00, 18.14it/s, loss=3.06]\n",
      "Evaluating 7: 100%|██████████| 79/79 [00:01<00:00, 65.25it/s, loss=3.35]\n",
      "Training 8: 100%|██████████| 1274/1274 [01:10<00:00, 18.18it/s, loss=2.95]\n",
      "Evaluating 8: 100%|██████████| 79/79 [00:01<00:00, 67.87it/s, loss=3.38]\n",
      "Training 9: 100%|██████████| 1274/1274 [01:10<00:00, 18.12it/s, loss=2.86]\n",
      "Evaluating 9: 100%|██████████| 79/79 [00:01<00:00, 65.60it/s, loss=3.42]\n",
      "Training 10: 100%|██████████| 1274/1274 [01:10<00:00, 18.15it/s, loss=2.77]\n",
      "Evaluating 10: 100%|██████████| 79/79 [00:01<00:00, 69.16it/s, loss=3.43]\n",
      "Training 11: 100%|██████████| 1274/1274 [01:10<00:00, 18.13it/s, loss=2.7] \n",
      "Evaluating 11: 100%|██████████| 79/79 [00:01<00:00, 66.85it/s, loss=3.5] \n",
      "Training 12: 100%|██████████| 1274/1274 [01:10<00:00, 18.16it/s, loss=2.63]\n",
      "Evaluating 12: 100%|██████████| 79/79 [00:01<00:00, 67.01it/s, loss=3.54]\n",
      "Training 13: 100%|██████████| 1274/1274 [01:10<00:00, 18.18it/s, loss=2.57]\n",
      "Evaluating 13: 100%|██████████| 79/79 [00:01<00:00, 66.86it/s, loss=3.58]\n",
      "Training 14: 100%|██████████| 1274/1274 [01:09<00:00, 18.20it/s, loss=2.51]\n",
      "Evaluating 14: 100%|██████████| 79/79 [00:01<00:00, 66.93it/s, loss=3.58]\n",
      "Training 15: 100%|██████████| 1274/1274 [01:10<00:00, 18.16it/s, loss=2.46]\n",
      "Evaluating 15: 100%|██████████| 79/79 [00:01<00:00, 65.71it/s, loss=3.63]\n",
      "Training 16: 100%|██████████| 1274/1274 [01:10<00:00, 18.14it/s, loss=2.42]\n",
      "Evaluating 16: 100%|██████████| 79/79 [00:01<00:00, 64.85it/s, loss=3.69]\n",
      "Training 17: 100%|██████████| 1274/1274 [01:10<00:00, 18.09it/s, loss=2.37]\n",
      "Evaluating 17: 100%|██████████| 79/79 [00:01<00:00, 66.07it/s, loss=3.72]\n",
      "Training 18: 100%|██████████| 1274/1274 [01:10<00:00, 18.15it/s, loss=2.33]\n",
      "Evaluating 18: 100%|██████████| 79/79 [00:01<00:00, 67.05it/s, loss=3.76]\n",
      "Training 19: 100%|██████████| 1274/1274 [01:10<00:00, 18.14it/s, loss=2.3] \n",
      "Evaluating 19: 100%|██████████| 79/79 [00:01<00:00, 65.29it/s, loss=3.85]\n",
      "Training 20: 100%|██████████| 1274/1274 [01:10<00:00, 18.13it/s, loss=2.26]\n",
      "Evaluating 20: 100%|██████████| 79/79 [00:01<00:00, 67.71it/s, loss=3.82]\n"
     ]
    }
   ],
   "source": [
    "from src.models.train_model import train\n",
    "\n",
    "best_loss = train(\n",
    "    model=model,\n",
    "    loaders=(train_dataloader, val_dataloader),\n",
    "    optimizer=optimizer,\n",
    "    criterion=criterion,\n",
    "    epochs=20,\n",
    "    device=device,\n",
    "    best_loss=best_loss,\n",
    "    ckpt_path=MODEL_CHECKPOINT,\n",
    "    clip_grad=1,\n",
    "    teacher_force={\n",
    "        'value': 1,\n",
    "        'gamma': 0,\n",
    "        'update_every_n_epoch': 5,\n",
    "    } # first 5 epoch teacher force 1, after it will be turned off\n",
    ")"
   ]
  },
  {
   "cell_type": "code",
   "execution_count": 21,
   "id": "7dc1b6ad-901d-4582-84c8-79ba34fdcebc",
   "metadata": {},
   "outputs": [
    {
     "data": {
      "text/plain": [
       "Seq2Seq(\n",
       "  (encoder): Encoder(\n",
       "    (vocab): Vocab()\n",
       "    (embedding): Embedding(12137, 128, padding_idx=1)\n",
       "    (rnn): GRU(128, 512, num_layers=2, batch_first=True, dropout=0.3)\n",
       "    (dropout): Dropout(p=0.3, inplace=False)\n",
       "  )\n",
       "  (decoder): Decoder(\n",
       "    (vocab): Vocab()\n",
       "    (embedding): Embedding(14544, 128, padding_idx=1)\n",
       "    (rnn): GRU(128, 512, num_layers=2, batch_first=True, dropout=0.3)\n",
       "    (fc_out): Sequential(\n",
       "      (0): Linear(in_features=512, out_features=2048, bias=True)\n",
       "      (1): ReLU()\n",
       "      (2): Dropout(p=0.3, inplace=False)\n",
       "      (3): Linear(in_features=2048, out_features=14544, bias=True)\n",
       "    )\n",
       "    (dropout): Dropout(p=0.3, inplace=False)\n",
       "  )\n",
       ")"
      ]
     },
     "execution_count": 21,
     "metadata": {},
     "output_type": "execute_result"
    }
   ],
   "source": [
    "# let's load the model and predict\n",
    "model = torch.load(MODEL_CHECKPOINT)\n",
    "model.to(device)\n",
    "model.eval()"
   ]
  },
  {
   "cell_type": "code",
   "execution_count": 26,
   "id": "e3f96417-66e1-4061-ba49-55207e953142",
   "metadata": {},
   "outputs": [
    {
     "name": "stdout",
     "output_type": "stream",
     "text": [
      "toxic_sent: prepare to get naked.\n",
      "neutral_sent: be prepared to be naked.\n",
      "predictions:\n",
      "\t1) ['prepare', 'to', 'to', 'undressed', '.', '<eos>']\n",
      "\t2) ['prepare', 'to', 'get', 'undressed', '.', '<eos>']\n",
      "\t3) ['prepare', 'to', '.', 'undressed', '.', '<eos>']\n",
      "\n",
      "\n",
      "toxic_sent: she get on my damn nerves.\n",
      "neutral_sent: he is getting on my nerves.\n",
      "predictions:\n",
      "\t1) ['she', 'peed', 'on', 'my', 'my', '.', '.', '<eos>']\n",
      "\t2) ['she', 'peed', 'on', 'my', 'my', '.', '<eos>']\n",
      "\t3) ['she', 'peed', 'my', 'my', 'my', '.', '.', '<eos>']\n",
      "\n",
      "\n",
      "toxic_sent: forget the damn car.\n",
      "neutral_sent: screw the car.\n",
      "predictions:\n",
      "\t1) ['forget', 'the', 'car', '.', '<eos>']\n",
      "\t2) ['forget', 'the', 'car', '!', '<eos>']\n",
      "\t3) ['forget', 'your', 'car', '.', '<eos>']\n",
      "\n",
      "\n",
      "toxic_sent: who would they rape?\n",
      "neutral_sent: they will not rape van.\n",
      "predictions:\n",
      "\t1) ['who', 'would', 'they', '?', '?', '?', '<eos>']\n",
      "\t2) ['who', 'would', 'they', '?', '?', '<eos>']\n",
      "\t3) ['who', 'would', 'they', '?', '?', '?', '?', '<eos>']\n",
      "\n",
      "\n",
      "toxic_sent: hit him.\n",
      "neutral_sent: beat him.\n",
      "predictions:\n",
      "\t1) ['hit', 'him', '.', '<eos>']\n",
      "\t2) ['beat', 'him', '.', '<eos>']\n",
      "\t3) ['beat', 'him', '.', '.', '<eos>']\n",
      "\n",
      "\n",
      "toxic_sent: killian, your mother died.\n",
      "neutral_sent: killian, your mother passed away.\n",
      "predictions:\n",
      "\t1) ['mommy', ',', 'your', 'mother', '.', '.', '.', '.', '<eos>']\n",
      "\t2) ['mommy', ',', 'your', 'mother', '.', '<eos>']\n",
      "\t3) ['mommy', ',', 'your', 'mother', '.', '.', '.', '<eos>']\n",
      "\n",
      "\n",
      "toxic_sent: rachel i all fat and sassy.\n",
      "neutral_sent: rachel is fat and healthy.\n",
      "predictions:\n",
      "\t1) ['heaven', 'i', '<unk>', 'and', 'and', '.', '.', '.', '<eos>']\n",
      "\t2) ['heaven', 'i', '<unk>', 'and', '<unk>', '.', '.', '.', '<eos>']\n",
      "\t3) ['heaven', 'is', '<unk>', 'and', 'and', '.', '.', '.', '<eos>']\n",
      "\n",
      "\n",
      "toxic_sent: hell hear us!\n",
      "neutral_sent: they will hear us!\n",
      "predictions:\n",
      "\t1) ['you', 'us', 'us', 'us', '<eos>']\n",
      "\t2) ['you', 'us', 'us', 'us', '!', '<eos>']\n",
      "\t3) ['i', 'us', 'us', 'us', '<eos>']\n",
      "\n",
      "\n",
      "toxic_sent: now get in the damn car.\n",
      "neutral_sent: now get in the car.\n",
      "predictions:\n",
      "\t1) ['now', 'get', 'in', 'the', 'car', '.', '<eos>']\n",
      "\t2) ['now', 'get', 'in', 'the', 'car', '!', '<eos>']\n",
      "\t3) ['now', 'back', 'in', 'the', 'car', '.', '<eos>']\n",
      "\n",
      "\n",
      "toxic_sent: shut up for a minute.\n",
      "neutral_sent: wait and shut your trap\n",
      "predictions:\n",
      "\t1) ['be', 'quiet', 'for', 'a', 'second', '.', '<eos>']\n",
      "\t2) ['be', 'quiet', 'for', 'a', 'second', '<eos>']\n",
      "\t3) ['be', 'quiet', 'for', 'a', 'second', 'second', '<eos>']\n",
      "\n",
      "\n"
     ]
    }
   ],
   "source": [
    "from nltk.tokenize.treebank import TreebankWordDetokenizer\n",
    "detokenizer = TreebankWordDetokenizer()\n",
    "\n",
    "# let's see how our model works\n",
    "num_examples = 10\n",
    "num_sentence = 3\n",
    "dataset = val_dataset\n",
    "for idx in range(num_examples):\n",
    "    idx = np.random.randint(0, len(dataset))\n",
    "    toxic_sent = detokenizer.detokenize(dataset.df.loc[idx, 'toxic_sent'])\n",
    "    neutral_sent = detokenizer.detokenize(dataset.df.loc[idx, 'neutral_sent'])\n",
    "    \n",
    "    print('toxic_sent:', toxic_sent)\n",
    "    print('neutral_sent:', neutral_sent)\n",
    "    \n",
    "    # let's use beam search\n",
    "    # i turned off postprocess_text on purpose \n",
    "    # to see everything (postprocess_text removes some tokens and detokenize the sentence)\n",
    "    preds = model.predict(\n",
    "        toxic_sent,\n",
    "        beam=True,\n",
    "        beam_search_num_candidates=num_sentence,\n",
    "        post_process_text=False\n",
    "    )\n",
    "    print(\"predictions:\")\n",
    "    for i in range(num_sentence):\n",
    "        print(f\"\\t{i+1})\", preds[i])\n",
    "    print(\"\\n\")"
   ]
  },
  {
   "cell_type": "markdown",
   "id": "18668afd-374c-49c2-aae3-2a65c86c0ccd",
   "metadata": {},
   "source": [
    "## Beam Search vs Greedy Search"
   ]
  },
  {
   "cell_type": "code",
   "execution_count": 27,
   "id": "a0757595-31f3-4c2b-96a3-ff32c3e1a7f4",
   "metadata": {},
   "outputs": [
    {
     "name": "stdout",
     "output_type": "stream",
     "text": [
      "toxic_sent: you will break my heart.\n",
      "neutral_sent: you are breaking my heart.\n",
      "Beam Search predictions:\n",
      "\t1) ['you', 'are', 'breaking', 'my', 'heart', '.', '<eos>']\n",
      "\t2) ['you', 'are', 'breaking', 'my', 'heart', '.', '.', '<eos>']\n",
      "\t3) ['you', 'are', 'breaking', 'my', 'heart', '<eos>']\n",
      "\n",
      "\n",
      "Greedy Search prediction:\n",
      "['you', 'are', 'breaking', 'my', 'heart', '.']\n",
      "\n",
      "\n",
      "toxic_sent: take your finger off.\n",
      "neutral_sent: move your finger!\n",
      "Beam Search predictions:\n",
      "\t1) ['take', 'your', 'finger', 'off', '.', '<eos>']\n",
      "\t2) ['take', 'your', 'finger', 'off', '<eos>']\n",
      "\t3) ['take', 'your', 'finger', '.', '.', '<eos>']\n",
      "\n",
      "\n",
      "Greedy Search prediction:\n",
      "['take', 'your', 'finger', 'off', '.']\n",
      "\n",
      "\n",
      "toxic_sent: it is the devil i name.\n",
      "neutral_sent: it is the devil i playground.\n",
      "Beam Search predictions:\n",
      "\t1) ['it', 'is', 'the', 'name', 'i', '.', '.', '<eos>']\n",
      "\t2) ['it', 'is', 'the', 'name', 'i', '.', '.', '.', '<eos>']\n",
      "\t3) ['it', 'is', 'the', 'name', 'i', '.', '<eos>']\n",
      "\n",
      "\n",
      "Greedy Search prediction:\n",
      "['it', 'is', 'the', 'name', 'i', '.', '.']\n",
      "\n",
      "\n",
      "toxic_sent: what a menagerie of mayhem loving monstrosities.\n",
      "neutral_sent: what a venerable monstrosity.\n",
      "Beam Search predictions:\n",
      "\t1) ['what', 'a', 'a', 'of', 'of', '<unk>', '.', '.', '<eos>']\n",
      "\t2) ['what', 'a', 'a', 'of', 'of', '.', '.', '.', '<eos>']\n",
      "\t3) ['what', 'a', 'a', 'of', '<unk>', '.', '.', '.', '<eos>']\n",
      "\n",
      "\n",
      "Greedy Search prediction:\n",
      "['what', 'a', 'a', 'of', 'of', '<unk>', '.', '.']\n",
      "\n",
      "\n",
      "toxic_sent: we will both drown!\n",
      "neutral_sent: you are drowning us both!\n",
      "Beam Search predictions:\n",
      "\t1) ['we', 'are', 'all', '!', '<eos>']\n",
      "\t2) ['we', 'are', 'all', '!', '!', '<eos>']\n",
      "\t3) ['we', 'are', 'all', '<eos>']\n",
      "\n",
      "\n",
      "Greedy Search prediction:\n",
      "['we', 'are', 'all', '!']\n",
      "\n",
      "\n",
      "toxic_sent: do not fuck up.\n",
      "neutral_sent: do not screw up.\n",
      "Beam Search predictions:\n",
      "\t1) ['do', 'not', 'screw', 'up', 'up', '<eos>']\n",
      "\t2) ['do', 'not', 'screw', 'it', 'up', '<eos>']\n",
      "\t3) ['do', 'not', 'screw', 'up', 'up', '.', '<eos>']\n",
      "\n",
      "\n",
      "Greedy Search prediction:\n",
      "['do', 'not', 'screw', 'up', 'up']\n",
      "\n",
      "\n",
      "toxic_sent: watch your mouth, pig!\n",
      "neutral_sent: watch your mouth, cochino!\n",
      "Beam Search predictions:\n",
      "\t1) ['watch', 'your', 'watch', ',', '<eos>']\n",
      "\t2) ['watch', 'your', 'mouth', ',', '<eos>']\n",
      "\t3) ['watch', 'your', 'watch', ',', '!', '!', '<eos>']\n",
      "\n",
      "\n",
      "Greedy Search prediction:\n",
      "['watch', 'your', 'watch', ',']\n",
      "\n",
      "\n",
      "toxic_sent: do you want to fuck?\n",
      "neutral_sent: you want to get laid?\n",
      "Beam Search predictions:\n",
      "\t1) ['do', 'want', 'to', 'to', 'laid', '?', '<eos>']\n",
      "\t2) ['do', 'you', 'to', 'to', 'laid', '?', '<eos>']\n",
      "\t3) ['do', 'you', 'want', 'to', 'laid', '?', '<eos>']\n",
      "\n",
      "\n",
      "Greedy Search prediction:\n",
      "['do', 'want', 'to', 'to', 'laid', '?']\n",
      "\n",
      "\n",
      "toxic_sent: you are a grimm.\n",
      "neutral_sent: you are the grimm.\n",
      "Beam Search predictions:\n",
      "\t1) ['you', 'are', 'a', '.', '.', '<eos>']\n",
      "\t2) ['you', 'are', 'a', '.', '.', '.', '<eos>']\n",
      "\t3) ['you', 'are', 'a', '<eos>']\n",
      "\n",
      "\n",
      "Greedy Search prediction:\n",
      "['you', 'are', 'a', '.', '.']\n",
      "\n",
      "\n",
      "toxic_sent: he is the worst.\n",
      "neutral_sent: it is the worst.\n",
      "Beam Search predictions:\n",
      "\t1) ['it', 'is', 'the', 'worst', '.', '<eos>']\n",
      "\t2) ['it', 'worst', 'the', 'worst', '.', '<eos>']\n",
      "\t3) ['it', 'worst', 'worst', 'worst', '.', '<eos>']\n",
      "\n",
      "\n",
      "Greedy Search prediction:\n",
      "['it', 'worst', 'the', 'worst', '.']\n",
      "\n",
      "\n"
     ]
    }
   ],
   "source": [
    "from nltk.tokenize.treebank import TreebankWordDetokenizer\n",
    "detokenizer = TreebankWordDetokenizer()\n",
    "\n",
    "# let's see how our model works\n",
    "num_examples = 10\n",
    "num_sentence = 3\n",
    "dataset = val_dataset\n",
    "for idx in range(num_examples):\n",
    "    idx = np.random.randint(0, len(dataset))\n",
    "    toxic_sent = detokenizer.detokenize(dataset.df.loc[idx, 'toxic_sent'])\n",
    "    neutral_sent = detokenizer.detokenize(dataset.df.loc[idx, 'neutral_sent'])\n",
    "    \n",
    "    print('toxic_sent:', toxic_sent)\n",
    "    print('neutral_sent:', neutral_sent)\n",
    "    \n",
    "    preds = model.predict(\n",
    "        toxic_sent,\n",
    "        beam=True,\n",
    "        beam_search_num_candidates=num_sentence,\n",
    "        post_process_text=False\n",
    "    )\n",
    "    print(\"Beam Search predictions:\")\n",
    "    for i in range(num_sentence):\n",
    "        print(f\"\\t{i+1})\", preds[i])\n",
    "    print(\"\\n\")\n",
    "    \n",
    "    \n",
    "    preds = model.predict(\n",
    "        toxic_sent,\n",
    "        beam=False,\n",
    "        post_process_text=False\n",
    "    )\n",
    "    print(\"Greedy Search prediction:\")\n",
    "    print(preds)\n",
    "    print(\"\\n\")"
   ]
  },
  {
   "cell_type": "markdown",
   "id": "92b78cc9-6163-4b13-b9f6-80a6040a13bb",
   "metadata": {},
   "source": [
    "### Actually Greedy search doing great job"
   ]
  },
  {
   "cell_type": "code",
   "execution_count": null,
   "id": "0873fed0-7444-4886-9014-01c172062be2",
   "metadata": {},
   "outputs": [],
   "source": []
  }
 ],
 "metadata": {
  "kernelspec": {
   "display_name": "Python 3 (ipykernel)",
   "language": "python",
   "name": "python3"
  },
  "language_info": {
   "codemirror_mode": {
    "name": "ipython",
    "version": 3
   },
   "file_extension": ".py",
   "mimetype": "text/x-python",
   "name": "python",
   "nbconvert_exporter": "python",
   "pygments_lexer": "ipython3",
   "version": "3.9.16"
  }
 },
 "nbformat": 4,
 "nbformat_minor": 5
}
