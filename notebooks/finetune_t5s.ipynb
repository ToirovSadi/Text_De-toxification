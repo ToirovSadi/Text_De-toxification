{
 "cells": [
  {
   "cell_type": "code",
   "execution_count": 1,
   "id": "76ed81b6-9b3f-4d67-b35a-cdbcdfa4100b",
   "metadata": {},
   "outputs": [
    {
     "data": {
      "application/vnd.jupyter.widget-view+json": {
       "model_id": "c836cc97eb564f8aae33dd03a1558f34",
       "version_major": 2,
       "version_minor": 0
      },
      "text/plain": [
       "VBox(children=(HTML(value='<center> <img\\nsrc=https://huggingface.co/front/assets/huggingface_logo-noborder.sv…"
      ]
     },
     "metadata": {},
     "output_type": "display_data"
    }
   ],
   "source": [
    "from huggingface_hub import notebook_login\n",
    "notebook_login()"
   ]
  },
  {
   "cell_type": "code",
   "execution_count": 2,
   "id": "c7807206-97db-4f97-876b-3ab725909d80",
   "metadata": {},
   "outputs": [],
   "source": [
    "dataset_name = 'narySt/text_detoxification_dataset'\n",
    "model_name = 'ToirovSadi/t5-small'"
   ]
  },
  {
   "cell_type": "code",
   "execution_count": 3,
   "id": "4f24591f-8118-4804-8468-1360c682a12f",
   "metadata": {},
   "outputs": [],
   "source": [
    "from datasets import load_dataset"
   ]
  },
  {
   "cell_type": "code",
   "execution_count": 4,
   "id": "eae23da5-13db-4e17-9010-dbd13fd62334",
   "metadata": {},
   "outputs": [
    {
     "data": {
      "text/plain": [
       "DatasetDict({\n",
       "    train: Dataset({\n",
       "        features: ['translation', 'reference', 'similarity', 'lenght_diff', 'trn_tox', 'ref_tox', 'tox_diff', 'tox_diff_abs', 'translation_words', 'reference_words', '__index_level_0__'],\n",
       "        num_rows: 567777\n",
       "    })\n",
       "    test: Dataset({\n",
       "        features: ['translation', 'reference', 'similarity', 'lenght_diff', 'trn_tox', 'ref_tox', 'tox_diff', 'tox_diff_abs', 'translation_words', 'reference_words', '__index_level_0__'],\n",
       "        num_rows: 10000\n",
       "    })\n",
       "})"
      ]
     },
     "execution_count": 4,
     "metadata": {},
     "output_type": "execute_result"
    }
   ],
   "source": [
    "dataset = load_dataset(dataset_name)\n",
    "dataset = dataset['train'].train_test_split(test_size=10_000)\n",
    "dataset"
   ]
  },
  {
   "cell_type": "code",
   "execution_count": 5,
   "id": "ddae9fcb-38b2-44ea-acd8-12e1f63c94de",
   "metadata": {},
   "outputs": [
    {
     "data": {
      "application/vnd.jupyter.widget-view+json": {
       "model_id": "87ad66dc8cef488cbaf901a6639696c7",
       "version_major": 2,
       "version_minor": 0
      },
      "text/plain": [
       "Map:   0%|          | 0/567777 [00:00<?, ? examples/s]"
      ]
     },
     "metadata": {},
     "output_type": "display_data"
    },
    {
     "data": {
      "application/vnd.jupyter.widget-view+json": {
       "model_id": "eed950e71eba46bcbd0c8a6ddfff5683",
       "version_major": 2,
       "version_minor": 0
      },
      "text/plain": [
       "Map:   0%|          | 0/10000 [00:00<?, ? examples/s]"
      ]
     },
     "metadata": {},
     "output_type": "display_data"
    }
   ],
   "source": [
    "def preprocess_data(sample):\n",
    "    toxic_sent = sample['translation']\n",
    "    neutral_sent = sample['reference']\n",
    "    \n",
    "    toxic_val = sample['trn_tox']\n",
    "    neutral_val = sample['ref_tox']\n",
    "    \n",
    "    if toxic_val < neutral_val: # swap\n",
    "        toxic_sent, neutral_sent = neutral_sent, toxic_sent\n",
    "        \n",
    "    return {\n",
    "        'toxic_sent': toxic_sent,\n",
    "        'neutral_sent': neutral_sent,\n",
    "    }\n",
    "\n",
    "dataset = dataset.map(preprocess_data, batched=False)"
   ]
  },
  {
   "cell_type": "markdown",
   "id": "a9bf4f49-b8f3-4c95-b2f0-547b9f1319ff",
   "metadata": {},
   "source": [
    "# Preprocessing data"
   ]
  },
  {
   "cell_type": "code",
   "execution_count": 6,
   "id": "ad84de9d-9b46-4409-852b-78cc507183eb",
   "metadata": {},
   "outputs": [],
   "source": [
    "from transformers import AutoTokenizer\n",
    "from transformers import DataCollatorForSeq2Seq\n",
    "from transformers import AutoModelForSeq2SeqLM, Seq2SeqTrainingArguments, Seq2SeqTrainer"
   ]
  },
  {
   "cell_type": "code",
   "execution_count": 7,
   "id": "d42168e5-df47-429e-b56a-6f29aad90271",
   "metadata": {},
   "outputs": [
    {
     "data": {
      "application/vnd.jupyter.widget-view+json": {
       "model_id": "6f5d6c62112147219eeceda1938a9eb1",
       "version_major": 2,
       "version_minor": 0
      },
      "text/plain": [
       "model.safetensors:   0%|          | 0.00/242M [00:00<?, ?B/s]"
      ]
     },
     "metadata": {},
     "output_type": "display_data"
    }
   ],
   "source": [
    "tokenizer = AutoTokenizer.from_pretrained(model_name)\n",
    "model = AutoModelForSeq2SeqLM.from_pretrained(model_name)"
   ]
  },
  {
   "cell_type": "code",
   "execution_count": 8,
   "id": "8f392201-a01d-4ff2-925a-2ee223cd1267",
   "metadata": {},
   "outputs": [
    {
     "data": {
      "text/plain": [
       "{'input_ids': [3, 1], 'attention_mask': [1, 1]}"
      ]
     },
     "execution_count": 8,
     "metadata": {},
     "output_type": "execute_result"
    }
   ],
   "source": [
    "tokenizer('hey how are you?', max_length=2, truncation=True, padding=True)"
   ]
  },
  {
   "cell_type": "code",
   "execution_count": 9,
   "id": "540d711f-7adc-48e4-800b-4714b07da396",
   "metadata": {},
   "outputs": [],
   "source": [
    "prefix = \"paraphrase: \"\n",
    "max_length = 128\n",
    "\n",
    "def preprocess_function(samples):\n",
    "    toxic_sent = [prefix + sent for sent in samples['toxic_sent']]\n",
    "    neutral_sent = samples['neutral_sent']\n",
    "    \n",
    "    model_inputs = tokenizer(toxic_sent, max_length=max_length, truncation=True)\n",
    "    labels = tokenizer(neutral_sent, max_length=max_length, truncation=True)\n",
    "\n",
    "    model_inputs[\"labels\"] = labels[\"input_ids\"]\n",
    "    return model_inputs"
   ]
  },
  {
   "cell_type": "code",
   "execution_count": 10,
   "id": "31b2bf53-fbc1-4412-a0c3-75734b9fc4ac",
   "metadata": {},
   "outputs": [
    {
     "data": {
      "application/vnd.jupyter.widget-view+json": {
       "model_id": "9c85d9d2ad6844a5b679f0ddabd9bc86",
       "version_major": 2,
       "version_minor": 0
      },
      "text/plain": [
       "Map:   0%|          | 0/567777 [00:00<?, ? examples/s]"
      ]
     },
     "metadata": {},
     "output_type": "display_data"
    },
    {
     "data": {
      "application/vnd.jupyter.widget-view+json": {
       "model_id": "f6d9db22afdb4b7d9c1a9c476493b4cb",
       "version_major": 2,
       "version_minor": 0
      },
      "text/plain": [
       "Map:   0%|          | 0/10000 [00:00<?, ? examples/s]"
      ]
     },
     "metadata": {},
     "output_type": "display_data"
    }
   ],
   "source": [
    "dataset = dataset.map(preprocess_function, batched=True)"
   ]
  },
  {
   "cell_type": "code",
   "execution_count": 11,
   "id": "e300c158-0a42-43a1-9d98-35543ed6c300",
   "metadata": {},
   "outputs": [
    {
     "data": {
      "text/plain": [
       "DatasetDict({\n",
       "    train: Dataset({\n",
       "        features: ['translation', 'reference', 'similarity', 'lenght_diff', 'trn_tox', 'ref_tox', 'tox_diff', 'tox_diff_abs', 'translation_words', 'reference_words', '__index_level_0__', 'toxic_sent', 'neutral_sent', 'input_ids', 'attention_mask', 'labels'],\n",
       "        num_rows: 567777\n",
       "    })\n",
       "    test: Dataset({\n",
       "        features: ['translation', 'reference', 'similarity', 'lenght_diff', 'trn_tox', 'ref_tox', 'tox_diff', 'tox_diff_abs', 'translation_words', 'reference_words', '__index_level_0__', 'toxic_sent', 'neutral_sent', 'input_ids', 'attention_mask', 'labels'],\n",
       "        num_rows: 10000\n",
       "    })\n",
       "})"
      ]
     },
     "execution_count": 11,
     "metadata": {},
     "output_type": "execute_result"
    }
   ],
   "source": [
    "dataset"
   ]
  },
  {
   "cell_type": "code",
   "execution_count": 12,
   "id": "7e510595-4510-4c41-b911-272171f12702",
   "metadata": {},
   "outputs": [],
   "source": [
    "data_collator = DataCollatorForSeq2Seq(tokenizer=tokenizer, model=model)"
   ]
  },
  {
   "cell_type": "code",
   "execution_count": 13,
   "id": "dc59a718-85df-4899-a6b9-90e19f5587e0",
   "metadata": {},
   "outputs": [
    {
     "name": "stderr",
     "output_type": "stream",
     "text": [
      "[nltk_data] Downloading package punkt to /root/nltk_data...\n",
      "[nltk_data]   Package punkt is already up-to-date!\n"
     ]
    }
   ],
   "source": [
    "from nltk.tokenize import sent_tokenize\n",
    "import nltk\n",
    "nltk.download('punkt')\n",
    "\n",
    "import evaluate\n",
    "import numpy as np\n",
    "\n",
    "rouge = evaluate.load(\"rouge\")\n",
    "bleu = evaluate.load(\"bleu\")\n",
    "\n",
    "def compute_metrics(eval_pred):\n",
    "    predictions, labels = eval_pred\n",
    "    \n",
    "    # Replace -100 in the predictions as we can't decode them.\n",
    "    predictions = np.where(predictions != -100, predictions, tokenizer.pad_token_id)\n",
    "    decoded_preds = tokenizer.batch_decode(predictions, skip_special_tokens=True)\n",
    "    \n",
    "    # Replace -100 in the labels as we can't decode them.\n",
    "    labels = np.where(labels != -100, labels, tokenizer.pad_token_id)\n",
    "    decoded_labels = tokenizer.batch_decode(labels, skip_special_tokens=True)\n",
    "    \n",
    "    b_result = bleu.compute(predictions=decoded_preds, references=decoded_labels)\n",
    "    \n",
    "    decoded_preds = [\"\\n\".join(sent_tokenize(pred.strip())) for pred in decoded_preds]\n",
    "    decoded_labels = [\"\\n\".join(sent_tokenize(label.strip())) for label in decoded_labels]\n",
    "    \n",
    "    result = rouge.compute(predictions=decoded_preds, references=decoded_labels, use_stemmer=True)\n",
    "    result = {key: value * 100 for key, value in result.items()}\n",
    "    result[\"bleu\"] = b_result[\"bleu\"]\n",
    "    \n",
    "    return {k: round(v, 4) for k, v in result.items()}\n"
   ]
  },
  {
   "cell_type": "markdown",
   "id": "372fd4c6-2496-4e70-8dec-ab00a0f92c3d",
   "metadata": {},
   "source": [
    "# Train model"
   ]
  },
  {
   "cell_type": "code",
   "execution_count": 14,
   "id": "dd195588-6815-4d10-b610-81885d969148",
   "metadata": {},
   "outputs": [],
   "source": [
    "batch_size = 8\n",
    "\n",
    "training_args = Seq2SeqTrainingArguments(\n",
    "    output_dir=\"t5-small\",\n",
    "    evaluation_strategy=\"steps\",\n",
    "    eval_steps=70000,\n",
    "    learning_rate=2e-5,\n",
    "    per_device_train_batch_size=batch_size,\n",
    "    per_device_eval_batch_size=batch_size,\n",
    "    weight_decay=0.01,\n",
    "    save_total_limit=3,\n",
    "    num_train_epochs=3,\n",
    "    predict_with_generate=True,\n",
    "    report_to=\"tensorboard\",\n",
    "    push_to_hub=True,\n",
    "    generation_max_length=max_length,\n",
    "    generation_num_beams=3,\n",
    ")"
   ]
  },
  {
   "cell_type": "code",
   "execution_count": 15,
   "id": "fc276dd1-b28d-42e8-acbf-45c326271663",
   "metadata": {},
   "outputs": [],
   "source": [
    "trainer = Seq2SeqTrainer(\n",
    "    model=model,\n",
    "    args=training_args,\n",
    "    train_dataset=dataset[\"train\"],\n",
    "    eval_dataset=dataset[\"test\"],\n",
    "    tokenizer=tokenizer,\n",
    "    data_collator=data_collator,\n",
    "    compute_metrics=compute_metrics,\n",
    ")"
   ]
  },
  {
   "cell_type": "code",
   "execution_count": 16,
   "id": "7d08f2f0-4233-482b-880c-1d35a8b09021",
   "metadata": {},
   "outputs": [
    {
     "name": "stderr",
     "output_type": "stream",
     "text": [
      "You're using a T5TokenizerFast tokenizer. Please note that with a fast tokenizer, using the `__call__` method is faster than using a method to encode the text followed by a call to the `pad` method to get a padded encoding.\n"
     ]
    },
    {
     "data": {
      "text/html": [
       "\n",
       "    <div>\n",
       "      \n",
       "      <progress value='212919' max='212919' style='width:300px; height:20px; vertical-align: middle;'></progress>\n",
       "      [212919/212919 3:38:40, Epoch 3/3]\n",
       "    </div>\n",
       "    <table border=\"1\" class=\"dataframe\">\n",
       "  <thead>\n",
       " <tr style=\"text-align: left;\">\n",
       "      <th>Step</th>\n",
       "      <th>Training Loss</th>\n",
       "      <th>Validation Loss</th>\n",
       "      <th>Rouge1</th>\n",
       "      <th>Rouge2</th>\n",
       "      <th>Rougel</th>\n",
       "      <th>Rougelsum</th>\n",
       "      <th>Bleu</th>\n",
       "    </tr>\n",
       "  </thead>\n",
       "  <tbody>\n",
       "    <tr>\n",
       "      <td>70000</td>\n",
       "      <td>1.743300</td>\n",
       "      <td>1.600013</td>\n",
       "      <td>60.980200</td>\n",
       "      <td>37.687200</td>\n",
       "      <td>59.156100</td>\n",
       "      <td>59.164400</td>\n",
       "      <td>0.282100</td>\n",
       "    </tr>\n",
       "    <tr>\n",
       "      <td>140000</td>\n",
       "      <td>1.721600</td>\n",
       "      <td>1.590479</td>\n",
       "      <td>61.124100</td>\n",
       "      <td>37.872200</td>\n",
       "      <td>59.287800</td>\n",
       "      <td>59.299100</td>\n",
       "      <td>0.283900</td>\n",
       "    </tr>\n",
       "    <tr>\n",
       "      <td>210000</td>\n",
       "      <td>1.738900</td>\n",
       "      <td>1.587134</td>\n",
       "      <td>61.140400</td>\n",
       "      <td>37.885400</td>\n",
       "      <td>59.295300</td>\n",
       "      <td>59.308100</td>\n",
       "      <td>0.284300</td>\n",
       "    </tr>\n",
       "  </tbody>\n",
       "</table><p>"
      ],
      "text/plain": [
       "<IPython.core.display.HTML object>"
      ]
     },
     "metadata": {},
     "output_type": "display_data"
    },
    {
     "data": {
      "text/plain": [
       "TrainOutput(global_step=212919, training_loss=1.7294391208917586, metrics={'train_runtime': 13121.6392, 'train_samples_per_second': 129.811, 'train_steps_per_second': 16.227, 'total_flos': 1.6425295405940736e+16, 'train_loss': 1.7294391208917586, 'epoch': 3.0})"
      ]
     },
     "execution_count": 16,
     "metadata": {},
     "output_type": "execute_result"
    }
   ],
   "source": [
    "trainer.train()"
   ]
  },
  {
   "cell_type": "code",
   "execution_count": 17,
   "id": "32c09ac8-0582-477e-a90b-5b6263f6d6dc",
   "metadata": {},
   "outputs": [
    {
     "data": {
      "application/vnd.jupyter.widget-view+json": {
       "model_id": "2a37d42086394d78a63ab537bfc03004",
       "version_major": 2,
       "version_minor": 0
      },
      "text/plain": [
       "Upload 2 LFS files:   0%|          | 0/2 [00:00<?, ?it/s]"
      ]
     },
     "metadata": {},
     "output_type": "display_data"
    },
    {
     "data": {
      "application/vnd.jupyter.widget-view+json": {
       "model_id": "4febcb4a274e44a88b1d11b255d620fb",
       "version_major": 2,
       "version_minor": 0
      },
      "text/plain": [
       "model.safetensors:   0%|          | 0.00/242M [00:00<?, ?B/s]"
      ]
     },
     "metadata": {},
     "output_type": "display_data"
    },
    {
     "data": {
      "application/vnd.jupyter.widget-view+json": {
       "model_id": "78bab48c76074274a0ae93f316e0905c",
       "version_major": 2,
       "version_minor": 0
      },
      "text/plain": [
       "events.out.tfevents.1703932132.nsjmhjr540.242.0:   0%|          | 0.00/75.2k [00:00<?, ?B/s]"
      ]
     },
     "metadata": {},
     "output_type": "display_data"
    },
    {
     "data": {
      "text/plain": [
       "CommitInfo(commit_url='https://huggingface.co/ToirovSadi/t5-small/commit/f1fd66825ac3a8bd434a451eb6f7a79df45a3032', commit_message='End of training', commit_description='', oid='f1fd66825ac3a8bd434a451eb6f7a79df45a3032', pr_url=None, pr_revision=None, pr_num=None)"
      ]
     },
     "execution_count": 17,
     "metadata": {},
     "output_type": "execute_result"
    }
   ],
   "source": [
    "trainer.push_to_hub()"
   ]
  },
  {
   "cell_type": "code",
   "execution_count": null,
   "id": "afb88d8a-2931-47da-837a-5836b11abc73",
   "metadata": {},
   "outputs": [],
   "source": []
  }
 ],
 "metadata": {
  "kernelspec": {
   "display_name": "Python 3 (ipykernel)",
   "language": "python",
   "name": "python3"
  },
  "language_info": {
   "codemirror_mode": {
    "name": "ipython",
    "version": 3
   },
   "file_extension": ".py",
   "mimetype": "text/x-python",
   "name": "python",
   "nbconvert_exporter": "python",
   "pygments_lexer": "ipython3",
   "version": "3.9.16"
  }
 },
 "nbformat": 4,
 "nbformat_minor": 5
}
