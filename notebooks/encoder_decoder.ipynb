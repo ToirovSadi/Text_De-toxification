{
 "cells": [
  {
   "cell_type": "code",
   "execution_count": 1,
   "id": "40068414-5b9f-4586-bcdb-470c3efb7c20",
   "metadata": {},
   "outputs": [
    {
     "name": "stderr",
     "output_type": "stream",
     "text": [
      "[nltk_data] Downloading package punkt to /root/nltk_data...\n",
      "[nltk_data]   Package punkt is already up-to-date!\n"
     ]
    }
   ],
   "source": [
    "import pandas as pd\n",
    "import numpy as np\n",
    "from copy import deepcopy\n",
    "from tqdm import tqdm\n",
    "\n",
    "from torch.utils.data import DataLoader, Dataset\n",
    "import torch\n",
    "import torch.nn as nn\n",
    "from torch.optim import Adam\n",
    "\n",
    "import nltk\n",
    "from nltk import word_tokenize\n",
    "nltk.download('punkt')\n",
    "\n",
    "import matplotlib.pyplot as plt\n",
    "\n",
    "import os\n",
    "os.chdir(\"..\") # go to the root dir"
   ]
  },
  {
   "cell_type": "code",
   "execution_count": 2,
   "id": "e0fef546-9865-4f67-a8b1-f1b38319318a",
   "metadata": {},
   "outputs": [
    {
     "name": "stdout",
     "output_type": "stream",
     "text": [
      "Requirement already satisfied: torchtext in /usr/local/lib/python3.9/dist-packages (0.16.0)\n",
      "Requirement already satisfied: numpy in /usr/local/lib/python3.9/dist-packages (from torchtext) (1.23.4)\n",
      "Requirement already satisfied: tqdm in /usr/local/lib/python3.9/dist-packages (from torchtext) (4.64.1)\n",
      "Requirement already satisfied: requests in /usr/local/lib/python3.9/dist-packages (from torchtext) (2.28.2)\n",
      "Requirement already satisfied: torch==2.1.0 in /usr/local/lib/python3.9/dist-packages (from torchtext) (2.1.0)\n",
      "Requirement already satisfied: torchdata==0.7.0 in /usr/local/lib/python3.9/dist-packages (from torchtext) (0.7.0)\n",
      "Requirement already satisfied: nvidia-cusparse-cu12==12.1.0.106 in /usr/local/lib/python3.9/dist-packages (from torch==2.1.0->torchtext) (12.1.0.106)\n",
      "Requirement already satisfied: fsspec in /usr/local/lib/python3.9/dist-packages (from torch==2.1.0->torchtext) (2023.1.0)\n",
      "Requirement already satisfied: nvidia-cublas-cu12==12.1.3.1 in /usr/local/lib/python3.9/dist-packages (from torch==2.1.0->torchtext) (12.1.3.1)\n",
      "Requirement already satisfied: triton==2.1.0 in /usr/local/lib/python3.9/dist-packages (from torch==2.1.0->torchtext) (2.1.0)\n",
      "Requirement already satisfied: nvidia-cufft-cu12==11.0.2.54 in /usr/local/lib/python3.9/dist-packages (from torch==2.1.0->torchtext) (11.0.2.54)\n",
      "Requirement already satisfied: typing-extensions in /usr/local/lib/python3.9/dist-packages (from torch==2.1.0->torchtext) (4.4.0)\n",
      "Requirement already satisfied: nvidia-cudnn-cu12==8.9.2.26 in /usr/local/lib/python3.9/dist-packages (from torch==2.1.0->torchtext) (8.9.2.26)\n",
      "Requirement already satisfied: nvidia-nccl-cu12==2.18.1 in /usr/local/lib/python3.9/dist-packages (from torch==2.1.0->torchtext) (2.18.1)\n",
      "Requirement already satisfied: nvidia-nvtx-cu12==12.1.105 in /usr/local/lib/python3.9/dist-packages (from torch==2.1.0->torchtext) (12.1.105)\n",
      "Requirement already satisfied: nvidia-curand-cu12==10.3.2.106 in /usr/local/lib/python3.9/dist-packages (from torch==2.1.0->torchtext) (10.3.2.106)\n",
      "Requirement already satisfied: sympy in /usr/local/lib/python3.9/dist-packages (from torch==2.1.0->torchtext) (1.12)\n",
      "Requirement already satisfied: networkx in /usr/local/lib/python3.9/dist-packages (from torch==2.1.0->torchtext) (3.0)\n",
      "Requirement already satisfied: nvidia-cuda-runtime-cu12==12.1.105 in /usr/local/lib/python3.9/dist-packages (from torch==2.1.0->torchtext) (12.1.105)\n",
      "Requirement already satisfied: nvidia-cusolver-cu12==11.4.5.107 in /usr/local/lib/python3.9/dist-packages (from torch==2.1.0->torchtext) (11.4.5.107)\n",
      "Requirement already satisfied: nvidia-cuda-cupti-cu12==12.1.105 in /usr/local/lib/python3.9/dist-packages (from torch==2.1.0->torchtext) (12.1.105)\n",
      "Requirement already satisfied: filelock in /usr/local/lib/python3.9/dist-packages (from torch==2.1.0->torchtext) (3.9.0)\n",
      "Requirement already satisfied: jinja2 in /usr/local/lib/python3.9/dist-packages (from torch==2.1.0->torchtext) (3.1.2)\n",
      "Requirement already satisfied: nvidia-cuda-nvrtc-cu12==12.1.105 in /usr/local/lib/python3.9/dist-packages (from torch==2.1.0->torchtext) (12.1.105)\n",
      "Requirement already satisfied: urllib3>=1.25 in /usr/local/lib/python3.9/dist-packages (from torchdata==0.7.0->torchtext) (1.26.14)\n",
      "Requirement already satisfied: nvidia-nvjitlink-cu12 in /usr/local/lib/python3.9/dist-packages (from nvidia-cusolver-cu12==11.4.5.107->torch==2.1.0->torchtext) (12.2.140)\n",
      "Requirement already satisfied: certifi>=2017.4.17 in /usr/lib/python3/dist-packages (from requests->torchtext) (2019.11.28)\n",
      "Requirement already satisfied: idna<4,>=2.5 in /usr/lib/python3/dist-packages (from requests->torchtext) (2.8)\n",
      "Requirement already satisfied: charset-normalizer<4,>=2 in /usr/local/lib/python3.9/dist-packages (from requests->torchtext) (2.1.1)\n",
      "Requirement already satisfied: MarkupSafe>=2.0 in /usr/local/lib/python3.9/dist-packages (from jinja2->torch==2.1.0->torchtext) (2.1.2)\n",
      "Requirement already satisfied: mpmath>=0.19 in /usr/local/lib/python3.9/dist-packages (from sympy->torch==2.1.0->torchtext) (1.3.0)\n",
      "\u001b[33mWARNING: Running pip as the 'root' user can result in broken permissions and conflicting behaviour with the system package manager. It is recommended to use a virtual environment instead: https://pip.pypa.io/warnings/venv\u001b[0m\u001b[33m\n",
      "\u001b[0m"
     ]
    }
   ],
   "source": [
    "!pip install torchtext"
   ]
  },
  {
   "cell_type": "code",
   "execution_count": 3,
   "id": "e44e86ca-4ca7-4594-9ce7-3dc4c457cf1c",
   "metadata": {},
   "outputs": [],
   "source": [
    "df = pd.read_csv('data/interim/preprocessed_paranmt.tsv', sep='\\t', index_col=0)"
   ]
  },
  {
   "cell_type": "code",
   "execution_count": 4,
   "id": "7abeadd3-8c26-4b70-987b-be5e16ebdf6d",
   "metadata": {},
   "outputs": [
    {
     "data": {
      "text/html": [
       "<div>\n",
       "<style scoped>\n",
       "    .dataframe tbody tr th:only-of-type {\n",
       "        vertical-align: middle;\n",
       "    }\n",
       "\n",
       "    .dataframe tbody tr th {\n",
       "        vertical-align: top;\n",
       "    }\n",
       "\n",
       "    .dataframe thead th {\n",
       "        text-align: right;\n",
       "    }\n",
       "</style>\n",
       "<table border=\"1\" class=\"dataframe\">\n",
       "  <thead>\n",
       "    <tr style=\"text-align: right;\">\n",
       "      <th></th>\n",
       "      <th>similarity</th>\n",
       "      <th>lenght_diff</th>\n",
       "      <th>toxic_sent</th>\n",
       "      <th>neutral_sent</th>\n",
       "      <th>toxic_val</th>\n",
       "      <th>neutral_val</th>\n",
       "    </tr>\n",
       "  </thead>\n",
       "  <tbody>\n",
       "    <tr>\n",
       "      <th>0</th>\n",
       "      <td>0.785171</td>\n",
       "      <td>0.010309</td>\n",
       "      <td>if alkar floods her with her mental waste , it...</td>\n",
       "      <td>if alkar is flooding her with psychic waste , ...</td>\n",
       "      <td>0.981983</td>\n",
       "      <td>0.014195</td>\n",
       "    </tr>\n",
       "    <tr>\n",
       "      <th>1</th>\n",
       "      <td>0.749687</td>\n",
       "      <td>0.071429</td>\n",
       "      <td>you 're becoming disgusting .</td>\n",
       "      <td>now you 're getting nasty .</td>\n",
       "      <td>0.999039</td>\n",
       "      <td>0.065473</td>\n",
       "    </tr>\n",
       "    <tr>\n",
       "      <th>2</th>\n",
       "      <td>0.919051</td>\n",
       "      <td>0.268293</td>\n",
       "      <td>well , we can spare your life .</td>\n",
       "      <td>well , we could spare your life , for one .</td>\n",
       "      <td>0.985068</td>\n",
       "      <td>0.213313</td>\n",
       "    </tr>\n",
       "    <tr>\n",
       "      <th>3</th>\n",
       "      <td>0.664333</td>\n",
       "      <td>0.309524</td>\n",
       "      <td>monkey , you have to wake up .</td>\n",
       "      <td>ah ! monkey , you 've got to snap out of it .</td>\n",
       "      <td>0.994215</td>\n",
       "      <td>0.053362</td>\n",
       "    </tr>\n",
       "    <tr>\n",
       "      <th>4</th>\n",
       "      <td>0.726639</td>\n",
       "      <td>0.181818</td>\n",
       "      <td>i have orders to kill her .</td>\n",
       "      <td>i 've got orders to put her down .</td>\n",
       "      <td>0.999348</td>\n",
       "      <td>0.009402</td>\n",
       "    </tr>\n",
       "    <tr>\n",
       "      <th>...</th>\n",
       "      <td>...</td>\n",
       "      <td>...</td>\n",
       "      <td>...</td>\n",
       "      <td>...</td>\n",
       "      <td>...</td>\n",
       "      <td>...</td>\n",
       "    </tr>\n",
       "    <tr>\n",
       "      <th>577772</th>\n",
       "      <td>0.870322</td>\n",
       "      <td>0.030769</td>\n",
       "      <td>you did n't know that estelle stole your fish ...</td>\n",
       "      <td>you did n't know that estelle had stolen some ...</td>\n",
       "      <td>0.949143</td>\n",
       "      <td>0.000121</td>\n",
       "    </tr>\n",
       "    <tr>\n",
       "      <th>577773</th>\n",
       "      <td>0.722897</td>\n",
       "      <td>0.058824</td>\n",
       "      <td>it'il suck the life out of you !</td>\n",
       "      <td>you 'd be sucked out of your life !</td>\n",
       "      <td>0.996124</td>\n",
       "      <td>0.215794</td>\n",
       "    </tr>\n",
       "    <tr>\n",
       "      <th>577774</th>\n",
       "      <td>0.617511</td>\n",
       "      <td>0.212121</td>\n",
       "      <td>i ca n't fuckin ' take that , bruv .</td>\n",
       "      <td>i really ca n't take this .</td>\n",
       "      <td>0.984538</td>\n",
       "      <td>0.000049</td>\n",
       "    </tr>\n",
       "    <tr>\n",
       "      <th>577775</th>\n",
       "      <td>0.679613</td>\n",
       "      <td>0.358209</td>\n",
       "      <td>they called me a fucking hero . the truth is i...</td>\n",
       "      <td>they said i was a hero , but i did n't care .</td>\n",
       "      <td>0.991945</td>\n",
       "      <td>0.000124</td>\n",
       "    </tr>\n",
       "    <tr>\n",
       "      <th>577776</th>\n",
       "      <td>0.868475</td>\n",
       "      <td>0.095238</td>\n",
       "      <td>i did n't fuck him .</td>\n",
       "      <td>i did not screw him .</td>\n",
       "      <td>0.994174</td>\n",
       "      <td>0.009480</td>\n",
       "    </tr>\n",
       "  </tbody>\n",
       "</table>\n",
       "<p>577777 rows × 6 columns</p>\n",
       "</div>"
      ],
      "text/plain": [
       "        similarity  lenght_diff  \\\n",
       "0         0.785171     0.010309   \n",
       "1         0.749687     0.071429   \n",
       "2         0.919051     0.268293   \n",
       "3         0.664333     0.309524   \n",
       "4         0.726639     0.181818   \n",
       "...            ...          ...   \n",
       "577772    0.870322     0.030769   \n",
       "577773    0.722897     0.058824   \n",
       "577774    0.617511     0.212121   \n",
       "577775    0.679613     0.358209   \n",
       "577776    0.868475     0.095238   \n",
       "\n",
       "                                               toxic_sent  \\\n",
       "0       if alkar floods her with her mental waste , it...   \n",
       "1                           you 're becoming disgusting .   \n",
       "2                         well , we can spare your life .   \n",
       "3                          monkey , you have to wake up .   \n",
       "4                             i have orders to kill her .   \n",
       "...                                                   ...   \n",
       "577772  you did n't know that estelle stole your fish ...   \n",
       "577773                   it'il suck the life out of you !   \n",
       "577774               i ca n't fuckin ' take that , bruv .   \n",
       "577775  they called me a fucking hero . the truth is i...   \n",
       "577776                               i did n't fuck him .   \n",
       "\n",
       "                                             neutral_sent  toxic_val  \\\n",
       "0       if alkar is flooding her with psychic waste , ...   0.981983   \n",
       "1                             now you 're getting nasty .   0.999039   \n",
       "2             well , we could spare your life , for one .   0.985068   \n",
       "3           ah ! monkey , you 've got to snap out of it .   0.994215   \n",
       "4                      i 've got orders to put her down .   0.999348   \n",
       "...                                                   ...        ...   \n",
       "577772  you did n't know that estelle had stolen some ...   0.949143   \n",
       "577773                you 'd be sucked out of your life !   0.996124   \n",
       "577774                        i really ca n't take this .   0.984538   \n",
       "577775      they said i was a hero , but i did n't care .   0.991945   \n",
       "577776                              i did not screw him .   0.994174   \n",
       "\n",
       "        neutral_val  \n",
       "0          0.014195  \n",
       "1          0.065473  \n",
       "2          0.213313  \n",
       "3          0.053362  \n",
       "4          0.009402  \n",
       "...             ...  \n",
       "577772     0.000121  \n",
       "577773     0.215794  \n",
       "577774     0.000049  \n",
       "577775     0.000124  \n",
       "577776     0.009480  \n",
       "\n",
       "[577777 rows x 6 columns]"
      ]
     },
     "execution_count": 4,
     "metadata": {},
     "output_type": "execute_result"
    }
   ],
   "source": [
    "df"
   ]
  },
  {
   "cell_type": "code",
   "execution_count": 5,
   "id": "7007694b-0541-431d-8ac5-0170e92bec9b",
   "metadata": {},
   "outputs": [],
   "source": [
    "# let's convert columns toxic_sent and neutral_sent as a list\n",
    "df.loc[:, 'toxic_sent'] = df['toxic_sent'].apply(lambda x: x.split(' '))\n",
    "df.loc[:, 'neutral_sent'] = df['neutral_sent'].apply(lambda x: x.split(' '))"
   ]
  },
  {
   "cell_type": "code",
   "execution_count": 6,
   "id": "017bc099-f6a5-4a2a-8e8c-0e73dd2a6ef8",
   "metadata": {},
   "outputs": [
    {
     "data": {
      "text/html": [
       "<div>\n",
       "<style scoped>\n",
       "    .dataframe tbody tr th:only-of-type {\n",
       "        vertical-align: middle;\n",
       "    }\n",
       "\n",
       "    .dataframe tbody tr th {\n",
       "        vertical-align: top;\n",
       "    }\n",
       "\n",
       "    .dataframe thead th {\n",
       "        text-align: right;\n",
       "    }\n",
       "</style>\n",
       "<table border=\"1\" class=\"dataframe\">\n",
       "  <thead>\n",
       "    <tr style=\"text-align: right;\">\n",
       "      <th></th>\n",
       "      <th>similarity</th>\n",
       "      <th>lenght_diff</th>\n",
       "      <th>toxic_sent</th>\n",
       "      <th>neutral_sent</th>\n",
       "      <th>toxic_val</th>\n",
       "      <th>neutral_val</th>\n",
       "    </tr>\n",
       "  </thead>\n",
       "  <tbody>\n",
       "    <tr>\n",
       "      <th>0</th>\n",
       "      <td>0.785171</td>\n",
       "      <td>0.010309</td>\n",
       "      <td>[if, alkar, floods, her, with, her, mental, wa...</td>\n",
       "      <td>[if, alkar, is, flooding, her, with, psychic, ...</td>\n",
       "      <td>0.981983</td>\n",
       "      <td>0.014195</td>\n",
       "    </tr>\n",
       "    <tr>\n",
       "      <th>1</th>\n",
       "      <td>0.749687</td>\n",
       "      <td>0.071429</td>\n",
       "      <td>[you, 're, becoming, disgusting, .]</td>\n",
       "      <td>[now, you, 're, getting, nasty, .]</td>\n",
       "      <td>0.999039</td>\n",
       "      <td>0.065473</td>\n",
       "    </tr>\n",
       "    <tr>\n",
       "      <th>2</th>\n",
       "      <td>0.919051</td>\n",
       "      <td>0.268293</td>\n",
       "      <td>[well, ,, we, can, spare, your, life, .]</td>\n",
       "      <td>[well, ,, we, could, spare, your, life, ,, for...</td>\n",
       "      <td>0.985068</td>\n",
       "      <td>0.213313</td>\n",
       "    </tr>\n",
       "    <tr>\n",
       "      <th>3</th>\n",
       "      <td>0.664333</td>\n",
       "      <td>0.309524</td>\n",
       "      <td>[monkey, ,, you, have, to, wake, up, .]</td>\n",
       "      <td>[ah, !, monkey, ,, you, 've, got, to, snap, ou...</td>\n",
       "      <td>0.994215</td>\n",
       "      <td>0.053362</td>\n",
       "    </tr>\n",
       "    <tr>\n",
       "      <th>4</th>\n",
       "      <td>0.726639</td>\n",
       "      <td>0.181818</td>\n",
       "      <td>[i, have, orders, to, kill, her, .]</td>\n",
       "      <td>[i, 've, got, orders, to, put, her, down, .]</td>\n",
       "      <td>0.999348</td>\n",
       "      <td>0.009402</td>\n",
       "    </tr>\n",
       "  </tbody>\n",
       "</table>\n",
       "</div>"
      ],
      "text/plain": [
       "   similarity  lenght_diff                                         toxic_sent  \\\n",
       "0    0.785171     0.010309  [if, alkar, floods, her, with, her, mental, wa...   \n",
       "1    0.749687     0.071429                [you, 're, becoming, disgusting, .]   \n",
       "2    0.919051     0.268293           [well, ,, we, can, spare, your, life, .]   \n",
       "3    0.664333     0.309524            [monkey, ,, you, have, to, wake, up, .]   \n",
       "4    0.726639     0.181818                [i, have, orders, to, kill, her, .]   \n",
       "\n",
       "                                        neutral_sent  toxic_val  neutral_val  \n",
       "0  [if, alkar, is, flooding, her, with, psychic, ...   0.981983     0.014195  \n",
       "1                 [now, you, 're, getting, nasty, .]   0.999039     0.065473  \n",
       "2  [well, ,, we, could, spare, your, life, ,, for...   0.985068     0.213313  \n",
       "3  [ah, !, monkey, ,, you, 've, got, to, snap, ou...   0.994215     0.053362  \n",
       "4       [i, 've, got, orders, to, put, her, down, .]   0.999348     0.009402  "
      ]
     },
     "execution_count": 6,
     "metadata": {},
     "output_type": "execute_result"
    }
   ],
   "source": [
    "df.head()"
   ]
  },
  {
   "cell_type": "code",
   "execution_count": 7,
   "id": "eaa635b6-6b0a-40ec-ac1a-e10bd5ccab08",
   "metadata": {},
   "outputs": [],
   "source": [
    "df = df[:100_000] # let's reduce the size of df for sake of speed"
   ]
  },
  {
   "cell_type": "markdown",
   "id": "1dd8b060-2108-4d18-865c-f9de2ae7969c",
   "metadata": {},
   "source": [
    "## Build the Dataloaders"
   ]
  },
  {
   "cell_type": "code",
   "execution_count": 8,
   "id": "7f82c34f-8f03-45ae-8eae-02dd2759bf24",
   "metadata": {},
   "outputs": [],
   "source": [
    "batch_size = 16"
   ]
  },
  {
   "cell_type": "code",
   "execution_count": 9,
   "id": "cad94d9c-7a1f-4ddb-b4a9-1647ab9951bb",
   "metadata": {},
   "outputs": [],
   "source": [
    "# split into train and val\n",
    "from sklearn.model_selection import train_test_split\n",
    "\n",
    "train_idx, val_idx = train_test_split(range(len(df)), train_size=0.8, random_state=42)"
   ]
  },
  {
   "cell_type": "markdown",
   "id": "aaa20304-6d4f-457e-bb38-518308c38543",
   "metadata": {},
   "source": [
    "## Let's build the vocab"
   ]
  },
  {
   "cell_type": "code",
   "execution_count": 10,
   "id": "78dc9b96-f7f9-4d7d-8207-91a0d02b4ea4",
   "metadata": {},
   "outputs": [],
   "source": [
    "MAX_TOKENS = 20_000 # TODO: change this\n",
    "MAX_SENT_SIZE = 128"
   ]
  },
  {
   "cell_type": "code",
   "execution_count": 11,
   "id": "b6286294-8b5e-4616-88c6-1bcd4b62e55c",
   "metadata": {},
   "outputs": [],
   "source": [
    "from torchtext.vocab import build_vocab_from_iterator\n",
    "\n",
    "def yield_tokens(df):\n",
    "    for i in df.index:\n",
    "        toxic_sent = df['toxic_sent'][i]\n",
    "        yield toxic_sent\n",
    "        \n",
    "        neutral_sent = df['neutral_sent'][i]\n",
    "        yield list(neutral_sent)\n",
    "\n",
    "\n",
    "UNK_IDX = 0\n",
    "vocab = build_vocab_from_iterator(\n",
    "    yield_tokens(df.loc[train_idx]), # to avoid data leakage\n",
    "    min_freq=2,\n",
    "    specials=['<unk>', '<pad>', '<sos>', '<eos>'],\n",
    "    max_tokens=MAX_TOKENS,\n",
    ")\n",
    "vocab.set_default_index(UNK_IDX)"
   ]
  },
  {
   "cell_type": "code",
   "execution_count": 12,
   "id": "b2e82fb8-2085-4127-9c79-7780467059ad",
   "metadata": {},
   "outputs": [
    {
     "data": {
      "text/plain": [
       "20000"
      ]
     },
     "execution_count": 12,
     "metadata": {},
     "output_type": "execute_result"
    }
   ],
   "source": [
    "len(vocab)"
   ]
  },
  {
   "cell_type": "code",
   "execution_count": 13,
   "id": "c7d5e2e4-dce6-470f-9f5d-06a09c798d78",
   "metadata": {},
   "outputs": [],
   "source": [
    "def collate_batch(batch):\n",
    "    toxic_sent, neutral_sent = [], []\n",
    "    toxic_val, neutral_val = [], []\n",
    "    similarity, len_diff = [], []\n",
    "    for b in batch:\n",
    "        _similarity, _len_diff, _toxic_sent, _neutral_sent, _toxic_val, _neutral_val = b\n",
    "        similarity.append(_similarity)\n",
    "        len_diff.append(_len_diff)\n",
    "        toxic_val.append(_toxic_val)\n",
    "        neutral_val.append(_neutral_val)\n",
    "        \n",
    "        # add <sos> and <eos> to _toxic_sent and _neutral_sent\n",
    "        _toxic_sent = ['<sos>'] + _toxic_sent[:MAX_SENT_SIZE-2] + ['<eos>']\n",
    "        _neutral_sent = ['<sos>'] + _neutral_sent[:MAX_SENT_SIZE-2] + ['<eos>']\n",
    "        \n",
    "        _toxic_sent = vocab.lookup_indices(_toxic_sent)\n",
    "        while len(_toxic_sent) < MAX_SENT_SIZE:\n",
    "            _toxic_sent.append(vocab['<pad>'])\n",
    "        \n",
    "        _neutral_sent = vocab.lookup_indices(_neutral_sent)\n",
    "        while len(_neutral_sent) < MAX_SENT_SIZE:\n",
    "            _neutral_sent.append(vocab['<pad>'])\n",
    "        \n",
    "        toxic_sent.append(torch.tensor(_toxic_sent).reshape(MAX_SENT_SIZE, 1))\n",
    "        neutral_sent.append(torch.tensor(_neutral_sent).reshape(MAX_SENT_SIZE, 1))\n",
    "        \n",
    "    toxic_sent = torch.cat(toxic_sent, dim=1)\n",
    "    neutral_sent = torch.cat(neutral_sent, dim=1)\n",
    "    similarity = torch.tensor(similarity)\n",
    "    len_diff = torch.tensor(len_diff)\n",
    "    toxic_val = torch.tensor(toxic_val)\n",
    "    neutral_val = torch.tensor(neutral_val)\n",
    "    return similarity, len_diff, toxic_sent, neutral_sent, toxic_val, neutral_val\n",
    "\n",
    "train_dataloader = DataLoader(\n",
    "    df.loc[train_idx].to_numpy(),\n",
    "    batch_size=batch_size,\n",
    "    shuffle=True,\n",
    "    num_workers=2,\n",
    "    collate_fn=collate_batch,\n",
    ")\n",
    "\n",
    "val_dataloader = DataLoader(\n",
    "    df.loc[val_idx].to_numpy(),\n",
    "    batch_size=batch_size,\n",
    "    shuffle=False,\n",
    "    num_workers=2,\n",
    "    collate_fn=collate_batch,\n",
    ")"
   ]
  },
  {
   "cell_type": "code",
   "execution_count": 14,
   "id": "7953a61f-64c0-49a3-9fda-f64e80861fa0",
   "metadata": {},
   "outputs": [
    {
     "name": "stdout",
     "output_type": "stream",
     "text": [
      "similarity.shape: torch.Size([16])\n",
      "len_diff.shape: torch.Size([16])\n",
      "toxic_sent.shape: torch.Size([128, 16])\n",
      "neutral_sent.shape: torch.Size([128, 16])\n",
      "toxic_val.shape: torch.Size([16])\n",
      "neutral_val.shape: torch.Size([16])\n"
     ]
    }
   ],
   "source": [
    "# let's check if shape and everything is ok\n",
    "for batch in train_dataloader:\n",
    "    similarity, len_diff, toxic_sent, neutral_sent, toxic_val, neutral_val = batch\n",
    "    print(\"similarity.shape:\", similarity.shape)\n",
    "    print(\"len_diff.shape:\", len_diff.shape)\n",
    "    print(\"toxic_sent.shape:\", toxic_sent.shape)\n",
    "    print(\"neutral_sent.shape:\", neutral_sent.shape)\n",
    "    print(\"toxic_val.shape:\", toxic_val.shape)\n",
    "    print(\"neutral_val.shape:\", neutral_val.shape)\n",
    "    break"
   ]
  },
  {
   "cell_type": "code",
   "execution_count": 15,
   "id": "0e7a487e-8461-4c4a-8aff-632a2bf8d8d7",
   "metadata": {},
   "outputs": [],
   "source": [
    "device = torch.device('cuda' if torch.cuda.is_available() else 'cpu')"
   ]
  },
  {
   "cell_type": "markdown",
   "id": "fc46dfbe-d834-48e7-ad09-c49c2a676386",
   "metadata": {},
   "source": [
    "# Load the Model\n",
    "\n",
    "- Simple EncoderDecoder (Seq2Seq) architerture"
   ]
  },
  {
   "cell_type": "code",
   "execution_count": 16,
   "id": "08d88aaa-7e97-411f-9164-4bdbfae09a6a",
   "metadata": {},
   "outputs": [],
   "source": [
    "from src.models.models.encoder import Encoder\n",
    "from src.models.models.decoder import Decoder\n",
    "from src.models.models import Seq2Seq"
   ]
  },
  {
   "cell_type": "code",
   "execution_count": 23,
   "id": "451a159a-dae5-487c-be50-c87b7407add1",
   "metadata": {},
   "outputs": [],
   "source": [
    "INPUT_DIM = len(vocab)\n",
    "OUTPUT_DIM = len(vocab)\n",
    "EMBED_DIM = 128\n",
    "NUM_HIDDEN = 256\n",
    "N_LAYERS = 2\n",
    "DROPOUT = 0.5\n",
    "PADDING_IDX = vocab['<pad>']"
   ]
  },
  {
   "cell_type": "code",
   "execution_count": 24,
   "id": "5b48dfdf-ba48-477c-ac62-2c512a69d86f",
   "metadata": {},
   "outputs": [],
   "source": [
    "# load the encoder and decoder for our model\n",
    "encoder = Encoder(\n",
    "    input_dim=INPUT_DIM,\n",
    "    embed_dim=EMBED_DIM,\n",
    "    hidden_dim=NUM_HIDDEN,\n",
    "    num_layers=N_LAYERS,\n",
    "    dropout=DROPOUT,\n",
    "    padding_idx=PADDING_IDX\n",
    ").to(device)\n",
    "\n",
    "decoder = Decoder(\n",
    "    output_dim=OUTPUT_DIM,\n",
    "    embed_dim=EMBED_DIM,\n",
    "    hidden_dim=NUM_HIDDEN,\n",
    "    num_layers=N_LAYERS,\n",
    "    dropout=DROPOUT,\n",
    "    padding_idx=PADDING_IDX\n",
    ").to(device)"
   ]
  },
  {
   "cell_type": "code",
   "execution_count": 25,
   "id": "fb68fa7c-f8ee-4667-9b20-a638de4fe311",
   "metadata": {},
   "outputs": [],
   "source": [
    "best_loss = float('inf')\n",
    "\n",
    "model = Seq2Seq(\n",
    "    encoder=encoder,\n",
    "    decoder=decoder,\n",
    "    device=device,\n",
    ").to(device)"
   ]
  },
  {
   "cell_type": "code",
   "execution_count": 26,
   "id": "088f446e-d95e-4812-949d-a3a5eb20ab6c",
   "metadata": {},
   "outputs": [],
   "source": [
    "optimizer = Adam(model.parameters(), lr=3e-4)\n",
    "criterion = nn.CrossEntropyLoss(ignore_index=vocab['<pad>'])"
   ]
  },
  {
   "cell_type": "code",
   "execution_count": 28,
   "id": "ae355174-b99f-403c-b926-def9bd694c4b",
   "metadata": {},
   "outputs": [
    {
     "name": "stderr",
     "output_type": "stream",
     "text": [
      "Training 1: 100%|██████████| 5000/5000 [23:39<00:00,  3.52it/s, loss=4.94]\n",
      "Evaluating 1:   0%|          | 0/1250 [00:00<?, ?it/s]\n"
     ]
    },
    {
     "ename": "NameError",
     "evalue": "name 'neutral' is not defined",
     "output_type": "error",
     "traceback": [
      "\u001b[0;31m---------------------------------------------------------------------------\u001b[0m",
      "\u001b[0;31mNameError\u001b[0m                                 Traceback (most recent call last)",
      "Cell \u001b[0;32mIn [28], line 3\u001b[0m\n\u001b[1;32m      1\u001b[0m \u001b[38;5;28;01mfrom\u001b[39;00m \u001b[38;5;21;01msrc\u001b[39;00m\u001b[38;5;21;01m.\u001b[39;00m\u001b[38;5;21;01mmodels\u001b[39;00m\u001b[38;5;21;01m.\u001b[39;00m\u001b[38;5;21;01mtrain_model\u001b[39;00m \u001b[38;5;28;01mimport\u001b[39;00m train\n\u001b[0;32m----> 3\u001b[0m best_loss \u001b[38;5;241m=\u001b[39m \u001b[43mtrain\u001b[49m\u001b[43m(\u001b[49m\n\u001b[1;32m      4\u001b[0m \u001b[43m    \u001b[49m\u001b[43mmodel\u001b[49m\u001b[38;5;241;43m=\u001b[39;49m\u001b[43mmodel\u001b[49m\u001b[43m,\u001b[49m\n\u001b[1;32m      5\u001b[0m \u001b[43m    \u001b[49m\u001b[43mloaders\u001b[49m\u001b[38;5;241;43m=\u001b[39;49m\u001b[43m(\u001b[49m\u001b[43mtrain_dataloader\u001b[49m\u001b[43m,\u001b[49m\u001b[43m \u001b[49m\u001b[43mval_dataloader\u001b[49m\u001b[43m)\u001b[49m\u001b[43m,\u001b[49m\n\u001b[1;32m      6\u001b[0m \u001b[43m    \u001b[49m\u001b[43moptimizer\u001b[49m\u001b[38;5;241;43m=\u001b[39;49m\u001b[43moptimizer\u001b[49m\u001b[43m,\u001b[49m\n\u001b[1;32m      7\u001b[0m \u001b[43m    \u001b[49m\u001b[43mcriterion\u001b[49m\u001b[38;5;241;43m=\u001b[39;49m\u001b[43mcriterion\u001b[49m\u001b[43m,\u001b[49m\n\u001b[1;32m      8\u001b[0m \u001b[43m    \u001b[49m\u001b[43mepochs\u001b[49m\u001b[38;5;241;43m=\u001b[39;49m\u001b[38;5;241;43m3\u001b[39;49m\u001b[43m,\u001b[49m\n\u001b[1;32m      9\u001b[0m \u001b[43m    \u001b[49m\u001b[43mdevice\u001b[49m\u001b[38;5;241;43m=\u001b[39;49m\u001b[43mdevice\u001b[49m\u001b[43m,\u001b[49m\n\u001b[1;32m     10\u001b[0m \u001b[43m    \u001b[49m\u001b[43mbest_loss\u001b[49m\u001b[38;5;241;43m=\u001b[39;49m\u001b[43mbest_loss\u001b[49m\u001b[43m,\u001b[49m\n\u001b[1;32m     11\u001b[0m \u001b[43m)\u001b[49m\n",
      "File \u001b[0;32m/notebooks/Text_De-toxification/src/models/train_model.py:157\u001b[0m, in \u001b[0;36mtrain\u001b[0;34m(model, loaders, optimizer, criterion, epochs, device, clip_grad, teacher_force, ckpt_path, best_loss, cur_epoch, return_model)\u001b[0m\n\u001b[1;32m    155\u001b[0m train_loss \u001b[38;5;241m=\u001b[39m train_epoch(model, loaders[\u001b[38;5;241m0\u001b[39m], optimizer, criterion, epoch, clip_grad, device, teacher_force)\n\u001b[1;32m    156\u001b[0m \u001b[38;5;28;01mif\u001b[39;00m \u001b[38;5;28mlen\u001b[39m(loaders) \u001b[38;5;241m>\u001b[39m \u001b[38;5;241m1\u001b[39m:\n\u001b[0;32m--> 157\u001b[0m     val_loss \u001b[38;5;241m=\u001b[39m \u001b[43meval_epoch\u001b[49m\u001b[43m(\u001b[49m\u001b[43mmodel\u001b[49m\u001b[43m,\u001b[49m\u001b[43m \u001b[49m\u001b[43mloaders\u001b[49m\u001b[43m[\u001b[49m\u001b[38;5;241;43m1\u001b[39;49m\u001b[43m]\u001b[49m\u001b[43m,\u001b[49m\u001b[43m \u001b[49m\u001b[43mcriterion\u001b[49m\u001b[43m,\u001b[49m\u001b[43m \u001b[49m\u001b[43mepoch\u001b[49m\u001b[43m,\u001b[49m\u001b[43m \u001b[49m\u001b[43mdevice\u001b[49m\u001b[43m)\u001b[49m\n\u001b[1;32m    158\u001b[0m \u001b[38;5;28;01melse\u001b[39;00m:\n\u001b[1;32m    159\u001b[0m     val_loss \u001b[38;5;241m=\u001b[39m train_loss\n",
      "File \u001b[0;32m/notebooks/Text_De-toxification/src/models/train_model.py:71\u001b[0m, in \u001b[0;36meval_epoch\u001b[0;34m(model, eval_dataloader, criterion, epoch, device)\u001b[0m\n\u001b[1;32m     62\u001b[0m \u001b[38;5;66;03m# toxic_sent.shape: [num_steps, batch_size]\u001b[39;00m\n\u001b[1;32m     63\u001b[0m \u001b[38;5;66;03m# neutral_sent.shape: [num_steps, batch_size]\u001b[39;00m\n\u001b[1;32m     64\u001b[0m \u001b[38;5;66;03m# preds.shape: [num_steps, batch_size, output_dim]\u001b[39;00m\n\u001b[0;32m   (...)\u001b[0m\n\u001b[1;32m     68\u001b[0m \u001b[38;5;66;03m#     - neutral.shape: [num_steps * batch_size]\u001b[39;00m\n\u001b[1;32m     69\u001b[0m \u001b[38;5;66;03m#     - preds.shape: [num_steps * batch_size, output_dim]\u001b[39;00m\n\u001b[1;32m     70\u001b[0m output_dim \u001b[38;5;241m=\u001b[39m preds\u001b[38;5;241m.\u001b[39mshape[\u001b[38;5;241m2\u001b[39m]\n\u001b[0;32m---> 71\u001b[0m loss \u001b[38;5;241m=\u001b[39m criterion(preds[\u001b[38;5;241m1\u001b[39m:]\u001b[38;5;241m.\u001b[39mview(\u001b[38;5;241m-\u001b[39m\u001b[38;5;241m1\u001b[39m, output_dim), \u001b[43mneutral\u001b[49m[:\u001b[38;5;241m1\u001b[39m]\u001b[38;5;241m.\u001b[39mview(\u001b[38;5;241m-\u001b[39m\u001b[38;5;241m1\u001b[39m))\n\u001b[1;32m     73\u001b[0m eval_loss \u001b[38;5;241m+\u001b[39m\u001b[38;5;241m=\u001b[39m loss\u001b[38;5;241m.\u001b[39mitem()\n\u001b[1;32m     74\u001b[0m loop\u001b[38;5;241m.\u001b[39mset_postfix(\u001b[38;5;241m*\u001b[39m\u001b[38;5;241m*\u001b[39m{\u001b[38;5;124m\"\u001b[39m\u001b[38;5;124mloss\u001b[39m\u001b[38;5;124m\"\u001b[39m: eval_loss \u001b[38;5;241m/\u001b[39m (i \u001b[38;5;241m+\u001b[39m \u001b[38;5;241m1\u001b[39m)})\n",
      "\u001b[0;31mNameError\u001b[0m: name 'neutral' is not defined"
     ]
    }
   ],
   "source": [
    "from src.models.train_model import train\n",
    "\n",
    "best_loss = train(\n",
    "    model=model,\n",
    "    loaders=(train_dataloader, val_dataloader),\n",
    "    optimizer=optimizer,\n",
    "    criterion=criterion,\n",
    "    epochs=3,\n",
    "    device=device,\n",
    "    best_loss=best_loss,\n",
    ")"
   ]
  }
 ],
 "metadata": {
  "kernelspec": {
   "display_name": "Python 3 (ipykernel)",
   "language": "python",
   "name": "python3"
  },
  "language_info": {
   "codemirror_mode": {
    "name": "ipython",
    "version": 3
   },
   "file_extension": ".py",
   "mimetype": "text/x-python",
   "name": "python",
   "nbconvert_exporter": "python",
   "pygments_lexer": "ipython3",
   "version": "3.9.16"
  }
 },
 "nbformat": 4,
 "nbformat_minor": 5
}
