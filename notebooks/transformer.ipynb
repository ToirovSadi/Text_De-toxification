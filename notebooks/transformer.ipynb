{
 "cells": [
  {
   "cell_type": "code",
   "execution_count": 1,
   "id": "ad2118f3-61a9-4655-bde9-b26e97cc7155",
   "metadata": {},
   "outputs": [],
   "source": [
    "LOAD_MODEL = 'models/transformer.01.pt'\n",
    "MODEL_CHECKPOINT = 'models/transformer.01.pt'\n",
    "DATASET_PATH = 'data/interim/preprocessed_paranmt.tsv'"
   ]
  },
  {
   "cell_type": "code",
   "execution_count": 2,
   "id": "40068414-5b9f-4586-bcdb-470c3efb7c20",
   "metadata": {},
   "outputs": [],
   "source": [
    "import numpy as np\n",
    "\n",
    "from torch.utils.data import DataLoader\n",
    "import torch\n",
    "import torch.nn as nn\n",
    "from torch.optim import Adam\n",
    "\n",
    "import os\n",
    "os.chdir(\"..\") # go to the root dir"
   ]
  },
  {
   "cell_type": "markdown",
   "id": "1dd8b060-2108-4d18-865c-f9de2ae7969c",
   "metadata": {},
   "source": [
    "## Get the Dataset"
   ]
  },
  {
   "cell_type": "code",
   "execution_count": 3,
   "id": "c079f37c-1954-4a89-b159-84b750279697",
   "metadata": {},
   "outputs": [],
   "source": [
    "MAX_SENT_SIZE = 10\n",
    "MAX_TOKENS = 8_000"
   ]
  },
  {
   "cell_type": "code",
   "execution_count": 4,
   "id": "d26e343f-e42b-442e-9bb4-0a0d96bbf4cb",
   "metadata": {},
   "outputs": [],
   "source": [
    "from src.data.make_dataset import ParanmtDataset\n",
    "\n",
    "train_dataset = ParanmtDataset(\n",
    "    path=DATASET_PATH,\n",
    "    max_sent_size=MAX_SENT_SIZE,\n",
    "    train=True,\n",
    "    seed=42,\n",
    ")"
   ]
  },
  {
   "cell_type": "code",
   "execution_count": 5,
   "id": "3545056a-cc41-46b1-8246-1b7516cb8d87",
   "metadata": {},
   "outputs": [],
   "source": [
    "train_dataset.build_vocab(\n",
    "    min_freq=2,\n",
    "    specials=['<unk>', '<pad>', '<sos>', '<eos>'],\n",
    "    max_tokens=MAX_TOKENS,\n",
    ")"
   ]
  },
  {
   "cell_type": "code",
   "execution_count": 6,
   "id": "67722bfa-d4d6-499a-9862-d7e9ca0ad165",
   "metadata": {},
   "outputs": [],
   "source": [
    "enc_vocab = train_dataset.toxic_vocab\n",
    "dec_vocab = train_dataset.neutral_vocab"
   ]
  },
  {
   "cell_type": "code",
   "execution_count": 7,
   "id": "b1e4b03a-911c-4999-8372-2e2cdfda5911",
   "metadata": {},
   "outputs": [
    {
     "name": "stdout",
     "output_type": "stream",
     "text": [
      "size of encoder vocab: 8000\n",
      "size of decoder vocab: 8000\n"
     ]
    }
   ],
   "source": [
    "print(\"size of encoder vocab:\", len(enc_vocab))\n",
    "print(\"size of decoder vocab:\", len(dec_vocab))"
   ]
  },
  {
   "cell_type": "code",
   "execution_count": 8,
   "id": "40e15519-eb8f-4164-82a4-6fe43237e8dd",
   "metadata": {},
   "outputs": [],
   "source": [
    "val_dataset = ParanmtDataset(\n",
    "    path=DATASET_PATH,\n",
    "    max_sent_size=MAX_SENT_SIZE,\n",
    "    vocabs=(enc_vocab, dec_vocab), # avoid data leakage\n",
    "    train=False,\n",
    "    seed=42,\n",
    "    take_first=10_000,\n",
    ")"
   ]
  },
  {
   "cell_type": "code",
   "execution_count": 9,
   "id": "29e54778-c844-4370-9329-93a26270d0fb",
   "metadata": {},
   "outputs": [
    {
     "data": {
      "text/plain": [
       "(157740, 10000)"
      ]
     },
     "execution_count": 9,
     "metadata": {},
     "output_type": "execute_result"
    }
   ],
   "source": [
    "len(train_dataset), len(val_dataset)"
   ]
  },
  {
   "cell_type": "markdown",
   "id": "aaa20304-6d4f-457e-bb38-518308c38543",
   "metadata": {},
   "source": [
    "## Let's create Dataloader"
   ]
  },
  {
   "cell_type": "code",
   "execution_count": 10,
   "id": "ec52e669-ab26-42a5-a192-e0b7d46cb82b",
   "metadata": {},
   "outputs": [],
   "source": [
    "batch_size = 128"
   ]
  },
  {
   "cell_type": "code",
   "execution_count": 11,
   "id": "52e6306f-5a09-4ae1-a202-208fea6562bd",
   "metadata": {},
   "outputs": [],
   "source": [
    "train_dataloader = DataLoader(\n",
    "    train_dataset,\n",
    "    batch_size=batch_size,\n",
    "    shuffle=True,\n",
    "    num_workers=4,\n",
    ")\n",
    "\n",
    "val_dataloader = DataLoader(\n",
    "    val_dataset,\n",
    "    batch_size=batch_size,\n",
    "    shuffle=False,\n",
    "    num_workers=4,\n",
    ")"
   ]
  },
  {
   "cell_type": "code",
   "execution_count": 12,
   "id": "e60c1f04-f350-4f9b-8960-1cca38e70a69",
   "metadata": {},
   "outputs": [
    {
     "name": "stdout",
     "output_type": "stream",
     "text": [
      "toxic_sent.shape: torch.Size([128, 10])\n",
      "neutral_sent.shape: torch.Size([128, 10])\n"
     ]
    }
   ],
   "source": [
    "# let's check if shape and everything is ok\n",
    "for batch in train_dataloader:\n",
    "    toxic_sent, neutral_sent = batch\n",
    "    print(\"toxic_sent.shape:\", toxic_sent.shape)\n",
    "    print(\"neutral_sent.shape:\", neutral_sent.shape)\n",
    "    break"
   ]
  },
  {
   "cell_type": "code",
   "execution_count": 13,
   "id": "dca808e2-529f-4c8e-b035-3b03ec7d053d",
   "metadata": {},
   "outputs": [
    {
     "data": {
      "text/plain": [
       "device(type='cuda')"
      ]
     },
     "execution_count": 13,
     "metadata": {},
     "output_type": "execute_result"
    }
   ],
   "source": [
    "device = torch.device('cuda' if torch.cuda.is_available() else 'cpu')\n",
    "device"
   ]
  },
  {
   "cell_type": "markdown",
   "id": "fc46dfbe-d834-48e7-ad09-c49c2a676386",
   "metadata": {},
   "source": [
    "# Load the Model\n",
    "\n",
    "- Transformer architerture"
   ]
  },
  {
   "cell_type": "code",
   "execution_count": 14,
   "id": "6c1113a1-d18c-43f3-94b1-1d44f02ac03a",
   "metadata": {},
   "outputs": [],
   "source": [
    "from src.models.transformer.encoder import Encoder\n",
    "from src.models.transformer.decoder import Decoder\n",
    "from src.models.transformer import Transformer"
   ]
  },
  {
   "cell_type": "code",
   "execution_count": 15,
   "id": "451a159a-dae5-487c-be50-c87b7407add1",
   "metadata": {},
   "outputs": [],
   "source": [
    "# configure some parameters for the model\n",
    "heads = 4\n",
    "hidden_dim = 256\n",
    "ff_expantion = 4\n",
    "max_size = MAX_SENT_SIZE\n",
    "\n",
    "## Encoder\n",
    "enc_input_dim = len(enc_vocab)\n",
    "enc_dropout = 0.1\n",
    "enc_num_layers = 3\n",
    "enc_padding_idx = enc_vocab['<pad>']\n",
    "\n",
    "## Decoder\n",
    "dec_output_dim = len(dec_vocab)\n",
    "dec_dropout = 0.1\n",
    "dec_num_layers = 3\n",
    "dec_padding_idx = dec_vocab['<pad>']"
   ]
  },
  {
   "cell_type": "code",
   "execution_count": 16,
   "id": "5b48dfdf-ba48-477c-ac62-2c512a69d86f",
   "metadata": {},
   "outputs": [
    {
     "name": "stderr",
     "output_type": "stream",
     "text": [
      "/usr/local/lib/python3.9/dist-packages/torch/nn/modules/lazy.py:180: UserWarning: Lazy modules are a new feature under heavy development so changes to the API or functionality can happen at any moment.\n",
      "  warnings.warn('Lazy modules are a new feature under heavy development '\n"
     ]
    }
   ],
   "source": [
    "# load the encoder and decoder for our model\n",
    "encoder = Encoder(\n",
    "    input_dim=enc_input_dim,\n",
    "    hidden_dim=hidden_dim,\n",
    "    num_layers=enc_num_layers,\n",
    "    heads=heads,\n",
    "    ff_expantion=ff_expantion,\n",
    "    dropout=enc_dropout,\n",
    "    device=device,\n",
    "    max_size=max_size,\n",
    "    vocab=enc_vocab,\n",
    ").to(device)\n",
    "\n",
    "decoder = Decoder(\n",
    "    output_dim=dec_output_dim,\n",
    "    hidden_dim=hidden_dim,\n",
    "    num_layers=dec_num_layers,\n",
    "    heads=heads,\n",
    "    ff_expantion=ff_expantion,\n",
    "    dropout=dec_dropout,\n",
    "    device=device,\n",
    "    max_size=max_size,\n",
    "    vocab=dec_vocab,\n",
    ").to(device)"
   ]
  },
  {
   "cell_type": "code",
   "execution_count": 17,
   "id": "fb68fa7c-f8ee-4667-9b20-a638de4fe311",
   "metadata": {},
   "outputs": [],
   "source": [
    "best_loss = float('inf')\n",
    "\n",
    "model = Transformer(\n",
    "    encoder=encoder,\n",
    "    decoder=decoder,\n",
    "    device=device,\n",
    "    max_sent_size=MAX_SENT_SIZE,\n",
    ").to(device)"
   ]
  },
  {
   "cell_type": "code",
   "execution_count": 19,
   "id": "088f446e-d95e-4812-949d-a3a5eb20ab6c",
   "metadata": {},
   "outputs": [],
   "source": [
    "optimizer = torch.optim.AdamW(model.parameters(), lr=5e-5)\n",
    "criterion = torch.nn.CrossEntropyLoss(ignore_index=decoder.padding_idx)"
   ]
  },
  {
   "cell_type": "code",
   "execution_count": 20,
   "id": "ae355174-b99f-403c-b926-def9bd694c4b",
   "metadata": {},
   "outputs": [
    {
     "name": "stderr",
     "output_type": "stream",
     "text": [
      "Training 1: 100%|██████████| 1233/1233 [00:30<00:00, 40.57it/s, loss=4.22]\n",
      "Evaluating 1: 100%|██████████| 79/79 [00:00<00:00, 122.01it/s, loss=3.31]\n",
      "Training 2: 100%|██████████| 1233/1233 [00:28<00:00, 42.56it/s, loss=3.21]\n",
      "Evaluating 2: 100%|██████████| 79/79 [00:00<00:00, 128.50it/s, loss=2.92]\n",
      "Training 3: 100%|██████████| 1233/1233 [00:29<00:00, 42.41it/s, loss=2.92]\n",
      "Evaluating 3: 100%|██████████| 79/79 [00:00<00:00, 123.09it/s, loss=2.7] \n",
      "Training 4: 100%|██████████| 1233/1233 [00:29<00:00, 41.77it/s, loss=2.72]\n",
      "Evaluating 4: 100%|██████████| 79/79 [00:00<00:00, 123.31it/s, loss=2.55]\n",
      "Training 5: 100%|██████████| 1233/1233 [00:29<00:00, 41.84it/s, loss=2.58]\n",
      "Evaluating 5: 100%|██████████| 79/79 [00:00<00:00, 120.42it/s, loss=2.43]\n",
      "Training 6: 100%|██████████| 1233/1233 [00:29<00:00, 41.75it/s, loss=2.46]\n",
      "Evaluating 6: 100%|██████████| 79/79 [00:00<00:00, 126.36it/s, loss=2.34]\n",
      "Training 7: 100%|██████████| 1233/1233 [00:29<00:00, 41.69it/s, loss=2.37]\n",
      "Evaluating 7: 100%|██████████| 79/79 [00:00<00:00, 118.84it/s, loss=2.27]\n",
      "Training 8: 100%|██████████| 1233/1233 [00:29<00:00, 41.38it/s, loss=2.29]\n",
      "Evaluating 8: 100%|██████████| 79/79 [00:00<00:00, 120.07it/s, loss=2.2] \n",
      "Training 9: 100%|██████████| 1233/1233 [00:29<00:00, 41.38it/s, loss=2.21]\n",
      "Evaluating 9: 100%|██████████| 79/79 [00:00<00:00, 125.94it/s, loss=2.14]\n",
      "Training 10: 100%|██████████| 1233/1233 [00:29<00:00, 41.95it/s, loss=2.15]\n",
      "Evaluating 10: 100%|██████████| 79/79 [00:00<00:00, 128.67it/s, loss=2.1] \n",
      "Training 11: 100%|██████████| 1233/1233 [00:30<00:00, 40.80it/s, loss=2.09]\n",
      "Evaluating 11: 100%|██████████| 79/79 [00:00<00:00, 119.25it/s, loss=2.05]\n",
      "Training 12: 100%|██████████| 1233/1233 [00:29<00:00, 42.07it/s, loss=2.03]\n",
      "Evaluating 12: 100%|██████████| 79/79 [00:00<00:00, 126.58it/s, loss=2.01]\n",
      "Training 13: 100%|██████████| 1233/1233 [00:29<00:00, 41.50it/s, loss=1.99]\n",
      "Evaluating 13: 100%|██████████| 79/79 [00:00<00:00, 119.20it/s, loss=1.97]\n",
      "Training 14: 100%|██████████| 1233/1233 [00:29<00:00, 41.40it/s, loss=1.94]\n",
      "Evaluating 14: 100%|██████████| 79/79 [00:00<00:00, 126.75it/s, loss=1.95]\n",
      "Training 15: 100%|██████████| 1233/1233 [00:29<00:00, 41.95it/s, loss=1.9]\n",
      "Evaluating 15: 100%|██████████| 79/79 [00:00<00:00, 120.64it/s, loss=1.92]\n",
      "Training 16: 100%|██████████| 1233/1233 [00:29<00:00, 41.88it/s, loss=1.86]\n",
      "Evaluating 16: 100%|██████████| 79/79 [00:00<00:00, 126.70it/s, loss=1.89]\n",
      "Training 17: 100%|██████████| 1233/1233 [00:29<00:00, 41.75it/s, loss=1.82]\n",
      "Evaluating 17: 100%|██████████| 79/79 [00:00<00:00, 124.31it/s, loss=1.87]\n",
      "Training 18: 100%|██████████| 1233/1233 [00:29<00:00, 42.10it/s, loss=1.79]\n",
      "Evaluating 18: 100%|██████████| 79/79 [00:00<00:00, 124.41it/s, loss=1.85]\n",
      "Training 19: 100%|██████████| 1233/1233 [00:29<00:00, 42.20it/s, loss=1.76]\n",
      "Evaluating 19: 100%|██████████| 79/79 [00:00<00:00, 125.35it/s, loss=1.83]\n",
      "Training 20: 100%|██████████| 1233/1233 [00:29<00:00, 41.61it/s, loss=1.73]\n",
      "Evaluating 20: 100%|██████████| 79/79 [00:00<00:00, 124.24it/s, loss=1.81]\n"
     ]
    }
   ],
   "source": [
    "from src.models.train_model import train\n",
    "\n",
    "best_loss = train(\n",
    "    model=model,\n",
    "    loaders=(train_dataloader, val_dataloader),\n",
    "    optimizer=optimizer,\n",
    "    criterion=criterion,\n",
    "    epochs=20,\n",
    "    device=device,\n",
    "    best_loss=best_loss,\n",
    "    ckpt_path=MODEL_CHECKPOINT,\n",
    ")"
   ]
  },
  {
   "cell_type": "code",
   "execution_count": 21,
   "id": "7dc1b6ad-901d-4582-84c8-79ba34fdcebc",
   "metadata": {},
   "outputs": [],
   "source": [
    "# let's load the model and predict\n",
    "model = torch.load(MODEL_CHECKPOINT)\n",
    "model.to(device)\n",
    "model.eval()\n",
    "None"
   ]
  },
  {
   "cell_type": "code",
   "execution_count": 27,
   "id": "e3f96417-66e1-4061-ba49-55207e953142",
   "metadata": {},
   "outputs": [
    {
     "name": "stdout",
     "output_type": "stream",
     "text": [
      "toxic_sent: it is going to hell, baby.\n",
      "neutral_sent: it is going down, baby.\n",
      "predictions:\n",
      "\t1) ['<sos>', 'it', 'is', 'going', 'to', 'be', ',', 'baby', '.', '<eos>']\n",
      "\t2) ['<sos>', 'it', 'is', 'going', 'to', 'hell', ',', 'baby', '.', '<eos>']\n",
      "\t3) ['<sos>', 'it', 'is', 'going', 'to', 'me', ',', 'baby', '.', '<eos>']\n",
      "\n",
      "\n",
      "toxic_sent: do not be such a pussy.\n",
      "neutral_sent: do not be such a downer.\n",
      "predictions:\n",
      "\t1) ['<sos>', 'do', 'not', 'be', 'such', 'a', 'chicken', '.', '<eos>']\n",
      "\t2) ['<sos>', 'do', 'not', 'be', 'such', 'a', 'cat', '.', '<eos>']\n",
      "\t3) ['<sos>', 'do', 'not', 'be', 'such', 'a', 'quitter', '.', '<eos>']\n",
      "\n",
      "\n",
      "toxic_sent: i do not fuckin' see it.\n",
      "neutral_sent: i do not see it.\n",
      "predictions:\n",
      "\t1) ['<sos>', 'i', 'do', 'not', 'see', 'it', '.', '<eos>']\n",
      "\t2) ['<sos>', 'i', 'do', 'not', 'see', 'that', '.', '<eos>']\n",
      "\t3) ['<sos>', 'i', 'do', 'not', 'see', 'anything', '.', '<eos>']\n",
      "\n",
      "\n",
      "toxic_sent: i screwed up.\n",
      "neutral_sent: i messed up, man.\n",
      "predictions:\n",
      "\t1) ['<sos>', 'i', 'messed', 'up', '.', '<eos>']\n",
      "\t2) ['<sos>', 'i', 'screwed', 'up', '.', '<eos>']\n",
      "\t3) ['<sos>', 'i', 'screwed', 'it', 'up', '.', '<eos>']\n",
      "\n",
      "\n",
      "toxic_sent: you il end up dead like them.\n",
      "neutral_sent: you will end up like them.\n",
      "predictions:\n",
      "\t1) ['<sos>', 'you', 'will', 'end', 'them', 'like', 'dead', '.', '<eos>']\n",
      "\t2) ['<sos>', 'you', 'will', 'end', 'it', 'like', 'dead', '.', '<eos>']\n",
      "\t3) ['<sos>', 'you', 'will', 'end', 'them', 'all', 'like', 'dead', '.', '<eos>']\n",
      "\n",
      "\n",
      "toxic_sent: killing machines . . .\n",
      "neutral_sent: killing machines\n",
      "predictions:\n",
      "\t1) ['<sos>', 'it', 'is', 'killing', '.', '<eos>']\n",
      "\t2) ['<sos>', 'killing', '.', '<eos>']\n",
      "\t3) ['<sos>', 'he', 'is', 'killing', '.', '<eos>']\n",
      "\n",
      "\n",
      "toxic_sent: you are supposed to be dead.\n",
      "neutral_sent: about you being dead.\n",
      "predictions:\n",
      "\t1) ['<sos>', 'you', 'are', 'supposed', 'to', 'be', 'dead', '.', '<eos>']\n",
      "\t2) ['<sos>', 'you', 'are', 'supposed', 'to', 'be', 'gone', '.', '<eos>']\n",
      "\t3) ['<sos>', 'you', 'were', 'supposed', 'to', 'be', 'dead', '.', '<eos>']\n",
      "\n",
      "\n",
      "toxic_sent: bugs, dirt, bitch.\n",
      "neutral_sent: bugs, dirt, twigs.\n",
      "predictions:\n",
      "\t1) ['<sos>', 'bugs', ',', 'dirt', '.', '<eos>']\n",
      "\t2) ['<sos>', 'bugs', ',', '<unk>', '.', '<eos>']\n",
      "\t3) ['<sos>', 'bugs', ',', 'dirt', '!', '<eos>']\n",
      "\n",
      "\n",
      "toxic_sent: hit him with a chair\n",
      "neutral_sent: did you hit him with a chair?\n",
      "predictions:\n",
      "\t1) ['<sos>', 'hit', 'him', 'with', 'a', 'chair', '.', '<eos>']\n",
      "\t2) ['<sos>', 'hit', 'him', 'with', 'a', 'chair', '<eos>']\n",
      "\t3) ['<sos>', 'give', 'him', 'a', 'chair', '.', '<eos>']\n",
      "\n",
      "\n",
      "toxic_sent: what the hell are you getting at?\n",
      "neutral_sent: what on earth did you think?\n",
      "predictions:\n",
      "\t1) ['<sos>', 'what', 'are', 'you', 'looking', 'at', '?', '<eos>']\n",
      "\t2) ['<sos>', 'what', 'are', 'you', 'going', 'on', '?', '<eos>']\n",
      "\t3) ['<sos>', 'what', 'on', 'earth', 'are', 'you', 'looking', 'at', '?', '<eos>']\n",
      "\n",
      "\n"
     ]
    }
   ],
   "source": [
    "from nltk.tokenize.treebank import TreebankWordDetokenizer\n",
    "detokenizer = TreebankWordDetokenizer()\n",
    "\n",
    "# let's see how our model works\n",
    "num_examples = 10\n",
    "num_sentence = 3\n",
    "dataset = val_dataset\n",
    "for idx in range(num_examples):\n",
    "    idx = np.random.randint(0, len(dataset))\n",
    "    toxic_sent = detokenizer.detokenize(dataset.df.loc[idx, 'toxic_sent'])\n",
    "    neutral_sent = detokenizer.detokenize(dataset.df.loc[idx, 'neutral_sent'])\n",
    "    \n",
    "    print('toxic_sent:', toxic_sent)\n",
    "    print('neutral_sent:', neutral_sent)\n",
    "    \n",
    "    # let's use beam search\n",
    "    # i turned off postprocess_text on purpose \n",
    "    # to see everything (postprocess_text removes some tokens and detokenize the sentence)\n",
    "    preds = model.predict(\n",
    "        toxic_sent,\n",
    "        use_beam_search=True,\n",
    "        num_candidates=num_sentence,\n",
    "        post_process_text=False\n",
    "    )\n",
    "    print(\"predictions:\")\n",
    "    for i in range(num_sentence):\n",
    "        print(f\"\\t{i+1})\", preds[i])\n",
    "    print(\"\\n\")"
   ]
  },
  {
   "cell_type": "markdown",
   "id": "e59e2c68-5448-450b-bdd0-85e0f6884ba1",
   "metadata": {},
   "source": [
    "## Let's visualize the attention weights"
   ]
  },
  {
   "cell_type": "code",
   "execution_count": 40,
   "id": "e347fa57-9a1a-4169-b642-62516705049c",
   "metadata": {},
   "outputs": [
    {
     "data": {
      "image/png": "[encoded data removed]",
      "text/plain": [
       "<Figure size 1500x1000 with 4 Axes>"
      ]
     },
     "metadata": {},
     "output_type": "display_data"
    }
   ],
   "source": [
    "from src.visualization.visualize import display_attention\n",
    "\n",
    "# let's take `idx`-th examle from val_dataset\n",
    "idx = 9\n",
    "src, trg = val_dataset[idx]\n",
    "src = src.to(device).unsqueeze(0)\n",
    "trg = trg.to(device).unsqueeze(0)\n",
    "pred, attention = model.predict(src, return_attention=True, post_process_text=False)\n",
    "\n",
    "src = src.cpu().detach().numpy()[0]\n",
    "src = enc_vocab.lookup_tokens(src)\n",
    "display_attention(src, pred, attention, n_heads=4, n_rows=2, n_cols=2)"
   ]
  }
 ],
 "metadata": {
  "kernelspec": {
   "display_name": "Python 3 (ipykernel)",
   "language": "python",
   "name": "python3"
  },
  "language_info": {
   "codemirror_mode": {
    "name": "ipython",
    "version": 3
   },
   "file_extension": ".py",
   "mimetype": "text/x-python",
   "name": "python",
   "nbconvert_exporter": "python",
   "pygments_lexer": "ipython3",
   "version": "3.9.16"
  }
 },
 "nbformat": 4,
 "nbformat_minor": 5
}
